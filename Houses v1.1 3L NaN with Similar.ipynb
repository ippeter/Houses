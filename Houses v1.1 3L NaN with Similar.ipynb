{
 "cells": [
  {
   "cell_type": "code",
   "execution_count": 3779,
   "metadata": {
    "scrolled": true
   },
   "outputs": [
    {
     "name": "stdout",
     "output_type": "stream",
     "text": [
      "Populating the interactive namespace from numpy and matplotlib\n"
     ]
    },
    {
     "name": "stderr",
     "output_type": "stream",
     "text": [
      "C:\\ProgramData\\Anaconda3\\lib\\site-packages\\IPython\\core\\magics\\pylab.py:160: UserWarning: pylab import has clobbered these variables: ['dist']\n",
      "`%matplotlib` prevents importing * from pylab and numpy\n",
      "  \"\\n`%matplotlib` prevents importing * from pylab and numpy\"\n"
     ]
    }
   ],
   "source": [
    "import pandas as pd\n",
    "import numpy as np\n",
    "import math as mt\n",
    "\n",
    "import tensorflow as tf\n",
    "from tensorflow.python.framework import ops\n",
    "\n",
    "from sklearn.metrics import accuracy_score, r2_score, mean_squared_error, mean_absolute_error\n",
    "from sklearn.metrics import precision_score\n",
    "from sklearn.metrics import recall_score\n",
    "from sklearn.metrics import roc_curve, roc_auc_score\n",
    "\n",
    "from sklearn.ensemble import GradientBoostingRegressor, RandomForestRegressor\n",
    "from sklearn.neighbors import KNeighborsRegressor\n",
    "from sklearn.tree import DecisionTreeRegressor\n",
    "from sklearn.cluster import KMeans\n",
    "from sklearn.linear_model import Ridge, LogisticRegression\n",
    "from sklearn.kernel_ridge import KernelRidge\n",
    "from sklearn.svm import SVR\n",
    "\n",
    "from sklearn.feature_selection import SelectKBest, mutual_info_regression\n",
    "from sklearn.pipeline import Pipeline\n",
    "\n",
    "import xgboost\n",
    "\n",
    "from scipy.stats import pearsonr\n",
    "\n",
    "from sklearn.model_selection import StratifiedKFold, GridSearchCV, train_test_split\n",
    "from sklearn.preprocessing import MinMaxScaler, LabelEncoder, OneHotEncoder, LabelBinarizer\n",
    "\n",
    "%pylab inline"
   ]
  },
  {
   "cell_type": "code",
   "execution_count": 3780,
   "metadata": {
    "collapsed": true
   },
   "outputs": [],
   "source": [
    "# Load House train data\n",
    "train = pd.read_csv('train.csv')"
   ]
  },
  {
   "cell_type": "code",
   "execution_count": 3781,
   "metadata": {
    "collapsed": true
   },
   "outputs": [],
   "source": [
    "# Put the labels aside\n",
    "labels_orig = train.SalePrice.as_matrix().reshape(-1, 1)"
   ]
  },
  {
   "cell_type": "code",
   "execution_count": 3782,
   "metadata": {},
   "outputs": [
    {
     "data": {
      "image/png": "[encoded data removed]",
      "text/plain": [
       "<matplotlib.figure.Figure at 0x12502160>"
      ]
     },
     "metadata": {},
     "output_type": "display_data"
    }
   ],
   "source": [
    "# Посмотрим на гистограмму цен\n",
    "#plt.subplot(1, 2, 2)\n",
    "plt.figure(figsize=(15, 7))\n",
    "plt.hist(train.SalePrice, bins=50)\n",
    "#plt.ylabel('Mean Absolute Error')\n",
    "#plt.xlabel('Iterations')\n",
    "plt.title(\"Sale Price Distribution\")\n",
    "\n",
    "plt.show() "
   ]
  },
  {
   "cell_type": "code",
   "execution_count": 3783,
   "metadata": {
    "scrolled": true
   },
   "outputs": [
    {
     "name": "stdout",
     "output_type": "stream",
     "text": [
      "LotFrontage\n",
      "Alley\n",
      "MasVnrType\n",
      "MasVnrArea\n",
      "BsmtQual\n",
      "BsmtCond\n",
      "BsmtExposure\n",
      "BsmtFinType1\n",
      "BsmtFinType2\n",
      "Electrical\n",
      "FireplaceQu\n",
      "GarageType\n",
      "GarageYrBlt\n",
      "GarageFinish\n",
      "GarageQual\n",
      "GarageCond\n",
      "PoolQC\n",
      "Fence\n",
      "MiscFeature\n",
      "Total 19 columns with NaNs\n"
     ]
    }
   ],
   "source": [
    "# Which columns have NaN values?\n",
    "count = 0\n",
    "\n",
    "for col in train.columns:\n",
    "    if(train[col].isnull().sum() > 0):\n",
    "        print(col)\n",
    "        count = count + 1\n",
    "        \n",
    "print(\"Total\", count, \"columns with NaNs\")"
   ]
  },
  {
   "cell_type": "code",
   "execution_count": 3784,
   "metadata": {},
   "outputs": [],
   "source": [
    "# Поиграем с NaN еще раз\n",
    "#train[train.GarageType.isnull()][['GarageType', 'GarageYrBlt', 'GarageFinish', 'GarageQual', 'GarageCond']].sum().sum()\n",
    "#train[train.FireplaceQu.isnull()][['Fireplaces', 'FireplaceQu']].sum().sum()\n",
    "#train[train.BsmtExposure.isnull()][['Id', 'BsmtQual', 'BsmtCond', 'BsmtExposure', 'BsmtFinType1', 'BsmtFinType2', 'BsmtFinSF1', 'BsmtFinSF2', 'BsmtUnfSF', 'TotalBsmtSF']] #.sum().sum()\n",
    "#train[train.MasVnrType.isnull()][['MasVnrType', 'MasVnrArea']] #.sum().sum()\n",
    "#train[train.Alley.isnull()][['LotFrontage', 'Alley']] #.sum().sum()"
   ]
  },
  {
   "cell_type": "code",
   "execution_count": null,
   "metadata": {},
   "outputs": [],
   "source": []
  },
  {
   "cell_type": "code",
   "execution_count": 3785,
   "metadata": {},
   "outputs": [],
   "source": [
    "#train = train[train.YrSold != 2008]"
   ]
  },
  {
   "cell_type": "code",
   "execution_count": 3786,
   "metadata": {
    "collapsed": true
   },
   "outputs": [],
   "source": [
    "# Define variables\n",
    "cols = []\n",
    "cols_count = 0\n",
    "\n",
    "# Делать предсказания по наиболее коррелирующим фичам\n",
    "use_fe_1 = False\n",
    "fe_1_cols = []\n",
    "\n",
    "# Handling years as categorial \n",
    "use_fe_2 = True\n",
    "\n",
    "# Using kind of a total sum of square feet\n",
    "use_fe_3 = True\n",
    "\n",
    "# Using new feature of Clustering\n",
    "use_fe_4 = True"
   ]
  },
  {
   "cell_type": "markdown",
   "metadata": {},
   "source": [
    "### Feature Engineering 3: Additional Features\n",
    "#### Total Living Area  "
   ]
  },
  {
   "cell_type": "code",
   "execution_count": 3787,
   "metadata": {},
   "outputs": [],
   "source": [
    "if (use_fe_3):\n",
    "    train['LivingAreaSF'] = train['1stFlrSF'] + train['2ndFlrSF'] + train['TotalBsmtSF']\n",
    "\n",
    "    print(pearsonr(train['LivingAreaSF'].values.reshape(-1, 1), train.SalePrice.values.reshape(-1, 1))[0][0])"
   ]
  },
  {
   "cell_type": "code",
   "execution_count": null,
   "metadata": {
    "collapsed": true
   },
   "outputs": [],
   "source": []
  },
  {
   "cell_type": "markdown",
   "metadata": {},
   "source": [
    "#### Crisis Indicator  \n",
    "Если поставить индикатор на два наихудших месяца, то это ухудшает baseline\n",
    "Выключаем."
   ]
  },
  {
   "cell_type": "code",
   "execution_count": null,
   "metadata": {
    "collapsed": true
   },
   "outputs": [],
   "source": []
  },
  {
   "cell_type": "code",
   "execution_count": 3788,
   "metadata": {},
   "outputs": [],
   "source": [
    "if (False):\n",
    "    train['Crisis'] = 0\n",
    "    train.loc[(train.YrSold == 2007) & (train.MoSold == 10), 'Crisis'] = 1\n",
    "    train.loc[(train.YrSold == 2008) & (train.MoSold == 1), 'Crisis'] = 1\n",
    "\n",
    "    train.Crisis.sum()"
   ]
  },
  {
   "cell_type": "code",
   "execution_count": null,
   "metadata": {},
   "outputs": [],
   "source": []
  },
  {
   "cell_type": "code",
   "execution_count": null,
   "metadata": {
    "collapsed": true
   },
   "outputs": [],
   "source": []
  },
  {
   "cell_type": "markdown",
   "metadata": {},
   "source": [
    "### Время Года"
   ]
  },
  {
   "cell_type": "code",
   "execution_count": 3789,
   "metadata": {
    "collapsed": true
   },
   "outputs": [],
   "source": [
    "#train['Winter'] = 0\n",
    "#train['Spring'] = 0\n",
    "#train['Summer'] = 0\n",
    "#train['Autumn'] = 0\n",
    "\n",
    "#train.loc[(train.MoSold == 12) | (train.MoSold == 1) | (train.MoSold == 2), 'Winter'] = 1\n",
    "#train.loc[(train.MoSold == 3) | (train.MoSold == 4) | (train.MoSold == 5), 'Spring'] = 1\n",
    "#train.loc[(train.MoSold == 6) | (train.MoSold == 7) | (train.MoSold == 8), 'Summer'] = 1\n",
    "#train.loc[(train.MoSold == 9) | (train.MoSold == 10) | (train.MoSold == 11), 'Autumn'] = 1"
   ]
  },
  {
   "cell_type": "markdown",
   "metadata": {},
   "source": [
    "### Remove Outliers  \n",
    "Три записи, на которых сильнее всего ошибается алгоритм: Id = [775, 692, 314]  \n",
    "Если их убрать, то качество GBM сразу падает"
   ]
  },
  {
   "cell_type": "code",
   "execution_count": 3790,
   "metadata": {},
   "outputs": [],
   "source": [
    "#train = train[train.Id != 775]\n",
    "#train = train[train.Id != 692]\n",
    "#train = train[train.Id != 314]"
   ]
  },
  {
   "cell_type": "markdown",
   "metadata": {},
   "source": [
    "### Data Preprocessing"
   ]
  },
  {
   "cell_type": "code",
   "execution_count": 3791,
   "metadata": {},
   "outputs": [
    {
     "data": {
      "text/html": [
       "<div>\n",
       "<style>\n",
       "    .dataframe thead tr:only-child th {\n",
       "        text-align: right;\n",
       "    }\n",
       "\n",
       "    .dataframe thead th {\n",
       "        text-align: left;\n",
       "    }\n",
       "\n",
       "    .dataframe tbody tr th {\n",
       "        vertical-align: top;\n",
       "    }\n",
       "</style>\n",
       "<table border=\"1\" class=\"dataframe\">\n",
       "  <thead>\n",
       "    <tr style=\"text-align: right;\">\n",
       "      <th></th>\n",
       "      <th>Id</th>\n",
       "      <th>MSSubClass</th>\n",
       "      <th>MSZoning</th>\n",
       "      <th>LotFrontage</th>\n",
       "      <th>LotArea</th>\n",
       "      <th>Street</th>\n",
       "      <th>Alley</th>\n",
       "      <th>LotShape</th>\n",
       "      <th>LandContour</th>\n",
       "    </tr>\n",
       "  </thead>\n",
       "  <tbody>\n",
       "    <tr>\n",
       "      <th>0</th>\n",
       "      <td>1</td>\n",
       "      <td>60</td>\n",
       "      <td>RL</td>\n",
       "      <td>65.0</td>\n",
       "      <td>8450</td>\n",
       "      <td>Pave</td>\n",
       "      <td>NaN</td>\n",
       "      <td>Reg</td>\n",
       "      <td>Lvl</td>\n",
       "    </tr>\n",
       "    <tr>\n",
       "      <th>1</th>\n",
       "      <td>2</td>\n",
       "      <td>20</td>\n",
       "      <td>RL</td>\n",
       "      <td>80.0</td>\n",
       "      <td>9600</td>\n",
       "      <td>Pave</td>\n",
       "      <td>NaN</td>\n",
       "      <td>Reg</td>\n",
       "      <td>Lvl</td>\n",
       "    </tr>\n",
       "    <tr>\n",
       "      <th>2</th>\n",
       "      <td>3</td>\n",
       "      <td>60</td>\n",
       "      <td>RL</td>\n",
       "      <td>68.0</td>\n",
       "      <td>11250</td>\n",
       "      <td>Pave</td>\n",
       "      <td>NaN</td>\n",
       "      <td>IR1</td>\n",
       "      <td>Lvl</td>\n",
       "    </tr>\n",
       "    <tr>\n",
       "      <th>3</th>\n",
       "      <td>4</td>\n",
       "      <td>70</td>\n",
       "      <td>RL</td>\n",
       "      <td>60.0</td>\n",
       "      <td>9550</td>\n",
       "      <td>Pave</td>\n",
       "      <td>NaN</td>\n",
       "      <td>IR1</td>\n",
       "      <td>Lvl</td>\n",
       "    </tr>\n",
       "    <tr>\n",
       "      <th>4</th>\n",
       "      <td>5</td>\n",
       "      <td>60</td>\n",
       "      <td>RL</td>\n",
       "      <td>84.0</td>\n",
       "      <td>14260</td>\n",
       "      <td>Pave</td>\n",
       "      <td>NaN</td>\n",
       "      <td>IR1</td>\n",
       "      <td>Lvl</td>\n",
       "    </tr>\n",
       "  </tbody>\n",
       "</table>\n",
       "</div>"
      ],
      "text/plain": [
       "   Id  MSSubClass MSZoning  LotFrontage  LotArea Street Alley LotShape  \\\n",
       "0   1          60       RL         65.0     8450   Pave   NaN      Reg   \n",
       "1   2          20       RL         80.0     9600   Pave   NaN      Reg   \n",
       "2   3          60       RL         68.0    11250   Pave   NaN      IR1   \n",
       "3   4          70       RL         60.0     9550   Pave   NaN      IR1   \n",
       "4   5          60       RL         84.0    14260   Pave   NaN      IR1   \n",
       "\n",
       "  LandContour  \n",
       "0         Lvl  \n",
       "1         Lvl  \n",
       "2         Lvl  \n",
       "3         Lvl  \n",
       "4         Lvl  "
      ]
     },
     "execution_count": 3791,
     "metadata": {},
     "output_type": "execute_result"
    }
   ],
   "source": [
    "train.iloc[:, :9].head()"
   ]
  },
  {
   "cell_type": "code",
   "execution_count": 3792,
   "metadata": {
    "collapsed": true
   },
   "outputs": [],
   "source": [
    "# MSSubClass\n",
    "enc = OneHotEncoder(sparse=False)\n",
    "features = enc.fit_transform(train.MSSubClass.values.reshape(-1, 1))\n",
    "cols_count = cols_count + 1\n",
    "\n",
    "# MSZoning\n",
    "#train.MSZoning.fillna(\"RM\", inplace=True)\n",
    "train.MSZoning.fillna(\"Unknown\", inplace=True)\n",
    "features = np.concatenate( [features, pd.get_dummies(train.MSZoning).as_matrix()], axis=1 )\n",
    "cols_count = cols_count + 1\n",
    "\n",
    "# LotFrontage\n",
    "train.LotFrontage.fillna(0.0, inplace=True)\n",
    "features = np.concatenate( [features, train.LotFrontage.as_matrix().reshape(-1, 1)], axis=1 )\n",
    "cols_count = cols_count + 1\n",
    "\n",
    "# LotArea\n",
    "features = np.concatenate( [features, train.LotArea.as_matrix().reshape(-1, 1)], axis=1 )\n",
    "cols_count = cols_count + 1\n",
    "\n",
    "# Street\n",
    "features = np.concatenate( [features, pd.get_dummies(train.Street).as_matrix()], axis=1 )\n",
    "cols_count = cols_count + 1\n",
    "\n",
    "# Alley\n",
    "train.Alley.fillna(\"NA\", inplace=True)\n",
    "features = np.concatenate( [features, pd.get_dummies(train.Alley).as_matrix()], axis=1 )\n",
    "cols_count = cols_count + 1\n",
    "\n",
    "# LotShape\n",
    "features = np.concatenate( [features, pd.get_dummies(train.LotShape).as_matrix()], axis=1 )\n",
    "cols_count = cols_count + 1\n",
    "\n",
    "# LandContour\n",
    "features = np.concatenate( [features, pd.get_dummies(train.LandContour).as_matrix()], axis=1 )\n",
    "cols_count = cols_count + 1"
   ]
  },
  {
   "cell_type": "code",
   "execution_count": 3793,
   "metadata": {},
   "outputs": [
    {
     "data": {
      "text/html": [
       "<div>\n",
       "<style>\n",
       "    .dataframe thead tr:only-child th {\n",
       "        text-align: right;\n",
       "    }\n",
       "\n",
       "    .dataframe thead th {\n",
       "        text-align: left;\n",
       "    }\n",
       "\n",
       "    .dataframe tbody tr th {\n",
       "        vertical-align: top;\n",
       "    }\n",
       "</style>\n",
       "<table border=\"1\" class=\"dataframe\">\n",
       "  <thead>\n",
       "    <tr style=\"text-align: right;\">\n",
       "      <th></th>\n",
       "      <th>Utilities</th>\n",
       "      <th>LotConfig</th>\n",
       "      <th>LandSlope</th>\n",
       "      <th>Neighborhood</th>\n",
       "      <th>Condition1</th>\n",
       "      <th>Condition2</th>\n",
       "      <th>BldgType</th>\n",
       "      <th>HouseStyle</th>\n",
       "      <th>OverallQual</th>\n",
       "      <th>OverallCond</th>\n",
       "    </tr>\n",
       "  </thead>\n",
       "  <tbody>\n",
       "    <tr>\n",
       "      <th>0</th>\n",
       "      <td>AllPub</td>\n",
       "      <td>Inside</td>\n",
       "      <td>Gtl</td>\n",
       "      <td>CollgCr</td>\n",
       "      <td>Norm</td>\n",
       "      <td>Norm</td>\n",
       "      <td>1Fam</td>\n",
       "      <td>2Story</td>\n",
       "      <td>7</td>\n",
       "      <td>5</td>\n",
       "    </tr>\n",
       "    <tr>\n",
       "      <th>1</th>\n",
       "      <td>AllPub</td>\n",
       "      <td>FR2</td>\n",
       "      <td>Gtl</td>\n",
       "      <td>Veenker</td>\n",
       "      <td>Feedr</td>\n",
       "      <td>Norm</td>\n",
       "      <td>1Fam</td>\n",
       "      <td>1Story</td>\n",
       "      <td>6</td>\n",
       "      <td>8</td>\n",
       "    </tr>\n",
       "    <tr>\n",
       "      <th>2</th>\n",
       "      <td>AllPub</td>\n",
       "      <td>Inside</td>\n",
       "      <td>Gtl</td>\n",
       "      <td>CollgCr</td>\n",
       "      <td>Norm</td>\n",
       "      <td>Norm</td>\n",
       "      <td>1Fam</td>\n",
       "      <td>2Story</td>\n",
       "      <td>7</td>\n",
       "      <td>5</td>\n",
       "    </tr>\n",
       "    <tr>\n",
       "      <th>3</th>\n",
       "      <td>AllPub</td>\n",
       "      <td>Corner</td>\n",
       "      <td>Gtl</td>\n",
       "      <td>Crawfor</td>\n",
       "      <td>Norm</td>\n",
       "      <td>Norm</td>\n",
       "      <td>1Fam</td>\n",
       "      <td>2Story</td>\n",
       "      <td>7</td>\n",
       "      <td>5</td>\n",
       "    </tr>\n",
       "    <tr>\n",
       "      <th>4</th>\n",
       "      <td>AllPub</td>\n",
       "      <td>FR2</td>\n",
       "      <td>Gtl</td>\n",
       "      <td>NoRidge</td>\n",
       "      <td>Norm</td>\n",
       "      <td>Norm</td>\n",
       "      <td>1Fam</td>\n",
       "      <td>2Story</td>\n",
       "      <td>8</td>\n",
       "      <td>5</td>\n",
       "    </tr>\n",
       "  </tbody>\n",
       "</table>\n",
       "</div>"
      ],
      "text/plain": [
       "  Utilities LotConfig LandSlope Neighborhood Condition1 Condition2 BldgType  \\\n",
       "0    AllPub    Inside       Gtl      CollgCr       Norm       Norm     1Fam   \n",
       "1    AllPub       FR2       Gtl      Veenker      Feedr       Norm     1Fam   \n",
       "2    AllPub    Inside       Gtl      CollgCr       Norm       Norm     1Fam   \n",
       "3    AllPub    Corner       Gtl      Crawfor       Norm       Norm     1Fam   \n",
       "4    AllPub       FR2       Gtl      NoRidge       Norm       Norm     1Fam   \n",
       "\n",
       "  HouseStyle  OverallQual  OverallCond  \n",
       "0     2Story            7            5  \n",
       "1     1Story            6            8  \n",
       "2     2Story            7            5  \n",
       "3     2Story            7            5  \n",
       "4     2Story            8            5  "
      ]
     },
     "execution_count": 3793,
     "metadata": {},
     "output_type": "execute_result"
    }
   ],
   "source": [
    "train.iloc[:, 9:19].head()"
   ]
  },
  {
   "cell_type": "code",
   "execution_count": 3794,
   "metadata": {
    "collapsed": true
   },
   "outputs": [],
   "source": [
    "# Utilities\n",
    "#train.Utilities.fillna(\"AllPub\", inplace=True)\n",
    "train.Utilities.fillna(\"Unknown\", inplace=True)\n",
    "features = np.concatenate( [features, pd.get_dummies(train.Utilities).as_matrix()], axis=1 )\n",
    "cols_count = cols_count + 1\n",
    "\n",
    "# LotConfig\n",
    "features = np.concatenate( [features, pd.get_dummies(train.LotConfig).as_matrix()], axis=1 )\n",
    "cols_count = cols_count + 1\n",
    "\n",
    "# LandSlope\n",
    "features = np.concatenate( [features, pd.get_dummies(train.LandSlope).as_matrix()], axis=1 )\n",
    "cols_count = cols_count + 1\n",
    "\n",
    "# Neighborhood \n",
    "features = np.concatenate( [features, pd.get_dummies(train.Neighborhood).as_matrix()], axis=1 )\n",
    "cols_count = cols_count + 1\n",
    "\n",
    "# Condition1\n",
    "features = np.concatenate( [features, pd.get_dummies(train.Condition1).as_matrix()], axis=1 )\n",
    "cols_count = cols_count + 1\n",
    "\n",
    "# Condition2\n",
    "features = np.concatenate( [features, pd.get_dummies(train.Condition2).as_matrix()], axis=1 )\n",
    "cols_count = cols_count + 1\n",
    "\n",
    "# BldgType\n",
    "features = np.concatenate( [features, pd.get_dummies(train.BldgType).as_matrix()], axis=1 )\n",
    "cols_count = cols_count + 1\n",
    "\n",
    "# HouseStyle\n",
    "features = np.concatenate( [features, pd.get_dummies(train.HouseStyle).as_matrix()], axis=1 )\n",
    "cols_count = cols_count + 1\n",
    "\n",
    "# OverallQual\n",
    "enc = OneHotEncoder(sparse=False)\n",
    "features = np.concatenate( [features, enc.fit_transform(train.OverallQual.values.reshape(-1, 1))], axis=1 )\n",
    "cols_count = cols_count + 1\n",
    "\n",
    "# OverallCond\n",
    "enc = OneHotEncoder(sparse=False)\n",
    "features = np.concatenate( [features, enc.fit_transform(train.OverallCond.values.reshape(-1, 1))], axis=1 )\n",
    "cols_count = cols_count + 1"
   ]
  },
  {
   "cell_type": "code",
   "execution_count": 3795,
   "metadata": {},
   "outputs": [
    {
     "data": {
      "text/html": [
       "<div>\n",
       "<style>\n",
       "    .dataframe thead tr:only-child th {\n",
       "        text-align: right;\n",
       "    }\n",
       "\n",
       "    .dataframe thead th {\n",
       "        text-align: left;\n",
       "    }\n",
       "\n",
       "    .dataframe tbody tr th {\n",
       "        vertical-align: top;\n",
       "    }\n",
       "</style>\n",
       "<table border=\"1\" class=\"dataframe\">\n",
       "  <thead>\n",
       "    <tr style=\"text-align: right;\">\n",
       "      <th></th>\n",
       "      <th>YearBuilt</th>\n",
       "      <th>YearRemodAdd</th>\n",
       "      <th>RoofStyle</th>\n",
       "      <th>RoofMatl</th>\n",
       "      <th>Exterior1st</th>\n",
       "      <th>Exterior2nd</th>\n",
       "      <th>MasVnrType</th>\n",
       "      <th>MasVnrArea</th>\n",
       "      <th>ExterQual</th>\n",
       "      <th>ExterCond</th>\n",
       "    </tr>\n",
       "  </thead>\n",
       "  <tbody>\n",
       "    <tr>\n",
       "      <th>0</th>\n",
       "      <td>2003</td>\n",
       "      <td>2003</td>\n",
       "      <td>Gable</td>\n",
       "      <td>CompShg</td>\n",
       "      <td>VinylSd</td>\n",
       "      <td>VinylSd</td>\n",
       "      <td>BrkFace</td>\n",
       "      <td>196.0</td>\n",
       "      <td>Gd</td>\n",
       "      <td>TA</td>\n",
       "    </tr>\n",
       "    <tr>\n",
       "      <th>1</th>\n",
       "      <td>1976</td>\n",
       "      <td>1976</td>\n",
       "      <td>Gable</td>\n",
       "      <td>CompShg</td>\n",
       "      <td>MetalSd</td>\n",
       "      <td>MetalSd</td>\n",
       "      <td>None</td>\n",
       "      <td>0.0</td>\n",
       "      <td>TA</td>\n",
       "      <td>TA</td>\n",
       "    </tr>\n",
       "    <tr>\n",
       "      <th>2</th>\n",
       "      <td>2001</td>\n",
       "      <td>2002</td>\n",
       "      <td>Gable</td>\n",
       "      <td>CompShg</td>\n",
       "      <td>VinylSd</td>\n",
       "      <td>VinylSd</td>\n",
       "      <td>BrkFace</td>\n",
       "      <td>162.0</td>\n",
       "      <td>Gd</td>\n",
       "      <td>TA</td>\n",
       "    </tr>\n",
       "    <tr>\n",
       "      <th>3</th>\n",
       "      <td>1915</td>\n",
       "      <td>1970</td>\n",
       "      <td>Gable</td>\n",
       "      <td>CompShg</td>\n",
       "      <td>Wd Sdng</td>\n",
       "      <td>Wd Shng</td>\n",
       "      <td>None</td>\n",
       "      <td>0.0</td>\n",
       "      <td>TA</td>\n",
       "      <td>TA</td>\n",
       "    </tr>\n",
       "    <tr>\n",
       "      <th>4</th>\n",
       "      <td>2000</td>\n",
       "      <td>2000</td>\n",
       "      <td>Gable</td>\n",
       "      <td>CompShg</td>\n",
       "      <td>VinylSd</td>\n",
       "      <td>VinylSd</td>\n",
       "      <td>BrkFace</td>\n",
       "      <td>350.0</td>\n",
       "      <td>Gd</td>\n",
       "      <td>TA</td>\n",
       "    </tr>\n",
       "  </tbody>\n",
       "</table>\n",
       "</div>"
      ],
      "text/plain": [
       "   YearBuilt  YearRemodAdd RoofStyle RoofMatl Exterior1st Exterior2nd  \\\n",
       "0       2003          2003     Gable  CompShg     VinylSd     VinylSd   \n",
       "1       1976          1976     Gable  CompShg     MetalSd     MetalSd   \n",
       "2       2001          2002     Gable  CompShg     VinylSd     VinylSd   \n",
       "3       1915          1970     Gable  CompShg     Wd Sdng     Wd Shng   \n",
       "4       2000          2000     Gable  CompShg     VinylSd     VinylSd   \n",
       "\n",
       "  MasVnrType  MasVnrArea ExterQual ExterCond  \n",
       "0    BrkFace       196.0        Gd        TA  \n",
       "1       None         0.0        TA        TA  \n",
       "2    BrkFace       162.0        Gd        TA  \n",
       "3       None         0.0        TA        TA  \n",
       "4    BrkFace       350.0        Gd        TA  "
      ]
     },
     "execution_count": 3795,
     "metadata": {},
     "output_type": "execute_result"
    }
   ],
   "source": [
    "train.iloc[:, 19:29].head()"
   ]
  },
  {
   "cell_type": "code",
   "execution_count": 3796,
   "metadata": {
    "collapsed": true
   },
   "outputs": [],
   "source": [
    "# YearBuilt\n",
    "if (use_fe_2):\n",
    "    features = np.concatenate( [features, pd.get_dummies(train.YearBuilt).as_matrix()], axis=1 )\n",
    "else:\n",
    "    features = np.concatenate( [features, train.YearBuilt.as_matrix().reshape(-1, 1)], axis=1 )\n",
    "    \n",
    "cols_count = cols_count + 1\n",
    "\n",
    "# YearRemodAdd\n",
    "if (False):\n",
    "    features = np.concatenate( [features, pd.get_dummies(train.YearRemodAdd).as_matrix()], axis=1 )\n",
    "else:\n",
    "    features = np.concatenate( [features, train.YearRemodAdd.as_matrix().reshape(-1, 1)], axis=1 )\n",
    "\n",
    "cols_count = cols_count + 1\n",
    "\n",
    "# RoofStyle\n",
    "features = np.concatenate( [features, pd.get_dummies(train.RoofStyle).as_matrix()], axis=1 )\n",
    "cols_count = cols_count + 1\n",
    "\n",
    "# RoofMatl\n",
    "features = np.concatenate( [features, pd.get_dummies(train.RoofMatl).as_matrix()], axis=1 )\n",
    "cols_count = cols_count + 1\n",
    "\n",
    "# Exterior1st\n",
    "#train.Exterior1st.fillna(\"Wd Sdng\", inplace=True)\n",
    "train.Exterior1st.fillna(\"Unknown\", inplace=True)\n",
    "features = np.concatenate( [features, pd.get_dummies(train.Exterior1st).as_matrix()], axis=1 )\n",
    "cols_count = cols_count + 1\n",
    "\n",
    "# Exterior2nd\n",
    "#train.Exterior2nd.fillna(\"Wd Sdng\", inplace=True)\n",
    "train.Exterior2nd.fillna(\"Unknown\", inplace=True)\n",
    "features = np.concatenate( [features, pd.get_dummies(train.Exterior2nd).as_matrix()], axis=1 )\n",
    "cols_count = cols_count + 1\n",
    "\n",
    "# MasVnrType\n",
    "#train.MasVnrType.fillna(\"None\", inplace=True)\n",
    "train.MasVnrType.fillna(\"Unknown\", inplace=True)\n",
    "features = np.concatenate( [features, pd.get_dummies(train.MasVnrType).as_matrix()], axis=1 )\n",
    "cols_count = cols_count + 1\n",
    "\n",
    "# MasVnrArea\n",
    "train.MasVnrArea.fillna(0.0, inplace=True)\n",
    "features = np.concatenate( [features, pd.get_dummies(train.MasVnrArea).as_matrix()], axis=1 )\n",
    "cols_count = cols_count + 1\n",
    "\n",
    "# ExterQual\n",
    "features = np.concatenate( [features, pd.get_dummies(train.ExterQual).as_matrix()], axis=1 )\n",
    "cols_count = cols_count + 1\n",
    "\n",
    "# ExterCond\n",
    "features = np.concatenate( [features, pd.get_dummies(train.ExterCond).as_matrix()], axis=1 )\n",
    "cols_count = cols_count + 1"
   ]
  },
  {
   "cell_type": "code",
   "execution_count": 3797,
   "metadata": {},
   "outputs": [
    {
     "data": {
      "text/html": [
       "<div>\n",
       "<style>\n",
       "    .dataframe thead tr:only-child th {\n",
       "        text-align: right;\n",
       "    }\n",
       "\n",
       "    .dataframe thead th {\n",
       "        text-align: left;\n",
       "    }\n",
       "\n",
       "    .dataframe tbody tr th {\n",
       "        vertical-align: top;\n",
       "    }\n",
       "</style>\n",
       "<table border=\"1\" class=\"dataframe\">\n",
       "  <thead>\n",
       "    <tr style=\"text-align: right;\">\n",
       "      <th></th>\n",
       "      <th>Foundation</th>\n",
       "      <th>BsmtQual</th>\n",
       "      <th>BsmtCond</th>\n",
       "      <th>BsmtExposure</th>\n",
       "      <th>BsmtFinType1</th>\n",
       "      <th>BsmtFinSF1</th>\n",
       "      <th>BsmtFinType2</th>\n",
       "      <th>BsmtFinSF2</th>\n",
       "      <th>BsmtUnfSF</th>\n",
       "      <th>TotalBsmtSF</th>\n",
       "    </tr>\n",
       "  </thead>\n",
       "  <tbody>\n",
       "    <tr>\n",
       "      <th>0</th>\n",
       "      <td>PConc</td>\n",
       "      <td>Gd</td>\n",
       "      <td>TA</td>\n",
       "      <td>No</td>\n",
       "      <td>GLQ</td>\n",
       "      <td>706</td>\n",
       "      <td>Unf</td>\n",
       "      <td>0</td>\n",
       "      <td>150</td>\n",
       "      <td>856</td>\n",
       "    </tr>\n",
       "    <tr>\n",
       "      <th>1</th>\n",
       "      <td>CBlock</td>\n",
       "      <td>Gd</td>\n",
       "      <td>TA</td>\n",
       "      <td>Gd</td>\n",
       "      <td>ALQ</td>\n",
       "      <td>978</td>\n",
       "      <td>Unf</td>\n",
       "      <td>0</td>\n",
       "      <td>284</td>\n",
       "      <td>1262</td>\n",
       "    </tr>\n",
       "    <tr>\n",
       "      <th>2</th>\n",
       "      <td>PConc</td>\n",
       "      <td>Gd</td>\n",
       "      <td>TA</td>\n",
       "      <td>Mn</td>\n",
       "      <td>GLQ</td>\n",
       "      <td>486</td>\n",
       "      <td>Unf</td>\n",
       "      <td>0</td>\n",
       "      <td>434</td>\n",
       "      <td>920</td>\n",
       "    </tr>\n",
       "    <tr>\n",
       "      <th>3</th>\n",
       "      <td>BrkTil</td>\n",
       "      <td>TA</td>\n",
       "      <td>Gd</td>\n",
       "      <td>No</td>\n",
       "      <td>ALQ</td>\n",
       "      <td>216</td>\n",
       "      <td>Unf</td>\n",
       "      <td>0</td>\n",
       "      <td>540</td>\n",
       "      <td>756</td>\n",
       "    </tr>\n",
       "    <tr>\n",
       "      <th>4</th>\n",
       "      <td>PConc</td>\n",
       "      <td>Gd</td>\n",
       "      <td>TA</td>\n",
       "      <td>Av</td>\n",
       "      <td>GLQ</td>\n",
       "      <td>655</td>\n",
       "      <td>Unf</td>\n",
       "      <td>0</td>\n",
       "      <td>490</td>\n",
       "      <td>1145</td>\n",
       "    </tr>\n",
       "  </tbody>\n",
       "</table>\n",
       "</div>"
      ],
      "text/plain": [
       "  Foundation BsmtQual BsmtCond BsmtExposure BsmtFinType1  BsmtFinSF1  \\\n",
       "0      PConc       Gd       TA           No          GLQ         706   \n",
       "1     CBlock       Gd       TA           Gd          ALQ         978   \n",
       "2      PConc       Gd       TA           Mn          GLQ         486   \n",
       "3     BrkTil       TA       Gd           No          ALQ         216   \n",
       "4      PConc       Gd       TA           Av          GLQ         655   \n",
       "\n",
       "  BsmtFinType2  BsmtFinSF2  BsmtUnfSF  TotalBsmtSF  \n",
       "0          Unf           0        150          856  \n",
       "1          Unf           0        284         1262  \n",
       "2          Unf           0        434          920  \n",
       "3          Unf           0        540          756  \n",
       "4          Unf           0        490         1145  "
      ]
     },
     "execution_count": 3797,
     "metadata": {},
     "output_type": "execute_result"
    }
   ],
   "source": [
    "train.iloc[:, 29:39].head()"
   ]
  },
  {
   "cell_type": "code",
   "execution_count": 3798,
   "metadata": {
    "collapsed": true
   },
   "outputs": [],
   "source": [
    "# Foundation\n",
    "features = np.concatenate( [features, pd.get_dummies(train.Foundation).as_matrix()], axis=1 )\n",
    "cols_count = cols_count + 1\n",
    "\n",
    "# BsmtQual\n",
    "train.BsmtQual.fillna(\"NA\", inplace=True)\n",
    "features = np.concatenate( [features, pd.get_dummies(train.BsmtQual).as_matrix()], axis=1 )\n",
    "cols_count = cols_count + 1\n",
    "\n",
    "# BsmtCond\n",
    "train.BsmtCond.fillna(\"NA\", inplace=True)\n",
    "features = np.concatenate( [features, pd.get_dummies(train.BsmtCond).as_matrix()], axis=1 )\n",
    "cols_count = cols_count + 1\n",
    "\n",
    "# BsmtExposure\n",
    "train.BsmtExposure.fillna(\"NA\", inplace=True)\n",
    "features = np.concatenate( [features, pd.get_dummies(train.BsmtExposure).as_matrix()], axis=1 )\n",
    "cols_count = cols_count + 1\n",
    "\n",
    "# BsmtFinType1\n",
    "train.BsmtFinType1.fillna(\"NA\", inplace=True)\n",
    "features = np.concatenate( [features, pd.get_dummies(train.BsmtFinType1).as_matrix()], axis=1 )\n",
    "cols_count = cols_count + 1\n",
    "\n",
    "# BsmtFinSF1\n",
    "train.BsmtFinSF1.fillna(0.0, inplace=True)\n",
    "features = np.concatenate( [features, train.BsmtFinSF1.as_matrix().reshape(-1, 1)], axis=1 )\n",
    "cols_count = cols_count + 1\n",
    "\n",
    "# BsmtFinType2\n",
    "train.BsmtFinType2.fillna(\"NA\", inplace=True)\n",
    "features = np.concatenate( [features, pd.get_dummies(train.BsmtFinType2).as_matrix()], axis=1 )\n",
    "cols_count = cols_count + 1\n",
    "\n",
    "# BsmtFinSF2\n",
    "train.BsmtFinSF2.fillna(0.0, inplace=True)\n",
    "features = np.concatenate( [features, train.BsmtFinSF2.as_matrix().reshape(-1, 1)], axis=1 )\n",
    "cols_count = cols_count + 1\n",
    "\n",
    "# BsmtUnfSF\n",
    "train.BsmtUnfSF.fillna(0.0, inplace=True)\n",
    "features = np.concatenate( [features, train.BsmtUnfSF.as_matrix().reshape(-1, 1)], axis=1 )\n",
    "cols_count = cols_count + 1\n",
    "\n",
    "# TotalBsmtSF\n",
    "train.TotalBsmtSF.fillna(0.0, inplace=True)\n",
    "features = np.concatenate( [features, train.TotalBsmtSF.as_matrix().reshape(-1, 1)], axis=1 )\n",
    "\n",
    "if (use_fe_1):\n",
    "    fe_1_cols.append(features.shape[1] - 1)\n",
    "    \n",
    "cols_count = cols_count + 1"
   ]
  },
  {
   "cell_type": "code",
   "execution_count": 3799,
   "metadata": {
    "scrolled": false
   },
   "outputs": [
    {
     "data": {
      "text/html": [
       "<div>\n",
       "<style>\n",
       "    .dataframe thead tr:only-child th {\n",
       "        text-align: right;\n",
       "    }\n",
       "\n",
       "    .dataframe thead th {\n",
       "        text-align: left;\n",
       "    }\n",
       "\n",
       "    .dataframe tbody tr th {\n",
       "        vertical-align: top;\n",
       "    }\n",
       "</style>\n",
       "<table border=\"1\" class=\"dataframe\">\n",
       "  <thead>\n",
       "    <tr style=\"text-align: right;\">\n",
       "      <th></th>\n",
       "      <th>Heating</th>\n",
       "      <th>HeatingQC</th>\n",
       "      <th>CentralAir</th>\n",
       "      <th>Electrical</th>\n",
       "      <th>1stFlrSF</th>\n",
       "      <th>2ndFlrSF</th>\n",
       "      <th>LowQualFinSF</th>\n",
       "      <th>GrLivArea</th>\n",
       "      <th>BsmtFullBath</th>\n",
       "      <th>BsmtHalfBath</th>\n",
       "    </tr>\n",
       "  </thead>\n",
       "  <tbody>\n",
       "    <tr>\n",
       "      <th>0</th>\n",
       "      <td>GasA</td>\n",
       "      <td>Ex</td>\n",
       "      <td>Y</td>\n",
       "      <td>SBrkr</td>\n",
       "      <td>856</td>\n",
       "      <td>854</td>\n",
       "      <td>0</td>\n",
       "      <td>1710</td>\n",
       "      <td>1</td>\n",
       "      <td>0</td>\n",
       "    </tr>\n",
       "    <tr>\n",
       "      <th>1</th>\n",
       "      <td>GasA</td>\n",
       "      <td>Ex</td>\n",
       "      <td>Y</td>\n",
       "      <td>SBrkr</td>\n",
       "      <td>1262</td>\n",
       "      <td>0</td>\n",
       "      <td>0</td>\n",
       "      <td>1262</td>\n",
       "      <td>0</td>\n",
       "      <td>1</td>\n",
       "    </tr>\n",
       "    <tr>\n",
       "      <th>2</th>\n",
       "      <td>GasA</td>\n",
       "      <td>Ex</td>\n",
       "      <td>Y</td>\n",
       "      <td>SBrkr</td>\n",
       "      <td>920</td>\n",
       "      <td>866</td>\n",
       "      <td>0</td>\n",
       "      <td>1786</td>\n",
       "      <td>1</td>\n",
       "      <td>0</td>\n",
       "    </tr>\n",
       "    <tr>\n",
       "      <th>3</th>\n",
       "      <td>GasA</td>\n",
       "      <td>Gd</td>\n",
       "      <td>Y</td>\n",
       "      <td>SBrkr</td>\n",
       "      <td>961</td>\n",
       "      <td>756</td>\n",
       "      <td>0</td>\n",
       "      <td>1717</td>\n",
       "      <td>1</td>\n",
       "      <td>0</td>\n",
       "    </tr>\n",
       "    <tr>\n",
       "      <th>4</th>\n",
       "      <td>GasA</td>\n",
       "      <td>Ex</td>\n",
       "      <td>Y</td>\n",
       "      <td>SBrkr</td>\n",
       "      <td>1145</td>\n",
       "      <td>1053</td>\n",
       "      <td>0</td>\n",
       "      <td>2198</td>\n",
       "      <td>1</td>\n",
       "      <td>0</td>\n",
       "    </tr>\n",
       "  </tbody>\n",
       "</table>\n",
       "</div>"
      ],
      "text/plain": [
       "  Heating HeatingQC CentralAir Electrical  1stFlrSF  2ndFlrSF  LowQualFinSF  \\\n",
       "0    GasA        Ex          Y      SBrkr       856       854             0   \n",
       "1    GasA        Ex          Y      SBrkr      1262         0             0   \n",
       "2    GasA        Ex          Y      SBrkr       920       866             0   \n",
       "3    GasA        Gd          Y      SBrkr       961       756             0   \n",
       "4    GasA        Ex          Y      SBrkr      1145      1053             0   \n",
       "\n",
       "   GrLivArea  BsmtFullBath  BsmtHalfBath  \n",
       "0       1710             1             0  \n",
       "1       1262             0             1  \n",
       "2       1786             1             0  \n",
       "3       1717             1             0  \n",
       "4       2198             1             0  "
      ]
     },
     "execution_count": 3799,
     "metadata": {},
     "output_type": "execute_result"
    }
   ],
   "source": [
    "train.iloc[:, 39:49].head()"
   ]
  },
  {
   "cell_type": "code",
   "execution_count": 3800,
   "metadata": {
    "collapsed": true
   },
   "outputs": [],
   "source": [
    "# Heating\n",
    "features = np.concatenate( [features, pd.get_dummies(train.Heating).as_matrix()], axis=1 )\n",
    "cols_count = cols_count + 1\n",
    "\n",
    "# HeatingQC\n",
    "features = np.concatenate( [features, pd.get_dummies(train.HeatingQC).as_matrix()], axis=1 )\n",
    "cols_count = cols_count + 1\n",
    "\n",
    "# CentralAir\n",
    "features = np.concatenate( [features, pd.get_dummies(train.CentralAir).as_matrix()], axis=1 )\n",
    "cols_count = cols_count + 1\n",
    "\n",
    "# Electrical\n",
    "train.Electrical.fillna(\"Unknown\", inplace=True)\n",
    "features = np.concatenate( [features, pd.get_dummies(train.Electrical).as_matrix()], axis=1 )\n",
    "cols_count = cols_count + 1\n",
    "\n",
    "# 1stFlrSF\n",
    "features = np.concatenate( [features, train['1stFlrSF'].as_matrix().reshape(-1, 1)], axis=1 )\n",
    "\n",
    "if (use_fe_1):\n",
    "    fe_1_cols.append(features.shape[1] - 1)\n",
    "    \n",
    "cols_count = cols_count + 1\n",
    "\n",
    "# 2ndFlrSF\n",
    "features = np.concatenate( [features, train['2ndFlrSF'].as_matrix().reshape(-1, 1)], axis=1 )\n",
    "cols_count = cols_count + 1\n",
    "\n",
    "# LowQualFinSF\n",
    "features = np.concatenate( [features, train.LowQualFinSF.as_matrix().reshape(-1, 1)], axis=1 )\n",
    "cols_count = cols_count + 1\n",
    "\n",
    "# GrLivArea\n",
    "features = np.concatenate( [features, train.GrLivArea.as_matrix().reshape(-1, 1)], axis=1 )\n",
    "\n",
    "if (use_fe_1):\n",
    "    fe_1_cols.append(features.shape[1] - 1)\n",
    "    \n",
    "cols_count = cols_count + 1\n",
    "\n",
    "# BsmtFullBath\n",
    "train.BsmtFullBath.fillna(0.0, inplace=True)\n",
    "features = np.concatenate( [features, train.BsmtFullBath.as_matrix().reshape(-1, 1)], axis=1 )\n",
    "cols_count = cols_count + 1\n",
    "\n",
    "# BsmtHalfBath\n",
    "train.BsmtHalfBath.fillna(0.0, inplace=True)\n",
    "features = np.concatenate( [features, train.BsmtHalfBath.as_matrix().reshape(-1, 1)], axis=1 )\n",
    "cols_count = cols_count + 1"
   ]
  },
  {
   "cell_type": "code",
   "execution_count": 3801,
   "metadata": {
    "scrolled": true
   },
   "outputs": [
    {
     "data": {
      "text/html": [
       "<div>\n",
       "<style>\n",
       "    .dataframe thead tr:only-child th {\n",
       "        text-align: right;\n",
       "    }\n",
       "\n",
       "    .dataframe thead th {\n",
       "        text-align: left;\n",
       "    }\n",
       "\n",
       "    .dataframe tbody tr th {\n",
       "        vertical-align: top;\n",
       "    }\n",
       "</style>\n",
       "<table border=\"1\" class=\"dataframe\">\n",
       "  <thead>\n",
       "    <tr style=\"text-align: right;\">\n",
       "      <th></th>\n",
       "      <th>FullBath</th>\n",
       "      <th>HalfBath</th>\n",
       "      <th>BedroomAbvGr</th>\n",
       "      <th>KitchenAbvGr</th>\n",
       "      <th>KitchenQual</th>\n",
       "      <th>TotRmsAbvGrd</th>\n",
       "      <th>Functional</th>\n",
       "      <th>Fireplaces</th>\n",
       "      <th>FireplaceQu</th>\n",
       "      <th>GarageType</th>\n",
       "    </tr>\n",
       "  </thead>\n",
       "  <tbody>\n",
       "    <tr>\n",
       "      <th>0</th>\n",
       "      <td>2</td>\n",
       "      <td>1</td>\n",
       "      <td>3</td>\n",
       "      <td>1</td>\n",
       "      <td>Gd</td>\n",
       "      <td>8</td>\n",
       "      <td>Typ</td>\n",
       "      <td>0</td>\n",
       "      <td>NaN</td>\n",
       "      <td>Attchd</td>\n",
       "    </tr>\n",
       "    <tr>\n",
       "      <th>1</th>\n",
       "      <td>2</td>\n",
       "      <td>0</td>\n",
       "      <td>3</td>\n",
       "      <td>1</td>\n",
       "      <td>TA</td>\n",
       "      <td>6</td>\n",
       "      <td>Typ</td>\n",
       "      <td>1</td>\n",
       "      <td>TA</td>\n",
       "      <td>Attchd</td>\n",
       "    </tr>\n",
       "    <tr>\n",
       "      <th>2</th>\n",
       "      <td>2</td>\n",
       "      <td>1</td>\n",
       "      <td>3</td>\n",
       "      <td>1</td>\n",
       "      <td>Gd</td>\n",
       "      <td>6</td>\n",
       "      <td>Typ</td>\n",
       "      <td>1</td>\n",
       "      <td>TA</td>\n",
       "      <td>Attchd</td>\n",
       "    </tr>\n",
       "    <tr>\n",
       "      <th>3</th>\n",
       "      <td>1</td>\n",
       "      <td>0</td>\n",
       "      <td>3</td>\n",
       "      <td>1</td>\n",
       "      <td>Gd</td>\n",
       "      <td>7</td>\n",
       "      <td>Typ</td>\n",
       "      <td>1</td>\n",
       "      <td>Gd</td>\n",
       "      <td>Detchd</td>\n",
       "    </tr>\n",
       "    <tr>\n",
       "      <th>4</th>\n",
       "      <td>2</td>\n",
       "      <td>1</td>\n",
       "      <td>4</td>\n",
       "      <td>1</td>\n",
       "      <td>Gd</td>\n",
       "      <td>9</td>\n",
       "      <td>Typ</td>\n",
       "      <td>1</td>\n",
       "      <td>TA</td>\n",
       "      <td>Attchd</td>\n",
       "    </tr>\n",
       "  </tbody>\n",
       "</table>\n",
       "</div>"
      ],
      "text/plain": [
       "   FullBath  HalfBath  BedroomAbvGr  KitchenAbvGr KitchenQual  TotRmsAbvGrd  \\\n",
       "0         2         1             3             1          Gd             8   \n",
       "1         2         0             3             1          TA             6   \n",
       "2         2         1             3             1          Gd             6   \n",
       "3         1         0             3             1          Gd             7   \n",
       "4         2         1             4             1          Gd             9   \n",
       "\n",
       "  Functional  Fireplaces FireplaceQu GarageType  \n",
       "0        Typ           0         NaN     Attchd  \n",
       "1        Typ           1          TA     Attchd  \n",
       "2        Typ           1          TA     Attchd  \n",
       "3        Typ           1          Gd     Detchd  \n",
       "4        Typ           1          TA     Attchd  "
      ]
     },
     "execution_count": 3801,
     "metadata": {},
     "output_type": "execute_result"
    }
   ],
   "source": [
    "train.iloc[:, 49:59].head()"
   ]
  },
  {
   "cell_type": "code",
   "execution_count": 3802,
   "metadata": {
    "collapsed": true
   },
   "outputs": [],
   "source": [
    "# FullBath\n",
    "features = np.concatenate( [features, train.FullBath.as_matrix().reshape(-1, 1)], axis=1 )\n",
    "cols_count = cols_count + 1\n",
    "\n",
    "# HalfBath\n",
    "features = np.concatenate( [features, train.HalfBath.as_matrix().reshape(-1, 1)], axis=1 )\n",
    "cols_count = cols_count + 1\n",
    "\n",
    "# BedroomAbvGr\n",
    "features = np.concatenate( [features, train.BedroomAbvGr.as_matrix().reshape(-1, 1)], axis=1 )\n",
    "cols_count = cols_count + 1\n",
    "\n",
    "# KitchenAbvGr\n",
    "features = np.concatenate( [features, train.KitchenAbvGr.as_matrix().reshape(-1, 1)], axis=1 )\n",
    "cols_count = cols_count + 1\n",
    "\n",
    "# KitchenQual\n",
    "#train.KitchenQual.fillna(\"TA\", inplace=True)\n",
    "train.KitchenQual.fillna(\"Unknown\", inplace=True)\n",
    "features = np.concatenate( [features, pd.get_dummies(train.KitchenQual).as_matrix()], axis=1 )\n",
    "cols_count = cols_count + 1\n",
    "\n",
    "# TotRmsAbvGrd\n",
    "features = np.concatenate( [features, train.TotRmsAbvGrd.as_matrix().reshape(-1, 1)], axis=1 )\n",
    "cols_count = cols_count + 1\n",
    "\n",
    "# Functional\n",
    "#train.Functional.fillna(\"Typ\", inplace=True)\n",
    "train.Functional.fillna(\"Unknown\", inplace=True)\n",
    "features = np.concatenate( [features, pd.get_dummies(train.Functional).as_matrix()], axis=1 )\n",
    "cols_count = cols_count + 1\n",
    "\n",
    "# Fireplaces\n",
    "features = np.concatenate( [features, train.Fireplaces.as_matrix().reshape(-1, 1)], axis=1 )\n",
    "cols_count = cols_count + 1\n",
    "\n",
    "# FireplaceQu\n",
    "train.FireplaceQu.fillna(\"NA\", inplace=True)\n",
    "features = np.concatenate( [features, pd.get_dummies(train.FireplaceQu).as_matrix()], axis=1 )\n",
    "cols_count = cols_count + 1\n",
    "\n",
    "# GarageType\n",
    "train.GarageType.fillna(\"NA\", inplace=True)\n",
    "features = np.concatenate( [features, pd.get_dummies(train.GarageType).as_matrix()], axis=1 )\n",
    "cols_count = cols_count + 1"
   ]
  },
  {
   "cell_type": "code",
   "execution_count": 3803,
   "metadata": {},
   "outputs": [
    {
     "data": {
      "text/html": [
       "<div>\n",
       "<style>\n",
       "    .dataframe thead tr:only-child th {\n",
       "        text-align: right;\n",
       "    }\n",
       "\n",
       "    .dataframe thead th {\n",
       "        text-align: left;\n",
       "    }\n",
       "\n",
       "    .dataframe tbody tr th {\n",
       "        vertical-align: top;\n",
       "    }\n",
       "</style>\n",
       "<table border=\"1\" class=\"dataframe\">\n",
       "  <thead>\n",
       "    <tr style=\"text-align: right;\">\n",
       "      <th></th>\n",
       "      <th>GarageYrBlt</th>\n",
       "      <th>GarageFinish</th>\n",
       "      <th>GarageCars</th>\n",
       "      <th>GarageArea</th>\n",
       "      <th>GarageQual</th>\n",
       "      <th>GarageCond</th>\n",
       "      <th>PavedDrive</th>\n",
       "      <th>WoodDeckSF</th>\n",
       "      <th>OpenPorchSF</th>\n",
       "      <th>EnclosedPorch</th>\n",
       "    </tr>\n",
       "  </thead>\n",
       "  <tbody>\n",
       "    <tr>\n",
       "      <th>0</th>\n",
       "      <td>2003.0</td>\n",
       "      <td>RFn</td>\n",
       "      <td>2</td>\n",
       "      <td>548</td>\n",
       "      <td>TA</td>\n",
       "      <td>TA</td>\n",
       "      <td>Y</td>\n",
       "      <td>0</td>\n",
       "      <td>61</td>\n",
       "      <td>0</td>\n",
       "    </tr>\n",
       "    <tr>\n",
       "      <th>1</th>\n",
       "      <td>1976.0</td>\n",
       "      <td>RFn</td>\n",
       "      <td>2</td>\n",
       "      <td>460</td>\n",
       "      <td>TA</td>\n",
       "      <td>TA</td>\n",
       "      <td>Y</td>\n",
       "      <td>298</td>\n",
       "      <td>0</td>\n",
       "      <td>0</td>\n",
       "    </tr>\n",
       "    <tr>\n",
       "      <th>2</th>\n",
       "      <td>2001.0</td>\n",
       "      <td>RFn</td>\n",
       "      <td>2</td>\n",
       "      <td>608</td>\n",
       "      <td>TA</td>\n",
       "      <td>TA</td>\n",
       "      <td>Y</td>\n",
       "      <td>0</td>\n",
       "      <td>42</td>\n",
       "      <td>0</td>\n",
       "    </tr>\n",
       "    <tr>\n",
       "      <th>3</th>\n",
       "      <td>1998.0</td>\n",
       "      <td>Unf</td>\n",
       "      <td>3</td>\n",
       "      <td>642</td>\n",
       "      <td>TA</td>\n",
       "      <td>TA</td>\n",
       "      <td>Y</td>\n",
       "      <td>0</td>\n",
       "      <td>35</td>\n",
       "      <td>272</td>\n",
       "    </tr>\n",
       "    <tr>\n",
       "      <th>4</th>\n",
       "      <td>2000.0</td>\n",
       "      <td>RFn</td>\n",
       "      <td>3</td>\n",
       "      <td>836</td>\n",
       "      <td>TA</td>\n",
       "      <td>TA</td>\n",
       "      <td>Y</td>\n",
       "      <td>192</td>\n",
       "      <td>84</td>\n",
       "      <td>0</td>\n",
       "    </tr>\n",
       "  </tbody>\n",
       "</table>\n",
       "</div>"
      ],
      "text/plain": [
       "   GarageYrBlt GarageFinish  GarageCars  GarageArea GarageQual GarageCond  \\\n",
       "0       2003.0          RFn           2         548         TA         TA   \n",
       "1       1976.0          RFn           2         460         TA         TA   \n",
       "2       2001.0          RFn           2         608         TA         TA   \n",
       "3       1998.0          Unf           3         642         TA         TA   \n",
       "4       2000.0          RFn           3         836         TA         TA   \n",
       "\n",
       "  PavedDrive  WoodDeckSF  OpenPorchSF  EnclosedPorch  \n",
       "0          Y           0           61              0  \n",
       "1          Y         298            0              0  \n",
       "2          Y           0           42              0  \n",
       "3          Y           0           35            272  \n",
       "4          Y         192           84              0  "
      ]
     },
     "execution_count": 3803,
     "metadata": {},
     "output_type": "execute_result"
    }
   ],
   "source": [
    "train.iloc[:, 59:69].head()"
   ]
  },
  {
   "cell_type": "code",
   "execution_count": 3804,
   "metadata": {
    "collapsed": true
   },
   "outputs": [],
   "source": [
    "# GarageYrBlt\n",
    "train.GarageYrBlt.fillna(0.0, inplace=True)\n",
    "\n",
    "if (False):\n",
    "    features = np.concatenate( [features, pd.get_dummies(train.GarageYrBlt).as_matrix()], axis=1 )\n",
    "else:\n",
    "    features = np.concatenate( [features, train.GarageYrBlt.as_matrix().reshape(-1, 1)], axis=1 )\n",
    "    \n",
    "cols_count = cols_count + 1\n",
    "\n",
    "# GarageFinish\n",
    "train.GarageFinish.fillna(\"NA\", inplace=True)\n",
    "features = np.concatenate( [features, pd.get_dummies(train.GarageFinish).as_matrix()], axis=1 )\n",
    "cols_count = cols_count + 1\n",
    "\n",
    "# GarageCars\n",
    "train.GarageCars.fillna(0.0, inplace=True)\n",
    "features = np.concatenate( [features, train.GarageCars.as_matrix().reshape(-1, 1)], axis=1 )\n",
    "cols_count = cols_count + 1\n",
    "\n",
    "# GarageArea\n",
    "train.GarageArea.fillna(0.0, inplace=True)\n",
    "features = np.concatenate( [features, train.GarageArea.as_matrix().reshape(-1, 1)], axis=1 )\n",
    "\n",
    "if (use_fe_1):\n",
    "    fe_1_cols.append(features.shape[1] - 1)\n",
    "    \n",
    "cols_count = cols_count + 1\n",
    "\n",
    "# GarageQual\n",
    "train.GarageQual.fillna(\"NA\", inplace=True)\n",
    "features = np.concatenate( [features, pd.get_dummies(train.GarageQual).as_matrix()], axis=1 )\n",
    "cols_count = cols_count + 1\n",
    "\n",
    "# GarageCond\n",
    "train.GarageCond.fillna(\"NA\", inplace=True)\n",
    "features = np.concatenate( [features, pd.get_dummies(train.GarageCond).as_matrix()], axis=1 )\n",
    "cols_count = cols_count + 1\n",
    "\n",
    "# PavedDrive\n",
    "features = np.concatenate( [features, pd.get_dummies(train.PavedDrive).as_matrix()], axis=1 )\n",
    "cols_count = cols_count + 1\n",
    "\n",
    "# WoodDeckSF\n",
    "features = np.concatenate( [features, train.WoodDeckSF.as_matrix().reshape(-1, 1)], axis=1 )\n",
    "cols_count = cols_count + 1\n",
    "\n",
    "# OpenPorchSF\n",
    "features = np.concatenate( [features, train.OpenPorchSF.as_matrix().reshape(-1, 1)], axis=1 )\n",
    "cols_count = cols_count + 1\n",
    "\n",
    "# EnclosedPorch\n",
    "features = np.concatenate( [features, train.EnclosedPorch.as_matrix().reshape(-1, 1)], axis=1 )\n",
    "cols_count = cols_count + 1"
   ]
  },
  {
   "cell_type": "code",
   "execution_count": 3805,
   "metadata": {
    "scrolled": true
   },
   "outputs": [
    {
     "data": {
      "text/html": [
       "<div>\n",
       "<style>\n",
       "    .dataframe thead tr:only-child th {\n",
       "        text-align: right;\n",
       "    }\n",
       "\n",
       "    .dataframe thead th {\n",
       "        text-align: left;\n",
       "    }\n",
       "\n",
       "    .dataframe tbody tr th {\n",
       "        vertical-align: top;\n",
       "    }\n",
       "</style>\n",
       "<table border=\"1\" class=\"dataframe\">\n",
       "  <thead>\n",
       "    <tr style=\"text-align: right;\">\n",
       "      <th></th>\n",
       "      <th>3SsnPorch</th>\n",
       "      <th>ScreenPorch</th>\n",
       "      <th>PoolArea</th>\n",
       "      <th>PoolQC</th>\n",
       "      <th>Fence</th>\n",
       "      <th>MiscFeature</th>\n",
       "      <th>MiscVal</th>\n",
       "      <th>MoSold</th>\n",
       "      <th>YrSold</th>\n",
       "      <th>SaleType</th>\n",
       "      <th>SaleCondition</th>\n",
       "      <th>SalePrice</th>\n",
       "    </tr>\n",
       "  </thead>\n",
       "  <tbody>\n",
       "    <tr>\n",
       "      <th>0</th>\n",
       "      <td>0</td>\n",
       "      <td>0</td>\n",
       "      <td>0</td>\n",
       "      <td>NaN</td>\n",
       "      <td>NaN</td>\n",
       "      <td>NaN</td>\n",
       "      <td>0</td>\n",
       "      <td>2</td>\n",
       "      <td>2008</td>\n",
       "      <td>WD</td>\n",
       "      <td>Normal</td>\n",
       "      <td>208500</td>\n",
       "    </tr>\n",
       "    <tr>\n",
       "      <th>1</th>\n",
       "      <td>0</td>\n",
       "      <td>0</td>\n",
       "      <td>0</td>\n",
       "      <td>NaN</td>\n",
       "      <td>NaN</td>\n",
       "      <td>NaN</td>\n",
       "      <td>0</td>\n",
       "      <td>5</td>\n",
       "      <td>2007</td>\n",
       "      <td>WD</td>\n",
       "      <td>Normal</td>\n",
       "      <td>181500</td>\n",
       "    </tr>\n",
       "    <tr>\n",
       "      <th>2</th>\n",
       "      <td>0</td>\n",
       "      <td>0</td>\n",
       "      <td>0</td>\n",
       "      <td>NaN</td>\n",
       "      <td>NaN</td>\n",
       "      <td>NaN</td>\n",
       "      <td>0</td>\n",
       "      <td>9</td>\n",
       "      <td>2008</td>\n",
       "      <td>WD</td>\n",
       "      <td>Normal</td>\n",
       "      <td>223500</td>\n",
       "    </tr>\n",
       "    <tr>\n",
       "      <th>3</th>\n",
       "      <td>0</td>\n",
       "      <td>0</td>\n",
       "      <td>0</td>\n",
       "      <td>NaN</td>\n",
       "      <td>NaN</td>\n",
       "      <td>NaN</td>\n",
       "      <td>0</td>\n",
       "      <td>2</td>\n",
       "      <td>2006</td>\n",
       "      <td>WD</td>\n",
       "      <td>Abnorml</td>\n",
       "      <td>140000</td>\n",
       "    </tr>\n",
       "    <tr>\n",
       "      <th>4</th>\n",
       "      <td>0</td>\n",
       "      <td>0</td>\n",
       "      <td>0</td>\n",
       "      <td>NaN</td>\n",
       "      <td>NaN</td>\n",
       "      <td>NaN</td>\n",
       "      <td>0</td>\n",
       "      <td>12</td>\n",
       "      <td>2008</td>\n",
       "      <td>WD</td>\n",
       "      <td>Normal</td>\n",
       "      <td>250000</td>\n",
       "    </tr>\n",
       "  </tbody>\n",
       "</table>\n",
       "</div>"
      ],
      "text/plain": [
       "   3SsnPorch  ScreenPorch  PoolArea PoolQC Fence MiscFeature  MiscVal  MoSold  \\\n",
       "0          0            0         0    NaN   NaN         NaN        0       2   \n",
       "1          0            0         0    NaN   NaN         NaN        0       5   \n",
       "2          0            0         0    NaN   NaN         NaN        0       9   \n",
       "3          0            0         0    NaN   NaN         NaN        0       2   \n",
       "4          0            0         0    NaN   NaN         NaN        0      12   \n",
       "\n",
       "   YrSold SaleType SaleCondition  SalePrice  \n",
       "0    2008       WD        Normal     208500  \n",
       "1    2007       WD        Normal     181500  \n",
       "2    2008       WD        Normal     223500  \n",
       "3    2006       WD       Abnorml     140000  \n",
       "4    2008       WD        Normal     250000  "
      ]
     },
     "execution_count": 3805,
     "metadata": {},
     "output_type": "execute_result"
    }
   ],
   "source": [
    "train.iloc[:, 69:].head()"
   ]
  },
  {
   "cell_type": "code",
   "execution_count": 3806,
   "metadata": {},
   "outputs": [],
   "source": [
    "# 3SsnPorch\n",
    "features = np.concatenate( [features, train['3SsnPorch'].as_matrix().reshape(-1, 1)], axis=1 )\n",
    "cols_count = cols_count + 1\n",
    "\n",
    "# ScreenPorch\n",
    "features = np.concatenate( [features, train.ScreenPorch.as_matrix().reshape(-1, 1)], axis=1 )\n",
    "cols_count = cols_count + 1\n",
    "\n",
    "# PoolArea\n",
    "features = np.concatenate( [features, train.PoolArea.as_matrix().reshape(-1, 1)], axis=1 )\n",
    "cols_count = cols_count + 1\n",
    "\n",
    "# PoolQC\n",
    "train.PoolQC.fillna(\"NA\", inplace=True)\n",
    "features = np.concatenate( [features, pd.get_dummies(train.PoolQC).as_matrix()], axis=1 )\n",
    "cols_count = cols_count + 1\n",
    "\n",
    "# Fence\n",
    "train.Fence.fillna(\"NA\", inplace=True)\n",
    "features = np.concatenate( [features, pd.get_dummies(train.Fence).as_matrix()], axis=1 )\n",
    "cols_count = cols_count + 1\n",
    "\n",
    "# MiscFeature\n",
    "train.MiscFeature.fillna(\"NA\", inplace=True)\n",
    "features = np.concatenate( [features, pd.get_dummies(train.MiscFeature).as_matrix()], axis=1 )\n",
    "cols_count = cols_count + 1\n",
    "\n",
    "# MiscVal\n",
    "features = np.concatenate( [features, train.MiscVal.as_matrix().reshape(-1, 1)], axis=1 )\n",
    "cols_count = cols_count + 1\n",
    "\n",
    "# MoSold\n",
    "features = np.concatenate( [features, pd.get_dummies(train.MoSold).as_matrix()], axis=1 )\n",
    "cols_count = cols_count + 1\n",
    "\n",
    "# YrSold\n",
    "if (use_fe_2):\n",
    "    features = np.concatenate( [features, pd.get_dummies(train.YrSold).as_matrix()], axis=1 )\n",
    "else:\n",
    "    features = np.concatenate( [features, train.YrSold.as_matrix().reshape(-1, 1)], axis=1 )\n",
    "    \n",
    "cols_count = cols_count + 1\n",
    "\n",
    "# SaleType\n",
    "#train.SaleType.fillna(\"WD\", inplace=True)\n",
    "train.SaleType.fillna(\"Unknown\", inplace=True)\n",
    "features = np.concatenate( [features, pd.get_dummies(train.SaleType).as_matrix()], axis=1 )\n",
    "cols_count = cols_count + 1\n",
    "\n",
    "# SaleCondition\n",
    "features = np.concatenate( [features, pd.get_dummies(train.SaleCondition).as_matrix()], axis=1 )\n",
    "cols_count = cols_count + 1\n",
    "\n",
    "# LivingAreaSF\n",
    "if (use_fe_3):\n",
    "    features = np.concatenate( [features, train.LivingAreaSF.as_matrix().reshape(-1, 1)], axis=1 )\n",
    "    cols_count = cols_count + 1\n",
    "    \n",
    "    #features = np.concatenate( [features, train.Crisis.as_matrix().reshape(-1, 1)], axis=1 )\n",
    "    #cols_count = cols_count + 1\n",
    "    \n",
    "    #features = np.concatenate( [features, train.Winter.as_matrix().reshape(-1, 1)], axis=1 )\n",
    "    #features = np.concatenate( [features, train.Spring.as_matrix().reshape(-1, 1)], axis=1 )\n",
    "    #features = np.concatenate( [features, train.Summer.as_matrix().reshape(-1, 1)], axis=1 )\n",
    "    #features = np.concatenate( [features, train.Autumn.as_matrix().reshape(-1, 1)], axis=1 )\n",
    "    #cols_count = cols_count + 4\n",
    "    "
   ]
  },
  {
   "cell_type": "code",
   "execution_count": null,
   "metadata": {},
   "outputs": [],
   "source": []
  },
  {
   "cell_type": "code",
   "execution_count": 3807,
   "metadata": {},
   "outputs": [],
   "source": [
    "item1 = features[691, :]\n",
    "results = {}\n",
    "\n",
    "for idx in range(features.shape[0]):\n",
    "    item2 = features[idx, :]\n",
    "    \n",
    "    dist = np.linalg.norm(item1 - item2)\n",
    "    \n",
    "    results[idx] = dist"
   ]
  },
  {
   "cell_type": "code",
   "execution_count": 3808,
   "metadata": {},
   "outputs": [
    {
     "data": {
      "text/plain": [
       "[(691, 0.0), (349, 2430.5526120617096), (417, 2675.3567986345297)]"
      ]
     },
     "execution_count": 3808,
     "metadata": {},
     "output_type": "execute_result"
    }
   ],
   "source": [
    "sorted(results.items(), key=lambda x: x[1])[:3]"
   ]
  },
  {
   "cell_type": "code",
   "execution_count": 3809,
   "metadata": {},
   "outputs": [
    {
     "data": {
      "text/html": [
       "<div>\n",
       "<style>\n",
       "    .dataframe thead tr:only-child th {\n",
       "        text-align: right;\n",
       "    }\n",
       "\n",
       "    .dataframe thead th {\n",
       "        text-align: left;\n",
       "    }\n",
       "\n",
       "    .dataframe tbody tr th {\n",
       "        vertical-align: top;\n",
       "    }\n",
       "</style>\n",
       "<table border=\"1\" class=\"dataframe\">\n",
       "  <thead>\n",
       "    <tr style=\"text-align: right;\">\n",
       "      <th></th>\n",
       "      <th>Id</th>\n",
       "      <th>MSSubClass</th>\n",
       "      <th>MSZoning</th>\n",
       "      <th>LotFrontage</th>\n",
       "      <th>LotArea</th>\n",
       "      <th>Street</th>\n",
       "      <th>Alley</th>\n",
       "      <th>LotShape</th>\n",
       "      <th>LandContour</th>\n",
       "      <th>Utilities</th>\n",
       "      <th>...</th>\n",
       "      <th>PoolArea</th>\n",
       "      <th>PoolQC</th>\n",
       "      <th>Fence</th>\n",
       "      <th>MiscFeature</th>\n",
       "      <th>MiscVal</th>\n",
       "      <th>MoSold</th>\n",
       "      <th>YrSold</th>\n",
       "      <th>SaleType</th>\n",
       "      <th>SaleCondition</th>\n",
       "      <th>SalePrice</th>\n",
       "    </tr>\n",
       "  </thead>\n",
       "  <tbody>\n",
       "    <tr>\n",
       "      <th>417</th>\n",
       "      <td>418</td>\n",
       "      <td>70</td>\n",
       "      <td>RL</td>\n",
       "      <td>86.0</td>\n",
       "      <td>22420</td>\n",
       "      <td>Pave</td>\n",
       "      <td>NA</td>\n",
       "      <td>IR1</td>\n",
       "      <td>Lvl</td>\n",
       "      <td>AllPub</td>\n",
       "      <td>...</td>\n",
       "      <td>0</td>\n",
       "      <td>NA</td>\n",
       "      <td>NA</td>\n",
       "      <td>NA</td>\n",
       "      <td>0</td>\n",
       "      <td>11</td>\n",
       "      <td>2007</td>\n",
       "      <td>WD</td>\n",
       "      <td>Normal</td>\n",
       "      <td>239000</td>\n",
       "    </tr>\n",
       "    <tr>\n",
       "      <th>691</th>\n",
       "      <td>692</td>\n",
       "      <td>60</td>\n",
       "      <td>RL</td>\n",
       "      <td>104.0</td>\n",
       "      <td>21535</td>\n",
       "      <td>Pave</td>\n",
       "      <td>NA</td>\n",
       "      <td>IR1</td>\n",
       "      <td>Lvl</td>\n",
       "      <td>AllPub</td>\n",
       "      <td>...</td>\n",
       "      <td>0</td>\n",
       "      <td>NA</td>\n",
       "      <td>NA</td>\n",
       "      <td>NA</td>\n",
       "      <td>0</td>\n",
       "      <td>1</td>\n",
       "      <td>2007</td>\n",
       "      <td>WD</td>\n",
       "      <td>Normal</td>\n",
       "      <td>755000</td>\n",
       "    </tr>\n",
       "  </tbody>\n",
       "</table>\n",
       "<p>2 rows × 81 columns</p>\n",
       "</div>"
      ],
      "text/plain": [
       "      Id  MSSubClass MSZoning  LotFrontage  LotArea Street Alley LotShape  \\\n",
       "417  418          70       RL         86.0    22420   Pave    NA      IR1   \n",
       "691  692          60       RL        104.0    21535   Pave    NA      IR1   \n",
       "\n",
       "    LandContour Utilities    ...     PoolArea PoolQC Fence MiscFeature  \\\n",
       "417         Lvl    AllPub    ...            0     NA    NA          NA   \n",
       "691         Lvl    AllPub    ...            0     NA    NA          NA   \n",
       "\n",
       "    MiscVal MoSold YrSold  SaleType  SaleCondition  SalePrice  \n",
       "417       0     11   2007        WD         Normal     239000  \n",
       "691       0      1   2007        WD         Normal     755000  \n",
       "\n",
       "[2 rows x 81 columns]"
      ]
     },
     "execution_count": 3809,
     "metadata": {},
     "output_type": "execute_result"
    }
   ],
   "source": [
    "train[(train.Id == 692) | (train.Id == 418)]"
   ]
  },
  {
   "cell_type": "code",
   "execution_count": 3810,
   "metadata": {
    "collapsed": true
   },
   "outputs": [],
   "source": [
    "# Combine all columns-matrices together\n",
    "#features = numpy.concatenate(cols, axis=1)\n",
    "labels = train.SalePrice.values.reshape(-1, 1)"
   ]
  },
  {
   "cell_type": "code",
   "execution_count": 3811,
   "metadata": {
    "scrolled": true
   },
   "outputs": [
    {
     "name": "stdout",
     "output_type": "stream",
     "text": [
      "Total 20 features scaled\n"
     ]
    }
   ],
   "source": [
    "#\n",
    "# Scaling\n",
    "#\n",
    "# First scale labels\n",
    "labels = labels.astype(float)\n",
    "labels_max = labels.max()\n",
    "\n",
    "labels = labels / labels_max\n",
    "     \n",
    "count = 0\n",
    "    \n",
    "for jj in range(features.shape[1]):\n",
    "    if((features[:, jj] > 25.).sum() > 0):\n",
    "        mx = float(features[:, jj].max())\n",
    "\n",
    "        features[:, jj] = features[:, jj] / mx\n",
    "        count = count + 1\n",
    "        \n",
    "print(\"Total\", count, \"features scaled\")"
   ]
  },
  {
   "cell_type": "markdown",
   "metadata": {},
   "source": [
    "### Feature Engineering 4: use Cluster # as additional feature"
   ]
  },
  {
   "cell_type": "code",
   "execution_count": 3812,
   "metadata": {},
   "outputs": [
    {
     "name": "stdout",
     "output_type": "stream",
     "text": [
      "Wall time: 0 ns\n"
     ]
    }
   ],
   "source": [
    "%%time\n",
    "\n",
    "if (False):\n",
    "    for num_of_clusters in range(2, 32):\n",
    "        k_means = KMeans(n_clusters=num_of_clusters, random_state=23, n_jobs=-1,)\n",
    "        k_means.fit(features_train)\n",
    "\n",
    "        prediction_train = k_means.predict(features_train)\n",
    "        prediction_test = k_means.predict(features_test)\n",
    "\n",
    "        features_train_cluster = np.concatenate((features_train, prediction_train.reshape(-1, 1)), axis=1)\n",
    "        features_test_cluster = np.concatenate((features_test, prediction_test.reshape(-1, 1)), axis=1)\n",
    "\n",
    "        clf = GradientBoostingRegressor(n_estimators=300, min_samples_split=5, min_samples_leaf=2, random_state=23)\n",
    "        #clf = xgboost.XGBRegressor(max_depth=3, n_estimators=350)\n",
    "        clf.fit(features_train_cluster, labels_train.reshape(-1))\n",
    "\n",
    "        prediction = clf.predict(features_test_cluster)\n",
    "\n",
    "        print(\"Number of clusters:\", num_of_clusters, \", and the error is\", mean_absolute_error(labels_test, prediction))    "
   ]
  },
  {
   "cell_type": "code",
   "execution_count": 3813,
   "metadata": {},
   "outputs": [],
   "source": [
    "if (False):\n",
    "    for num_of_clusters in range(2, 32):\n",
    "        k_means = KMeans(n_clusters=num_of_clusters, random_state=23, n_jobs=-1)\n",
    "        k_means.fit(features)\n",
    "        prediction = k_means.predict(features)\n",
    "\n",
    "        features_cluster = np.concatenate((features, prediction.reshape(-1, 1)), axis=1)\n",
    "\n",
    "        f_train, f_test, l_train, l_test = train_test_split(features_cluster, labels, test_size=0.3, random_state=23)\n",
    "\n",
    "        clf = GradientBoostingRegressor(n_estimators=300, min_samples_split=5, min_samples_leaf=2, random_state=23)\n",
    "        clf.fit(f_train, l_train.reshape(-1))\n",
    "        prediction = clf.predict(f_test)\n",
    "\n",
    "        print(\"Number of clusters:\", num_of_clusters, \", and the error is\", mean_absolute_error(l_test, prediction))"
   ]
  },
  {
   "cell_type": "code",
   "execution_count": 3814,
   "metadata": {
    "collapsed": true
   },
   "outputs": [],
   "source": [
    "if (use_fe_4):\n",
    "    k_means = KMeans(n_clusters=22, random_state=23, n_jobs=-1)\n",
    "    k_means.fit(features)\n",
    "    prediction = k_means.predict(features)\n",
    "    features = np.concatenate((features, prediction.reshape(-1, 1)), axis=1)"
   ]
  },
  {
   "cell_type": "code",
   "execution_count": null,
   "metadata": {
    "collapsed": true
   },
   "outputs": [],
   "source": []
  },
  {
   "cell_type": "code",
   "execution_count": 3815,
   "metadata": {
    "collapsed": true
   },
   "outputs": [],
   "source": [
    "# Split for train and test sets\n",
    "features_train, features_test, labels_train, labels_test = train_test_split(features, labels, test_size=0.3, random_state=23)"
   ]
  },
  {
   "cell_type": "code",
   "execution_count": 3816,
   "metadata": {},
   "outputs": [
    {
     "name": "stdout",
     "output_type": "stream",
     "text": [
      "Total features processed: 79\n",
      "\n",
      "(1022, 788)\n",
      "(1022, 1)\n"
     ]
    }
   ],
   "source": [
    "print(\"Total features processed:\", cols_count)\n",
    "print(\"\")\n",
    "print(features_train.shape)\n",
    "print(labels_train.shape)"
   ]
  },
  {
   "cell_type": "code",
   "execution_count": null,
   "metadata": {
    "scrolled": true
   },
   "outputs": [],
   "source": []
  },
  {
   "cell_type": "markdown",
   "metadata": {
    "scrolled": true
   },
   "source": [
    "### Feature Engineering 2: make all Years (4 features) as Categorial  \n",
    "Небольшое улучшение, если сделать категориальным признаком только YearBuilt и YrSold"
   ]
  },
  {
   "cell_type": "code",
   "execution_count": null,
   "metadata": {
    "collapsed": true
   },
   "outputs": [],
   "source": []
  },
  {
   "cell_type": "markdown",
   "metadata": {},
   "source": [
    "## Algorithm Selection  \n",
    "### Baseline\n",
    "\n",
    "C \"неправильным scaling по строкам перебор параметров закончился так:  \n",
    "-0.027645944962  \n",
    "{'min_samples_split': 6, 'n_estimators': 250, 'min_samples_leaf': 2}  \n",
    "\n",
    "А с маштабированием по столбцам, что вроде более правильно, получается так:  \n",
    "-0.0233410060557  \n",
    "{'min_samples_leaf': 2, 'min_samples_split': 5, 'n_estimators': 300}  \n",
    "\n",
    "А потом пришел XGBoost...\n",
    "\n",
    "Итоговое значение baseline от XGBoost:  \n",
    "#### 0.020811031242"
   ]
  },
  {
   "cell_type": "code",
   "execution_count": 3189,
   "metadata": {},
   "outputs": [],
   "source": [
    "#\n",
    "# For Averaging\n",
    "#\n",
    "\n",
    "results = pd.DataFrame()\n",
    "results['Target'] = labels_test.reshape(-1)"
   ]
  },
  {
   "cell_type": "markdown",
   "metadata": {},
   "source": [
    "### Gradient Boosting"
   ]
  },
  {
   "cell_type": "code",
   "execution_count": 3624,
   "metadata": {
    "collapsed": true
   },
   "outputs": [],
   "source": [
    "def choose_GBM(X, y):\n",
    "    GBR = GradientBoostingRegressor(random_state=23)\n",
    "\n",
    "    parameters_grid = {\n",
    "        \"n_estimators\": [250, 300, 350],\n",
    "        \"min_samples_split\": [2, 3, 4, 5, 6],\n",
    "        \"min_samples_leaf\": [1, 2, 3, 4]\n",
    "    }\n",
    "\n",
    "    gcv = GridSearchCV(GBR, parameters_grid, scoring='neg_mean_absolute_error')\n",
    "\n",
    "    gcv.fit(X, y.reshape(-1))\n",
    "\n",
    "    print(gcv.best_score_)\n",
    "    print(gcv.best_params_)\n",
    "    \n",
    "    return gcv.best_estimator_"
   ]
  },
  {
   "cell_type": "code",
   "execution_count": 3625,
   "metadata": {},
   "outputs": [
    {
     "name": "stdout",
     "output_type": "stream",
     "text": [
      "-0.0236477878855\n",
      "{'min_samples_leaf': 1, 'min_samples_split': 2, 'n_estimators': 350}\n",
      "0.0204115459831\n",
      "Wall time: 7min 48s\n"
     ]
    }
   ],
   "source": [
    "%%time\n",
    "\n",
    "clf = choose_GBM(features_train, labels_train)\n",
    "\n",
    "clf.fit(features_train, labels_train.reshape(-1))\n",
    "prediction = clf.predict(features_test)\n",
    "\n",
    "print(mean_absolute_error(labels_test, prediction))\n",
    "\n",
    "#results['GBM'] = prediction.reshape(-1)"
   ]
  },
  {
   "cell_type": "code",
   "execution_count": 3817,
   "metadata": {},
   "outputs": [
    {
     "name": "stdout",
     "output_type": "stream",
     "text": [
      "0.0208372508967\n"
     ]
    }
   ],
   "source": [
    "clf = GradientBoostingRegressor(n_estimators=300, min_samples_split=5, min_samples_leaf=2, random_state=23)\n",
    "clf.fit(features_train, labels_train.reshape(-1))\n",
    "prediction = clf.predict(features_test)\n",
    "\n",
    "print(mean_absolute_error(labels_test, prediction))\n",
    "\n",
    "results['GBM'] = prediction.reshape(-1)"
   ]
  },
  {
   "cell_type": "code",
   "execution_count": 3197,
   "metadata": {},
   "outputs": [
    {
     "data": {
      "text/html": [
       "<div>\n",
       "<style>\n",
       "    .dataframe thead tr:only-child th {\n",
       "        text-align: right;\n",
       "    }\n",
       "\n",
       "    .dataframe thead th {\n",
       "        text-align: left;\n",
       "    }\n",
       "\n",
       "    .dataframe tbody tr th {\n",
       "        vertical-align: top;\n",
       "    }\n",
       "</style>\n",
       "<table border=\"1\" class=\"dataframe\">\n",
       "  <thead>\n",
       "    <tr style=\"text-align: right;\">\n",
       "      <th></th>\n",
       "      <th>Target</th>\n",
       "      <th>GBM</th>\n",
       "      <th>MaxDiff</th>\n",
       "      <th>SalePrice</th>\n",
       "    </tr>\n",
       "  </thead>\n",
       "  <tbody>\n",
       "    <tr>\n",
       "      <th>323</th>\n",
       "      <td>0.523179</td>\n",
       "      <td>0.353205</td>\n",
       "      <td>0.169974</td>\n",
       "      <td>395000.0</td>\n",
       "    </tr>\n",
       "    <tr>\n",
       "      <th>423</th>\n",
       "      <td>1.000000</td>\n",
       "      <td>0.840915</td>\n",
       "      <td>0.159085</td>\n",
       "      <td>755000.0</td>\n",
       "    </tr>\n",
       "    <tr>\n",
       "      <th>401</th>\n",
       "      <td>0.496689</td>\n",
       "      <td>0.359057</td>\n",
       "      <td>0.137631</td>\n",
       "      <td>375000.0</td>\n",
       "    </tr>\n",
       "    <tr>\n",
       "      <th>426</th>\n",
       "      <td>0.519868</td>\n",
       "      <td>0.397163</td>\n",
       "      <td>0.122705</td>\n",
       "      <td>392500.0</td>\n",
       "    </tr>\n",
       "    <tr>\n",
       "      <th>132</th>\n",
       "      <td>0.365563</td>\n",
       "      <td>0.487139</td>\n",
       "      <td>0.121576</td>\n",
       "      <td>276000.0</td>\n",
       "    </tr>\n",
       "    <tr>\n",
       "      <th>49</th>\n",
       "      <td>0.370861</td>\n",
       "      <td>0.263901</td>\n",
       "      <td>0.106960</td>\n",
       "      <td>280000.0</td>\n",
       "    </tr>\n",
       "    <tr>\n",
       "      <th>9</th>\n",
       "      <td>0.582781</td>\n",
       "      <td>0.482172</td>\n",
       "      <td>0.100609</td>\n",
       "      <td>440000.0</td>\n",
       "    </tr>\n",
       "  </tbody>\n",
       "</table>\n",
       "</div>"
      ],
      "text/plain": [
       "       Target       GBM   MaxDiff  SalePrice\n",
       "323  0.523179  0.353205  0.169974   395000.0\n",
       "423  1.000000  0.840915  0.159085   755000.0\n",
       "401  0.496689  0.359057  0.137631   375000.0\n",
       "426  0.519868  0.397163  0.122705   392500.0\n",
       "132  0.365563  0.487139  0.121576   276000.0\n",
       "49   0.370861  0.263901  0.106960   280000.0\n",
       "9    0.582781  0.482172  0.100609   440000.0"
      ]
     },
     "execution_count": 3197,
     "metadata": {},
     "output_type": "execute_result"
    }
   ],
   "source": [
    "results['MaxDiff'] = np.abs(results.Target - results.GBM)\n",
    "results['SalePrice'] = labels_max * results.Target\n",
    "results.sort_values('MaxDiff', ascending=False).head(7)"
   ]
  },
  {
   "cell_type": "code",
   "execution_count": 3200,
   "metadata": {
    "scrolled": true
   },
   "outputs": [
    {
     "data": {
      "text/html": [
       "<div>\n",
       "<style>\n",
       "    .dataframe thead tr:only-child th {\n",
       "        text-align: right;\n",
       "    }\n",
       "\n",
       "    .dataframe thead th {\n",
       "        text-align: left;\n",
       "    }\n",
       "\n",
       "    .dataframe tbody tr th {\n",
       "        vertical-align: top;\n",
       "    }\n",
       "</style>\n",
       "<table border=\"1\" class=\"dataframe\">\n",
       "  <thead>\n",
       "    <tr style=\"text-align: right;\">\n",
       "      <th></th>\n",
       "      <th>Id</th>\n",
       "      <th>MSSubClass</th>\n",
       "      <th>MSZoning</th>\n",
       "      <th>LotFrontage</th>\n",
       "      <th>LotArea</th>\n",
       "      <th>Street</th>\n",
       "      <th>Alley</th>\n",
       "      <th>LotShape</th>\n",
       "      <th>LandContour</th>\n",
       "      <th>Utilities</th>\n",
       "      <th>...</th>\n",
       "      <th>PoolQC</th>\n",
       "      <th>Fence</th>\n",
       "      <th>MiscFeature</th>\n",
       "      <th>MiscVal</th>\n",
       "      <th>MoSold</th>\n",
       "      <th>YrSold</th>\n",
       "      <th>SaleType</th>\n",
       "      <th>SaleCondition</th>\n",
       "      <th>SalePrice</th>\n",
       "      <th>LivingAreaSF</th>\n",
       "    </tr>\n",
       "  </thead>\n",
       "  <tbody>\n",
       "    <tr>\n",
       "      <th>313</th>\n",
       "      <td>314</td>\n",
       "      <td>20</td>\n",
       "      <td>RL</td>\n",
       "      <td>150.0</td>\n",
       "      <td>215245</td>\n",
       "      <td>Pave</td>\n",
       "      <td>NA</td>\n",
       "      <td>IR3</td>\n",
       "      <td>Low</td>\n",
       "      <td>AllPub</td>\n",
       "      <td>...</td>\n",
       "      <td>NA</td>\n",
       "      <td>NA</td>\n",
       "      <td>NA</td>\n",
       "      <td>0</td>\n",
       "      <td>6</td>\n",
       "      <td>2009</td>\n",
       "      <td>WD</td>\n",
       "      <td>Normal</td>\n",
       "      <td>375000</td>\n",
       "      <td>4172</td>\n",
       "    </tr>\n",
       "  </tbody>\n",
       "</table>\n",
       "<p>1 rows × 82 columns</p>\n",
       "</div>"
      ],
      "text/plain": [
       "      Id  MSSubClass MSZoning  LotFrontage  LotArea Street Alley LotShape  \\\n",
       "313  314          20       RL        150.0   215245   Pave    NA      IR3   \n",
       "\n",
       "    LandContour Utilities      ...      PoolQC Fence MiscFeature MiscVal  \\\n",
       "313         Low    AllPub      ...          NA    NA          NA       0   \n",
       "\n",
       "    MoSold YrSold SaleType  SaleCondition  SalePrice  LivingAreaSF  \n",
       "313      6   2009       WD         Normal     375000          4172  \n",
       "\n",
       "[1 rows x 82 columns]"
      ]
     },
     "execution_count": 3200,
     "metadata": {},
     "output_type": "execute_result"
    }
   ],
   "source": [
    "train[train.SalePrice == 375000]"
   ]
  },
  {
   "cell_type": "markdown",
   "metadata": {},
   "source": [
    "### Decision Tree"
   ]
  },
  {
   "cell_type": "code",
   "execution_count": 3309,
   "metadata": {},
   "outputs": [
    {
     "name": "stdout",
     "output_type": "stream",
     "text": [
      "-0.0328840106214\n",
      "{'max_depth': 8, 'min_samples_leaf': 6, 'min_samples_split': 2}\n",
      "Wall time: 40.7 s\n"
     ]
    }
   ],
   "source": [
    "%%time\n",
    "clf = DecisionTreeRegressor(random_state=23)\n",
    "\n",
    "parameters_grid = {\n",
    "    \"max_depth\": [2, 3, 4, 5, 6, 7, 8, 9, 10],\n",
    "    \"min_samples_split\": [2, 3, 4, 5, 6, 7, 8, 9],\n",
    "    \"min_samples_leaf\": [1, 2, 3, 4, 5, 6, 7],\n",
    "}\n",
    "\n",
    "gcv = GridSearchCV(clf, parameters_grid, scoring='neg_mean_absolute_error')\n",
    "\n",
    "gcv.fit(features_train, labels_train.reshape(-1))\n",
    "\n",
    "print(gcv.best_score_)\n",
    "print(gcv.best_params_)"
   ]
  },
  {
   "cell_type": "markdown",
   "metadata": {},
   "source": [
    "### Random Forest"
   ]
  },
  {
   "cell_type": "code",
   "execution_count": 3118,
   "metadata": {},
   "outputs": [
    {
     "name": "stdout",
     "output_type": "stream",
     "text": [
      "-0.0251955715436\n",
      "{'min_samples_leaf': 1, 'min_samples_split': 2, 'n_estimators': 300}\n",
      "Wall time: 6min 21s\n"
     ]
    }
   ],
   "source": [
    "%%time\n",
    "RFR = RandomForestRegressor(n_jobs=-1, random_state=23)\n",
    "\n",
    "parameters_grid = {\n",
    "    \"n_estimators\": [200, 250, 300],\n",
    "    \"min_samples_split\": [2, 3, 4, 5, 6],\n",
    "    \"min_samples_leaf\": [1, 2, 3, 4]\n",
    "}\n",
    "\n",
    "gcv = GridSearchCV(RFR, parameters_grid, scoring='neg_mean_absolute_error')\n",
    "\n",
    "gcv.fit(features_train, labels_train.reshape(-1))\n",
    "\n",
    "print(gcv.best_score_)\n",
    "print(gcv.best_params_)"
   ]
  },
  {
   "cell_type": "code",
   "execution_count": 3119,
   "metadata": {
    "collapsed": true
   },
   "outputs": [],
   "source": [
    "clf = gcv.best_estimator_\n",
    "clf.fit(features_train, labels_train.reshape(-1))\n",
    "prediction = clf.predict(features_test)\n",
    "results['RF'] = prediction.reshape(-1)"
   ]
  },
  {
   "cell_type": "markdown",
   "metadata": {},
   "source": [
    "### K Nearest Neighbors"
   ]
  },
  {
   "cell_type": "code",
   "execution_count": 3120,
   "metadata": {},
   "outputs": [
    {
     "name": "stdout",
     "output_type": "stream",
     "text": [
      "-0.0315106462462\n",
      "{'n_neighbors': 4}\n",
      "Wall time: 13.7 s\n"
     ]
    }
   ],
   "source": [
    "%%time\n",
    "clf = KNeighborsRegressor(n_jobs=-1)\n",
    "\n",
    "parameters_grid = {\n",
    "    \"n_neighbors\": list(range(1, 15)),\n",
    "}\n",
    "\n",
    "gcv = GridSearchCV(clf, parameters_grid, scoring='neg_mean_absolute_error')\n",
    "\n",
    "gcv.fit(features_train, labels_train.reshape(-1))\n",
    "\n",
    "print(gcv.best_score_)\n",
    "print(gcv.best_params_)"
   ]
  },
  {
   "cell_type": "code",
   "execution_count": 3121,
   "metadata": {
    "collapsed": true
   },
   "outputs": [],
   "source": [
    "clf = gcv.best_estimator_\n",
    "clf.fit(features_train, labels_train.reshape(-1))\n",
    "prediction = clf.predict(features_test)\n",
    "results['KNN'] = prediction.reshape(-1)"
   ]
  },
  {
   "cell_type": "markdown",
   "metadata": {
    "collapsed": true
   },
   "source": [
    "### Ridge"
   ]
  },
  {
   "cell_type": "code",
   "execution_count": 3122,
   "metadata": {},
   "outputs": [
    {
     "name": "stdout",
     "output_type": "stream",
     "text": [
      "-0.027760137914\n",
      "{'alpha': 10.0}\n",
      "Wall time: 873 ms\n"
     ]
    }
   ],
   "source": [
    "%%time\n",
    "clf = Ridge(random_state=23)\n",
    "\n",
    "parameters_grid = {\n",
    "    \"alpha\": [0.1, 1.0, 2.0, 2.5, 5.0, 10.0],\n",
    "}\n",
    "\n",
    "gcv = GridSearchCV(clf, parameters_grid, scoring='neg_mean_absolute_error')\n",
    "\n",
    "gcv.fit(features_train, labels_train.reshape(-1))\n",
    "\n",
    "print(gcv.best_score_)\n",
    "print(gcv.best_params_)"
   ]
  },
  {
   "cell_type": "code",
   "execution_count": 3123,
   "metadata": {
    "collapsed": true
   },
   "outputs": [],
   "source": [
    "clf = gcv.best_estimator_\n",
    "clf.fit(features_train, labels_train.reshape(-1))\n",
    "prediction = clf.predict(features_test)\n",
    "results['Ridge'] = prediction.reshape(-1)"
   ]
  },
  {
   "cell_type": "markdown",
   "metadata": {},
   "source": [
    "### Kernel Ridge"
   ]
  },
  {
   "cell_type": "code",
   "execution_count": 3124,
   "metadata": {},
   "outputs": [],
   "source": [
    "def choose_KernelRidge(X, y):\n",
    "    clf = KernelRidge()\n",
    "\n",
    "    parameters_grid = {\n",
    "        \"kernel\": ['polynomial', 'rbf'], \n",
    "        \"alpha\": [1e0, 0.1, 1e-2, 1e-3],\n",
    "        \"gamma\": np.logspace(-3, 3, 10)    \n",
    "    }\n",
    "\n",
    "    gcv = GridSearchCV(clf, parameters_grid, scoring='neg_mean_absolute_error')\n",
    "\n",
    "    gcv.fit(X, y.reshape(-1))\n",
    "\n",
    "    print(gcv.best_score_)\n",
    "    print(gcv.best_params_)\n",
    "    \n",
    "    return gcv.best_estimator_"
   ]
  },
  {
   "cell_type": "code",
   "execution_count": 3125,
   "metadata": {},
   "outputs": [
    {
     "name": "stdout",
     "output_type": "stream",
     "text": [
      "-0.0271212632216\n",
      "{'alpha': 0.1, 'gamma': 0.0046415888336127772, 'kernel': 'rbf'}\n",
      "0.0246224559331\n"
     ]
    }
   ],
   "source": [
    "clf = choose_KernelRidge(features_train, labels_train)\n",
    "\n",
    "clf.fit(features_train, labels_train.reshape(-1))\n",
    "prediction = clf.predict(features_test)\n",
    "\n",
    "print(mean_absolute_error(labels_test, prediction))\n",
    "\n",
    "results['K_Ridge'] = prediction.reshape(-1)"
   ]
  },
  {
   "cell_type": "markdown",
   "metadata": {},
   "source": [
    "### SVR"
   ]
  },
  {
   "cell_type": "code",
   "execution_count": 3126,
   "metadata": {},
   "outputs": [
    {
     "name": "stdout",
     "output_type": "stream",
     "text": [
      "-0.0529154749451\n",
      "{'C': 10.0, 'gamma': 0.01, 'kernel': 'rbf'}\n",
      "Wall time: 23.2 s\n"
     ]
    }
   ],
   "source": [
    "%%time\n",
    "clf = SVR()\n",
    "\n",
    "parameters_grid = {\n",
    "    \"kernel\": ['rbf', 'poly'],\n",
    "    \"C\": [1e0, 1e1, 1e2, 1e3],\n",
    "    \"gamma\": np.logspace(-2, 2, 5)\n",
    "}\n",
    "\n",
    "gcv = GridSearchCV(clf, parameters_grid, scoring='neg_mean_absolute_error')\n",
    "\n",
    "gcv.fit(features_train, labels_train.reshape(-1))\n",
    "\n",
    "print(gcv.best_score_)\n",
    "print(gcv.best_params_)"
   ]
  },
  {
   "cell_type": "code",
   "execution_count": 3127,
   "metadata": {
    "collapsed": true
   },
   "outputs": [],
   "source": [
    "clf = gcv.best_estimator_\n",
    "clf.fit(features_train, labels_train.reshape(-1))\n",
    "prediction = clf.predict(features_test)\n",
    "results['SVR'] = prediction.reshape(-1)"
   ]
  },
  {
   "cell_type": "markdown",
   "metadata": {},
   "source": [
    "### XGBoost"
   ]
  },
  {
   "cell_type": "code",
   "execution_count": 3128,
   "metadata": {},
   "outputs": [],
   "source": [
    "def choose_XGB(X, y):\n",
    "    XGB = xgboost.XGBRegressor()\n",
    "\n",
    "    parameters_grid = {\n",
    "        #\"n_estimators\": [50, 100, 150, 200, 250, 300],\n",
    "        \"n_estimators\": [250, 300, 350],\n",
    "        #\"max_depth\": [2, 3, 4, 5, 6, 7, 8],\n",
    "        \"max_depth\": [3, 4, 5],\n",
    "        #\"learning_rate\": [0.1, 0.05, 0.01]\n",
    "        #\"learning_rate\": [0.1],\n",
    "    }\n",
    "\n",
    "    gcv = GridSearchCV(XGB, parameters_grid, scoring='neg_mean_absolute_error')\n",
    "\n",
    "    gcv.fit(X, y.reshape(-1))\n",
    "\n",
    "    print(gcv.best_score_)\n",
    "    print(gcv.best_params_)\n",
    "    \n",
    "    return gcv.best_estimator_"
   ]
  },
  {
   "cell_type": "code",
   "execution_count": 3129,
   "metadata": {},
   "outputs": [
    {
     "name": "stdout",
     "output_type": "stream",
     "text": [
      "-0.0235523738412\n",
      "{'max_depth': 3, 'n_estimators': 350}\n",
      "0.0202246420994\n",
      "Wall time: 1min 50s\n"
     ]
    }
   ],
   "source": [
    "%%time\n",
    "\n",
    "clf = choose_XGB(features_train, labels_train)\n",
    "\n",
    "clf.fit(features_train, labels_train.reshape(-1))\n",
    "prediction = clf.predict(features_test)\n",
    "\n",
    "print(mean_absolute_error(labels_test, prediction))\n",
    "\n",
    "results['XGB'] = prediction.reshape(-1)"
   ]
  },
  {
   "cell_type": "code",
   "execution_count": 3130,
   "metadata": {},
   "outputs": [
    {
     "name": "stdout",
     "output_type": "stream",
     "text": [
      "0.0202246420994\n"
     ]
    }
   ],
   "source": [
    "XGB = xgboost.XGBRegressor(max_depth=3, n_estimators=350)\n",
    "XGB.fit(features_train, labels_train.reshape(-1))\n",
    "\n",
    "XGB_prediction = XGB.predict(features_test)\n",
    "\n",
    "print(mean_absolute_error(labels_test, XGB_prediction))\n",
    "\n",
    "results['XGB'] = prediction.reshape(-1)"
   ]
  },
  {
   "cell_type": "code",
   "execution_count": null,
   "metadata": {},
   "outputs": [],
   "source": []
  },
  {
   "cell_type": "markdown",
   "metadata": {},
   "source": [
    "### Averaging  \n",
    "В итоге именно это дало самый сильный прирост  \n",
    "Усреднил три алгоритма: XGB, GBM (с кластерами), Kernel Ridge"
   ]
  },
  {
   "cell_type": "code",
   "execution_count": 3135,
   "metadata": {},
   "outputs": [
    {
     "data": {
      "text/html": [
       "<div>\n",
       "<style>\n",
       "    .dataframe thead tr:only-child th {\n",
       "        text-align: right;\n",
       "    }\n",
       "\n",
       "    .dataframe thead th {\n",
       "        text-align: left;\n",
       "    }\n",
       "\n",
       "    .dataframe tbody tr th {\n",
       "        vertical-align: top;\n",
       "    }\n",
       "</style>\n",
       "<table border=\"1\" class=\"dataframe\">\n",
       "  <thead>\n",
       "    <tr style=\"text-align: right;\">\n",
       "      <th></th>\n",
       "      <th>Target</th>\n",
       "      <th>GBM</th>\n",
       "      <th>RF</th>\n",
       "      <th>KNN</th>\n",
       "      <th>Ridge</th>\n",
       "      <th>K_Ridge</th>\n",
       "      <th>SVR</th>\n",
       "      <th>XGB</th>\n",
       "    </tr>\n",
       "  </thead>\n",
       "  <tbody>\n",
       "    <tr>\n",
       "      <th>418</th>\n",
       "      <td>0.185430</td>\n",
       "      <td>0.210459</td>\n",
       "      <td>0.205755</td>\n",
       "      <td>0.202318</td>\n",
       "      <td>0.186442</td>\n",
       "      <td>0.208203</td>\n",
       "      <td>0.253235</td>\n",
       "      <td>0.212343</td>\n",
       "    </tr>\n",
       "    <tr>\n",
       "      <th>419</th>\n",
       "      <td>0.423841</td>\n",
       "      <td>0.413093</td>\n",
       "      <td>0.442815</td>\n",
       "      <td>0.471893</td>\n",
       "      <td>0.459592</td>\n",
       "      <td>0.445279</td>\n",
       "      <td>0.445503</td>\n",
       "      <td>0.443035</td>\n",
       "    </tr>\n",
       "    <tr>\n",
       "      <th>420</th>\n",
       "      <td>0.207947</td>\n",
       "      <td>0.218420</td>\n",
       "      <td>0.213379</td>\n",
       "      <td>0.182732</td>\n",
       "      <td>0.190609</td>\n",
       "      <td>0.207867</td>\n",
       "      <td>0.238141</td>\n",
       "      <td>0.213875</td>\n",
       "    </tr>\n",
       "    <tr>\n",
       "      <th>421</th>\n",
       "      <td>0.431290</td>\n",
       "      <td>0.520294</td>\n",
       "      <td>0.481843</td>\n",
       "      <td>0.479324</td>\n",
       "      <td>0.423311</td>\n",
       "      <td>0.432471</td>\n",
       "      <td>0.432472</td>\n",
       "      <td>0.515446</td>\n",
       "    </tr>\n",
       "    <tr>\n",
       "      <th>422</th>\n",
       "      <td>0.276159</td>\n",
       "      <td>0.284916</td>\n",
       "      <td>0.282041</td>\n",
       "      <td>0.285364</td>\n",
       "      <td>0.274744</td>\n",
       "      <td>0.281529</td>\n",
       "      <td>0.295055</td>\n",
       "      <td>0.285336</td>\n",
       "    </tr>\n",
       "    <tr>\n",
       "      <th>423</th>\n",
       "      <td>1.000000</td>\n",
       "      <td>0.840915</td>\n",
       "      <td>0.709522</td>\n",
       "      <td>0.739884</td>\n",
       "      <td>0.643035</td>\n",
       "      <td>0.641949</td>\n",
       "      <td>0.625518</td>\n",
       "      <td>0.831513</td>\n",
       "    </tr>\n",
       "    <tr>\n",
       "      <th>424</th>\n",
       "      <td>0.214570</td>\n",
       "      <td>0.225402</td>\n",
       "      <td>0.213215</td>\n",
       "      <td>0.194040</td>\n",
       "      <td>0.213333</td>\n",
       "      <td>0.228522</td>\n",
       "      <td>0.268378</td>\n",
       "      <td>0.222790</td>\n",
       "    </tr>\n",
       "    <tr>\n",
       "      <th>425</th>\n",
       "      <td>0.370861</td>\n",
       "      <td>0.357420</td>\n",
       "      <td>0.334470</td>\n",
       "      <td>0.342881</td>\n",
       "      <td>0.408221</td>\n",
       "      <td>0.388113</td>\n",
       "      <td>0.372673</td>\n",
       "      <td>0.357444</td>\n",
       "    </tr>\n",
       "    <tr>\n",
       "      <th>426</th>\n",
       "      <td>0.519868</td>\n",
       "      <td>0.397163</td>\n",
       "      <td>0.381616</td>\n",
       "      <td>0.337914</td>\n",
       "      <td>0.402212</td>\n",
       "      <td>0.392188</td>\n",
       "      <td>0.330876</td>\n",
       "      <td>0.387940</td>\n",
       "    </tr>\n",
       "    <tr>\n",
       "      <th>427</th>\n",
       "      <td>0.230464</td>\n",
       "      <td>0.214828</td>\n",
       "      <td>0.224799</td>\n",
       "      <td>0.230497</td>\n",
       "      <td>0.197793</td>\n",
       "      <td>0.208389</td>\n",
       "      <td>0.271450</td>\n",
       "      <td>0.220245</td>\n",
       "    </tr>\n",
       "    <tr>\n",
       "      <th>428</th>\n",
       "      <td>0.148344</td>\n",
       "      <td>0.121936</td>\n",
       "      <td>0.156142</td>\n",
       "      <td>0.140033</td>\n",
       "      <td>0.131467</td>\n",
       "      <td>0.127891</td>\n",
       "      <td>0.144196</td>\n",
       "      <td>0.119790</td>\n",
       "    </tr>\n",
       "    <tr>\n",
       "      <th>429</th>\n",
       "      <td>0.245033</td>\n",
       "      <td>0.229326</td>\n",
       "      <td>0.222276</td>\n",
       "      <td>0.241225</td>\n",
       "      <td>0.251856</td>\n",
       "      <td>0.231514</td>\n",
       "      <td>0.271642</td>\n",
       "      <td>0.229803</td>\n",
       "    </tr>\n",
       "    <tr>\n",
       "      <th>430</th>\n",
       "      <td>0.186755</td>\n",
       "      <td>0.200048</td>\n",
       "      <td>0.195013</td>\n",
       "      <td>0.191325</td>\n",
       "      <td>0.215409</td>\n",
       "      <td>0.217186</td>\n",
       "      <td>0.231636</td>\n",
       "      <td>0.194270</td>\n",
       "    </tr>\n",
       "    <tr>\n",
       "      <th>431</th>\n",
       "      <td>0.149669</td>\n",
       "      <td>0.144392</td>\n",
       "      <td>0.153623</td>\n",
       "      <td>0.134768</td>\n",
       "      <td>0.143454</td>\n",
       "      <td>0.132469</td>\n",
       "      <td>0.164007</td>\n",
       "      <td>0.144609</td>\n",
       "    </tr>\n",
       "    <tr>\n",
       "      <th>432</th>\n",
       "      <td>0.188742</td>\n",
       "      <td>0.203878</td>\n",
       "      <td>0.198280</td>\n",
       "      <td>0.203775</td>\n",
       "      <td>0.211748</td>\n",
       "      <td>0.198134</td>\n",
       "      <td>0.258259</td>\n",
       "      <td>0.201125</td>\n",
       "    </tr>\n",
       "    <tr>\n",
       "      <th>433</th>\n",
       "      <td>0.117881</td>\n",
       "      <td>0.124118</td>\n",
       "      <td>0.128991</td>\n",
       "      <td>0.147318</td>\n",
       "      <td>0.125926</td>\n",
       "      <td>0.132934</td>\n",
       "      <td>0.143100</td>\n",
       "      <td>0.124343</td>\n",
       "    </tr>\n",
       "    <tr>\n",
       "      <th>434</th>\n",
       "      <td>0.232980</td>\n",
       "      <td>0.273723</td>\n",
       "      <td>0.290918</td>\n",
       "      <td>0.240477</td>\n",
       "      <td>0.261665</td>\n",
       "      <td>0.271584</td>\n",
       "      <td>0.339084</td>\n",
       "      <td>0.287455</td>\n",
       "    </tr>\n",
       "    <tr>\n",
       "      <th>435</th>\n",
       "      <td>0.184636</td>\n",
       "      <td>0.186563</td>\n",
       "      <td>0.183851</td>\n",
       "      <td>0.166523</td>\n",
       "      <td>0.184682</td>\n",
       "      <td>0.182064</td>\n",
       "      <td>0.206037</td>\n",
       "      <td>0.186088</td>\n",
       "    </tr>\n",
       "    <tr>\n",
       "      <th>436</th>\n",
       "      <td>0.194702</td>\n",
       "      <td>0.200148</td>\n",
       "      <td>0.185414</td>\n",
       "      <td>0.179868</td>\n",
       "      <td>0.210030</td>\n",
       "      <td>0.206150</td>\n",
       "      <td>0.223584</td>\n",
       "      <td>0.194988</td>\n",
       "    </tr>\n",
       "    <tr>\n",
       "      <th>437</th>\n",
       "      <td>0.199868</td>\n",
       "      <td>0.215874</td>\n",
       "      <td>0.221838</td>\n",
       "      <td>0.184106</td>\n",
       "      <td>0.236886</td>\n",
       "      <td>0.228605</td>\n",
       "      <td>0.291891</td>\n",
       "      <td>0.221404</td>\n",
       "    </tr>\n",
       "  </tbody>\n",
       "</table>\n",
       "</div>"
      ],
      "text/plain": [
       "       Target       GBM        RF       KNN     Ridge   K_Ridge       SVR  \\\n",
       "418  0.185430  0.210459  0.205755  0.202318  0.186442  0.208203  0.253235   \n",
       "419  0.423841  0.413093  0.442815  0.471893  0.459592  0.445279  0.445503   \n",
       "420  0.207947  0.218420  0.213379  0.182732  0.190609  0.207867  0.238141   \n",
       "421  0.431290  0.520294  0.481843  0.479324  0.423311  0.432471  0.432472   \n",
       "422  0.276159  0.284916  0.282041  0.285364  0.274744  0.281529  0.295055   \n",
       "423  1.000000  0.840915  0.709522  0.739884  0.643035  0.641949  0.625518   \n",
       "424  0.214570  0.225402  0.213215  0.194040  0.213333  0.228522  0.268378   \n",
       "425  0.370861  0.357420  0.334470  0.342881  0.408221  0.388113  0.372673   \n",
       "426  0.519868  0.397163  0.381616  0.337914  0.402212  0.392188  0.330876   \n",
       "427  0.230464  0.214828  0.224799  0.230497  0.197793  0.208389  0.271450   \n",
       "428  0.148344  0.121936  0.156142  0.140033  0.131467  0.127891  0.144196   \n",
       "429  0.245033  0.229326  0.222276  0.241225  0.251856  0.231514  0.271642   \n",
       "430  0.186755  0.200048  0.195013  0.191325  0.215409  0.217186  0.231636   \n",
       "431  0.149669  0.144392  0.153623  0.134768  0.143454  0.132469  0.164007   \n",
       "432  0.188742  0.203878  0.198280  0.203775  0.211748  0.198134  0.258259   \n",
       "433  0.117881  0.124118  0.128991  0.147318  0.125926  0.132934  0.143100   \n",
       "434  0.232980  0.273723  0.290918  0.240477  0.261665  0.271584  0.339084   \n",
       "435  0.184636  0.186563  0.183851  0.166523  0.184682  0.182064  0.206037   \n",
       "436  0.194702  0.200148  0.185414  0.179868  0.210030  0.206150  0.223584   \n",
       "437  0.199868  0.215874  0.221838  0.184106  0.236886  0.228605  0.291891   \n",
       "\n",
       "          XGB  \n",
       "418  0.212343  \n",
       "419  0.443035  \n",
       "420  0.213875  \n",
       "421  0.515446  \n",
       "422  0.285336  \n",
       "423  0.831513  \n",
       "424  0.222790  \n",
       "425  0.357444  \n",
       "426  0.387940  \n",
       "427  0.220245  \n",
       "428  0.119790  \n",
       "429  0.229803  \n",
       "430  0.194270  \n",
       "431  0.144609  \n",
       "432  0.201125  \n",
       "433  0.124343  \n",
       "434  0.287455  \n",
       "435  0.186088  \n",
       "436  0.194988  \n",
       "437  0.221404  "
      ]
     },
     "execution_count": 3135,
     "metadata": {},
     "output_type": "execute_result"
    }
   ],
   "source": [
    "results.tail(20)"
   ]
  },
  {
   "cell_type": "code",
   "execution_count": 3148,
   "metadata": {},
   "outputs": [
    {
     "name": "stdout",
     "output_type": "stream",
     "text": [
      "Average vs Target 0.0194436793629\n",
      "GBM vs Target 0.019774964128\n"
     ]
    }
   ],
   "source": [
    "average = np.mean(results[['GBM', 'XGB', 'K_Ridge']], axis=1)\n",
    "\n",
    "print(\"Average vs Target\", mean_absolute_error(results.Target, average))\n",
    "print(\"GBM vs Target\", mean_absolute_error(results.Target, results.GBM))"
   ]
  },
  {
   "cell_type": "markdown",
   "metadata": {},
   "source": [
    "### Новые Признаки"
   ]
  },
  {
   "cell_type": "code",
   "execution_count": null,
   "metadata": {
    "collapsed": true
   },
   "outputs": [],
   "source": []
  },
  {
   "cell_type": "code",
   "execution_count": null,
   "metadata": {
    "collapsed": true
   },
   "outputs": [],
   "source": []
  },
  {
   "cell_type": "code",
   "execution_count": null,
   "metadata": {
    "collapsed": true
   },
   "outputs": [],
   "source": []
  },
  {
   "cell_type": "code",
   "execution_count": null,
   "metadata": {
    "collapsed": true
   },
   "outputs": [],
   "source": []
  },
  {
   "cell_type": "code",
   "execution_count": null,
   "metadata": {
    "collapsed": true
   },
   "outputs": [],
   "source": []
  },
  {
   "cell_type": "code",
   "execution_count": null,
   "metadata": {
    "collapsed": true
   },
   "outputs": [],
   "source": []
  },
  {
   "cell_type": "code",
   "execution_count": null,
   "metadata": {
    "collapsed": true
   },
   "outputs": [],
   "source": []
  },
  {
   "cell_type": "markdown",
   "metadata": {
    "collapsed": true
   },
   "source": [
    "### Neural Network"
   ]
  },
  {
   "cell_type": "code",
   "execution_count": 2742,
   "metadata": {
    "collapsed": true
   },
   "outputs": [],
   "source": [
    "# Transpose to have the shape of (num_of_features, num_of_examples)\n",
    "features_train = features_train.T\n",
    "labels_train = labels_train.T\n",
    "features_test = features_test.T\n",
    "labels_test = labels_test.T"
   ]
  },
  {
   "cell_type": "code",
   "execution_count": 2743,
   "metadata": {
    "collapsed": true,
    "scrolled": true
   },
   "outputs": [],
   "source": [
    "# Helper functions\n",
    "def create_placeholders(n_x, n_y):\n",
    "    \"\"\"\n",
    "    Creates the placeholders for the tensorflow session.\n",
    "    \n",
    "    Arguments:\n",
    "    n_x -- scalar, size of a input data vector \n",
    "    n_y -- scalar, size of output data\n",
    "    \n",
    "    Returns:\n",
    "    X -- placeholder for the data input, of shape [n_x, None] and dtype \"float\"\n",
    "    Y -- placeholder for the input labels, of shape [n_y, None] and dtype \"float\"\n",
    "    \"\"\"\n",
    "\n",
    "    X = tf.placeholder(tf.float32, shape=(n_x, None), name = \"X\")\n",
    "    Y = tf.placeholder(tf.float32, shape=(n_y, None), name = \"Y\")\n",
    "    LR = tf.placeholder(tf.float32, name = \"LR\")\n",
    "    \n",
    "    return X, Y, LR"
   ]
  },
  {
   "cell_type": "code",
   "execution_count": 2744,
   "metadata": {
    "collapsed": true
   },
   "outputs": [],
   "source": [
    "# Helper functions\n",
    "def forward_propagation(X, parameters, keep_prob):\n",
    "    \"\"\"\n",
    "    Implements the forward propagation for the model: LINEAR -> RELU -> etc.\n",
    "    \n",
    "    Arguments:\n",
    "    X -- input dataset placeholder, of shape (input size, number of examples)\n",
    "    parameters -- python dictionary containing your parameters \"W1\", \"b1\", \"W2\", \"b2\", \"W3\", \"b3\"\n",
    "                  the shapes are given in initialize_parameters\n",
    "\n",
    "    Returns:\n",
    "    Z3 -- the output of the last LINEAR unit\n",
    "    \"\"\"\n",
    "    \n",
    "    # Retrieve the parameters from the dictionary \"parameters\" \n",
    "    W1 = parameters['W1']\n",
    "    b1 = parameters['b1']\n",
    "    W2 = parameters['W2']\n",
    "    b2 = parameters['b2']\n",
    "    W3 = parameters['W3']\n",
    "    b3 = parameters['b3']\n",
    "    \n",
    "    # The model\n",
    "    Z1 = tf.add(tf.matmul(W1, X), b1)                                              \n",
    "    A1 = tf.nn.dropout(tf.nn.relu(Z1), keep_prob)\n",
    "    #A1 = tf.nn.relu(Z1)\n",
    "    \n",
    "    Z2 = tf.add(tf.matmul(W2, A1), b2)                                              \n",
    "    A2 = tf.nn.dropout(tf.nn.relu(Z2), keep_prob)\n",
    "    #A2 = tf.nn.relu(Z2)\n",
    "    \n",
    "    Z3 = tf.add(tf.matmul(W3, A2), b3)\n",
    "\n",
    "    return Z3"
   ]
  },
  {
   "cell_type": "code",
   "execution_count": 2745,
   "metadata": {
    "collapsed": true
   },
   "outputs": [],
   "source": [
    "# Helper functions\n",
    "def compute_cost(Yhat, Y, parameters, lambd=0.0):\n",
    "    \"\"\"\n",
    "    Computes the cost\n",
    "    \n",
    "    Arguments:\n",
    "    Yhat -- output of forward propagation (output of the last LINEAR unit), of shape (6, number of examples)\n",
    "    Y -- \"true\" labels vector placeholder, same shape as Z3\n",
    "    \n",
    "    Returns:\n",
    "    cost - Tensor of the cost function\n",
    "    \"\"\"\n",
    "    \n",
    "    # Retrieve the parameters from the dictionary \"parameters\" \n",
    "    W1 = parameters['W1']\n",
    "    W2 = parameters['W2']\n",
    "    W3 = parameters['W3']\n",
    "    \n",
    "    cost = tf.reduce_mean(\n",
    "        tf.nn.l2_loss(Yhat - Y) +\n",
    "        lambd*tf.nn.l2_loss(W1) + lambd*tf.nn.l2_loss(W2) + \n",
    "        lambd*tf.nn.l2_loss(W3))\n",
    "    \n",
    "    return cost"
   ]
  },
  {
   "cell_type": "code",
   "execution_count": 2746,
   "metadata": {
    "collapsed": true
   },
   "outputs": [],
   "source": [
    "# Helper functions"
   ]
  },
  {
   "cell_type": "code",
   "execution_count": 2747,
   "metadata": {
    "collapsed": true
   },
   "outputs": [],
   "source": [
    "# Helper functions"
   ]
  },
  {
   "cell_type": "code",
   "execution_count": 2748,
   "metadata": {
    "collapsed": true
   },
   "outputs": [],
   "source": [
    "# Helper functions"
   ]
  },
  {
   "cell_type": "code",
   "execution_count": 2749,
   "metadata": {
    "collapsed": true
   },
   "outputs": [],
   "source": [
    "# Helper functions\n",
    "def model(X_train, Y_train, X_test, Y_test, learning_rate=0.001, lambd=0.0, keep_prob=1.0,\n",
    "          num_epochs=1000, minibatch_size=64, print_cost=True):\n",
    "    \"\"\"\n",
    "    Implements a three-layer tensorflow neural network: LINEAR->RELU->LINEAR->RELU->LINEAR\n",
    "    \n",
    "    Arguments:\n",
    "    X_train -- training set, of shape (input size = 12288, number of training examples = 1080)\n",
    "    Y_train -- test set, of shape (output size = 6, number of training examples = 1080)\n",
    "    X_test -- training set, of shape (input size = 12288, number of training examples = 120)\n",
    "    Y_test -- test set, of shape (output size = 6, number of test examples = 120)\n",
    "    learning_rate -- learning rate of the optimization\n",
    "    lambd -- regularization parameter\n",
    "    num_epochs -- number of epochs of the optimization loop\n",
    "    minibatch_size -- size of a minibatch\n",
    "    print_cost -- True to print the cost every 100 epochs\n",
    "    \n",
    "    Returns:\n",
    "    parameters -- parameters learnt by the model. They can then be used to predict.\n",
    "    \"\"\"\n",
    "    \n",
    "    ops.reset_default_graph()                         # to be able to rerun the model without overwriting tf variables\n",
    "    tf.set_random_seed(1)                             # to keep consistent results\n",
    "    seed = 3                                          # to keep consistent results\n",
    "    (n_x, m) = X_train.shape                          # (n_x: input size, m : number of examples in the train set)\n",
    "    n_y = Y_train.shape[0]                            # n_y : output size\n",
    "    costs = []                                        # To keep track of the cost\n",
    "    \n",
    "    # To keep track of MAE on test set\n",
    "    test_mae = [] \n",
    "    \n",
    "    # Create Placeholders of shape (n_x, n_y)\n",
    "    X, Y, LR = create_placeholders(n_x, n_y)\n",
    "\n",
    "    # Initialize parameters\n",
    "    parameters = initialize_parameters()\n",
    "    \n",
    "    # Forward propagation: Build the forward propagation in the tensorflow graph\n",
    "    last_activation = forward_propagation(X, parameters, keep_prob)\n",
    "    \n",
    "    # Cost function: Add cost function to tensorflow graph\n",
    "    cost = compute_cost(last_activation, Y, parameters, lambd)\n",
    "    \n",
    "    # Backpropagation: Define the tensorflow optimizer. Use an AdamOptimizer.\n",
    "    optimizer = tf.train.AdamOptimizer(learning_rate=LR).minimize(cost)\n",
    "    \n",
    "    # Initialize all the variables\n",
    "    init = tf.global_variables_initializer()\n",
    "\n",
    "    # Start the session to compute the tensorflow graph\n",
    "    with tf.Session() as sess:\n",
    "        \n",
    "        # Run the initialization\n",
    "        sess.run(init)\n",
    "        \n",
    "        # Do the training loop\n",
    "        for iteration in range(num_epochs):\n",
    "            \n",
    "            # Floating learning rate\n",
    "            #if ((iteration > 0) and (iteration % 5000 == 0)):\n",
    "            #    learning_rate = learning_rate / 1.5\n",
    "\n",
    "            # Run the session to execute the \"optimizer\" and the \"cost\", the feedict should contain a minibatch for (X,Y).\n",
    "            _ , iteration_cost = sess.run([optimizer, cost], feed_dict={X: X_train, Y: Y_train, LR: learning_rate})\n",
    "                \n",
    "            # Print the cost \n",
    "            #print(iteration_cost)\n",
    "            \n",
    "            if (iteration % 1000 == 0):\n",
    "                print (\"Cost at iteration %i: %f\" % (iteration, iteration_cost))\n",
    "            if (iteration % 25 == 0):\n",
    "                costs.append(iteration_cost)\n",
    "                \n",
    "                # Compute MAE on test set\n",
    "                yhat, _ = sess.run([last_activation, cost], feed_dict={X: X_test, Y: Y_test, LR: learning_rate})\n",
    "                mae = mean_absolute_error(Y_test.T, yhat.T)\n",
    "                test_mae.append(mae)\n",
    "                \n",
    "        # Results Visualization\n",
    "        fig, axes = plt.subplots(nrows=1, ncols=2, figsize=(10, 5))\n",
    "\n",
    "        # plot the cost\n",
    "        plt.subplot(1, 2, 1)\n",
    "        plt.plot(costs, 'b-')\n",
    "        plt.ylabel('cost')\n",
    "        plt.xlabel('iterations (per tens)')\n",
    "        plt.title(\"Learning rate =\" + str(learning_rate))\n",
    "\n",
    "        # plot MAE on test set\n",
    "        plt.subplot(1, 2, 2)\n",
    "        plt.plot(test_mae, 'r-')\n",
    "        plt.ylabel('Mean Absolute Error')\n",
    "        plt.xlabel('Iterations')\n",
    "        plt.title(\"Mean Absolute Error on Test Data\")\n",
    "\n",
    "        plt.show()  \n",
    "\n",
    "        # lets save the parameters in a variable\n",
    "        parameters = sess.run(parameters)\n",
    "        print (\"Parameters have been trained!\")\n",
    "\n",
    "        # Calculate the correct predictions\n",
    "        #correct_prediction = tf.equal(tf.argmax(tf.nn.sigmoid(Z3)), tf.argmax(Y))\n",
    "        \n",
    "        # Accuracy on train data\n",
    "        #yhat = tf.nn.sigmoid(Z3)\n",
    "        #prediction = sess.run([yhat], feed_dict={X: X_train, Y: Y_train})\n",
    "        \n",
    "        #print(\"Accuracy on train data:\", accuracy_score(Y_train.reshape(-1), np.round(prediction[0]).reshape(-1)))\n",
    "        print(\"Final loss on train data:\", iteration_cost)\n",
    "        print(\"Minimum MAE on test data:\", np.min(test_mae))\n",
    "        print(\"Final MAE on test data:\", test_mae[-1])\n",
    "        \n",
    "        # Accuracy on test data\n",
    "        yhat, test_cost = sess.run([last_activation, cost], feed_dict={X: X_test, Y: Y_test, LR: learning_rate})\n",
    "        print(\"Loss on test data:\", test_cost)\n",
    "        \n",
    "        #print(\"Accuracy on test data:\", accuracy_score(Y_test.reshape(-1), np.round(prediction[0]).reshape(-1)))\n",
    "        \n",
    "\n",
    "        # Calculate accuracy on the test set\n",
    "        #accuracy = tf.reduce_mean(tf.cast(correct_prediction, \"float\"))\n",
    "\n",
    "        #print (\"Train Accuracy:\", accuracy.eval({X: X_train, Y: Y_train}))\n",
    "        #print (\"Test Accuracy:\", accuracy.eval({X: X_test, Y: Y_test}))\n",
    "        \n",
    "        #yhat = sess.run([Z3], feed_dict={X: X_train, Y: Y_train})\n",
    "        return parameters, yhat"
   ]
  },
  {
   "cell_type": "code",
   "execution_count": 2753,
   "metadata": {
    "collapsed": true
   },
   "outputs": [],
   "source": [
    "# Helper functions\n",
    "def initialize_parameters():\n",
    "    \"\"\"\n",
    "    Initializes parameters to build a neural network with tensorflow. \n",
    "    \n",
    "    Returns:\n",
    "    parameters -- a dictionary of tensors containing W1, b1, W2, b2, W3, b3\n",
    "    \"\"\"\n",
    "    \n",
    "    tf.set_random_seed(23)                   \n",
    "        \n",
    "    W1 = tf.get_variable(\"W1\", [128, 784], initializer = tf.contrib.layers.xavier_initializer(seed = 1))\n",
    "    b1 = tf.get_variable(\"b1\", [128, 1], initializer = tf.zeros_initializer())\n",
    "    W2 = tf.get_variable(\"W2\", [128, 128], initializer = tf.contrib.layers.xavier_initializer(seed = 1))\n",
    "    b2 = tf.get_variable(\"b2\", [128, 1], initializer = tf.zeros_initializer())\n",
    "    W3 = tf.get_variable(\"W3\", [1, 128], initializer = tf.contrib.layers.xavier_initializer(seed = 1))\n",
    "    b3 = tf.get_variable(\"b3\", [1, 1], initializer = tf.zeros_initializer())\n",
    "\n",
    "\n",
    "    parameters = {\"W1\": W1,\n",
    "                  \"b1\": b1,\n",
    "                  \"W2\": W2,\n",
    "                  \"b2\": b2,\n",
    "                  \"W3\": W3,\n",
    "                  \"b3\": b3}\n",
    "    \n",
    "    return parameters"
   ]
  },
  {
   "cell_type": "code",
   "execution_count": 2754,
   "metadata": {},
   "outputs": [
    {
     "name": "stdout",
     "output_type": "stream",
     "text": [
      "Cost at iteration 0: 195.164536\n",
      "Cost at iteration 1000: 0.938352\n",
      "Cost at iteration 2000: 0.448964\n",
      "Cost at iteration 3000: 0.280170\n",
      "Cost at iteration 4000: 0.229029\n",
      "Cost at iteration 5000: 0.172147\n",
      "Cost at iteration 6000: 0.121157\n",
      "Cost at iteration 7000: 0.086849\n",
      "Cost at iteration 8000: 0.071780\n",
      "Cost at iteration 9000: 0.054333\n"
     ]
    },
    {
     "data": {
      "image/png": "[encoded data removed]",
      "text/plain": [
       "<matplotlib.figure.Figure at 0x16157e10>"
      ]
     },
     "metadata": {},
     "output_type": "display_data"
    },
    {
     "name": "stdout",
     "output_type": "stream",
     "text": [
      "Parameters have been trained!\n",
      "Final loss on train data: 0.0442586\n",
      "Minimum MAE on test data: 0.0281958520867\n",
      "Final MAE on test data: 0.0295846428941\n",
      "Loss on test data: 0.421976\n",
      "Wall time: 5min 34s\n"
     ]
    }
   ],
   "source": [
    "%%time\n",
    "#parameters, prediction = model(features_train, labels_train, features_test, labels_test, learning_rate=0.001, num_epochs=6000)\n",
    "parameters, prediction = model(features_train, labels_train, features_test, labels_test, learning_rate=0.0001, keep_prob=0.9, num_epochs=10000)"
   ]
  },
  {
   "cell_type": "code",
   "execution_count": 2752,
   "metadata": {},
   "outputs": [
    {
     "name": "stdout",
     "output_type": "stream",
     "text": [
      "0.0249165079801\n"
     ]
    }
   ],
   "source": [
    "print(mean_absolute_error(labels_test.T, prediction.T))\n",
    "\n",
    "results['NN'] = prediction.reshape(-1)"
   ]
  },
  {
   "cell_type": "code",
   "execution_count": 2760,
   "metadata": {},
   "outputs": [
    {
     "data": {
      "text/html": [
       "<div>\n",
       "<style>\n",
       "    .dataframe thead tr:only-child th {\n",
       "        text-align: right;\n",
       "    }\n",
       "\n",
       "    .dataframe thead th {\n",
       "        text-align: left;\n",
       "    }\n",
       "\n",
       "    .dataframe tbody tr th {\n",
       "        vertical-align: top;\n",
       "    }\n",
       "</style>\n",
       "<table border=\"1\" class=\"dataframe\">\n",
       "  <thead>\n",
       "    <tr style=\"text-align: right;\">\n",
       "      <th></th>\n",
       "      <th>Target</th>\n",
       "      <th>GBM</th>\n",
       "      <th>XGB</th>\n",
       "      <th>K_Ridge</th>\n",
       "      <th>NN</th>\n",
       "    </tr>\n",
       "  </thead>\n",
       "  <tbody>\n",
       "    <tr>\n",
       "      <th>0</th>\n",
       "      <td>0.246358</td>\n",
       "      <td>0.213748</td>\n",
       "      <td>0.205233</td>\n",
       "      <td>0.199551</td>\n",
       "      <td>0.247396</td>\n",
       "    </tr>\n",
       "    <tr>\n",
       "      <th>1</th>\n",
       "      <td>0.284106</td>\n",
       "      <td>0.247829</td>\n",
       "      <td>0.252729</td>\n",
       "      <td>0.217374</td>\n",
       "      <td>0.222097</td>\n",
       "    </tr>\n",
       "    <tr>\n",
       "      <th>2</th>\n",
       "      <td>0.234437</td>\n",
       "      <td>0.221621</td>\n",
       "      <td>0.228904</td>\n",
       "      <td>0.208292</td>\n",
       "      <td>0.232521</td>\n",
       "    </tr>\n",
       "    <tr>\n",
       "      <th>3</th>\n",
       "      <td>0.245033</td>\n",
       "      <td>0.212788</td>\n",
       "      <td>0.216041</td>\n",
       "      <td>0.219129</td>\n",
       "      <td>0.238953</td>\n",
       "    </tr>\n",
       "    <tr>\n",
       "      <th>4</th>\n",
       "      <td>0.079470</td>\n",
       "      <td>0.125567</td>\n",
       "      <td>0.130201</td>\n",
       "      <td>0.133720</td>\n",
       "      <td>0.124796</td>\n",
       "    </tr>\n",
       "    <tr>\n",
       "      <th>5</th>\n",
       "      <td>0.296026</td>\n",
       "      <td>0.287180</td>\n",
       "      <td>0.280153</td>\n",
       "      <td>0.285046</td>\n",
       "      <td>0.308292</td>\n",
       "    </tr>\n",
       "    <tr>\n",
       "      <th>6</th>\n",
       "      <td>0.085430</td>\n",
       "      <td>0.142741</td>\n",
       "      <td>0.149611</td>\n",
       "      <td>0.139553</td>\n",
       "      <td>0.145084</td>\n",
       "    </tr>\n",
       "    <tr>\n",
       "      <th>7</th>\n",
       "      <td>0.579012</td>\n",
       "      <td>0.639788</td>\n",
       "      <td>0.626779</td>\n",
       "      <td>0.510882</td>\n",
       "      <td>0.535096</td>\n",
       "    </tr>\n",
       "    <tr>\n",
       "      <th>8</th>\n",
       "      <td>0.178808</td>\n",
       "      <td>0.173832</td>\n",
       "      <td>0.174716</td>\n",
       "      <td>0.182496</td>\n",
       "      <td>0.188998</td>\n",
       "    </tr>\n",
       "    <tr>\n",
       "      <th>9</th>\n",
       "      <td>0.582781</td>\n",
       "      <td>0.491069</td>\n",
       "      <td>0.479119</td>\n",
       "      <td>0.443927</td>\n",
       "      <td>0.400604</td>\n",
       "    </tr>\n",
       "    <tr>\n",
       "      <th>10</th>\n",
       "      <td>0.242252</td>\n",
       "      <td>0.252961</td>\n",
       "      <td>0.261821</td>\n",
       "      <td>0.286943</td>\n",
       "      <td>0.293331</td>\n",
       "    </tr>\n",
       "    <tr>\n",
       "      <th>11</th>\n",
       "      <td>0.274834</td>\n",
       "      <td>0.331315</td>\n",
       "      <td>0.306479</td>\n",
       "      <td>0.326242</td>\n",
       "      <td>0.275315</td>\n",
       "    </tr>\n",
       "    <tr>\n",
       "      <th>12</th>\n",
       "      <td>0.341060</td>\n",
       "      <td>0.321632</td>\n",
       "      <td>0.334477</td>\n",
       "      <td>0.320422</td>\n",
       "      <td>0.345139</td>\n",
       "    </tr>\n",
       "    <tr>\n",
       "      <th>13</th>\n",
       "      <td>0.217881</td>\n",
       "      <td>0.222220</td>\n",
       "      <td>0.221778</td>\n",
       "      <td>0.212713</td>\n",
       "      <td>0.209755</td>\n",
       "    </tr>\n",
       "    <tr>\n",
       "      <th>14</th>\n",
       "      <td>0.160265</td>\n",
       "      <td>0.137479</td>\n",
       "      <td>0.138737</td>\n",
       "      <td>0.115055</td>\n",
       "      <td>0.121326</td>\n",
       "    </tr>\n",
       "    <tr>\n",
       "      <th>15</th>\n",
       "      <td>0.046225</td>\n",
       "      <td>0.105059</td>\n",
       "      <td>0.099180</td>\n",
       "      <td>0.098328</td>\n",
       "      <td>0.046811</td>\n",
       "    </tr>\n",
       "    <tr>\n",
       "      <th>16</th>\n",
       "      <td>0.192053</td>\n",
       "      <td>0.198442</td>\n",
       "      <td>0.204624</td>\n",
       "      <td>0.205587</td>\n",
       "      <td>0.196565</td>\n",
       "    </tr>\n",
       "    <tr>\n",
       "      <th>17</th>\n",
       "      <td>0.231788</td>\n",
       "      <td>0.211078</td>\n",
       "      <td>0.204589</td>\n",
       "      <td>0.228960</td>\n",
       "      <td>0.224247</td>\n",
       "    </tr>\n",
       "    <tr>\n",
       "      <th>18</th>\n",
       "      <td>0.105828</td>\n",
       "      <td>0.150297</td>\n",
       "      <td>0.137501</td>\n",
       "      <td>0.123881</td>\n",
       "      <td>0.154030</td>\n",
       "    </tr>\n",
       "    <tr>\n",
       "      <th>19</th>\n",
       "      <td>0.156954</td>\n",
       "      <td>0.203376</td>\n",
       "      <td>0.200664</td>\n",
       "      <td>0.145599</td>\n",
       "      <td>0.164702</td>\n",
       "    </tr>\n",
       "    <tr>\n",
       "      <th>20</th>\n",
       "      <td>0.393377</td>\n",
       "      <td>0.392327</td>\n",
       "      <td>0.400286</td>\n",
       "      <td>0.393453</td>\n",
       "      <td>0.398218</td>\n",
       "    </tr>\n",
       "    <tr>\n",
       "      <th>21</th>\n",
       "      <td>0.184106</td>\n",
       "      <td>0.180132</td>\n",
       "      <td>0.177935</td>\n",
       "      <td>0.173565</td>\n",
       "      <td>0.168244</td>\n",
       "    </tr>\n",
       "    <tr>\n",
       "      <th>22</th>\n",
       "      <td>0.211921</td>\n",
       "      <td>0.200577</td>\n",
       "      <td>0.195419</td>\n",
       "      <td>0.207318</td>\n",
       "      <td>0.197669</td>\n",
       "    </tr>\n",
       "    <tr>\n",
       "      <th>23</th>\n",
       "      <td>0.434437</td>\n",
       "      <td>0.388279</td>\n",
       "      <td>0.382233</td>\n",
       "      <td>0.338429</td>\n",
       "      <td>0.366342</td>\n",
       "    </tr>\n",
       "    <tr>\n",
       "      <th>24</th>\n",
       "      <td>0.165563</td>\n",
       "      <td>0.168350</td>\n",
       "      <td>0.167890</td>\n",
       "      <td>0.145571</td>\n",
       "      <td>0.153072</td>\n",
       "    </tr>\n",
       "    <tr>\n",
       "      <th>25</th>\n",
       "      <td>0.105960</td>\n",
       "      <td>0.111183</td>\n",
       "      <td>0.111955</td>\n",
       "      <td>0.104929</td>\n",
       "      <td>0.140170</td>\n",
       "    </tr>\n",
       "    <tr>\n",
       "      <th>26</th>\n",
       "      <td>0.113907</td>\n",
       "      <td>0.129501</td>\n",
       "      <td>0.136267</td>\n",
       "      <td>0.123204</td>\n",
       "      <td>0.116963</td>\n",
       "    </tr>\n",
       "    <tr>\n",
       "      <th>27</th>\n",
       "      <td>0.170199</td>\n",
       "      <td>0.162492</td>\n",
       "      <td>0.157135</td>\n",
       "      <td>0.196084</td>\n",
       "      <td>0.197728</td>\n",
       "    </tr>\n",
       "    <tr>\n",
       "      <th>28</th>\n",
       "      <td>0.189404</td>\n",
       "      <td>0.189203</td>\n",
       "      <td>0.191337</td>\n",
       "      <td>0.199668</td>\n",
       "      <td>0.187629</td>\n",
       "    </tr>\n",
       "    <tr>\n",
       "      <th>29</th>\n",
       "      <td>0.219205</td>\n",
       "      <td>0.224220</td>\n",
       "      <td>0.225714</td>\n",
       "      <td>0.251142</td>\n",
       "      <td>0.212317</td>\n",
       "    </tr>\n",
       "    <tr>\n",
       "      <th>...</th>\n",
       "      <td>...</td>\n",
       "      <td>...</td>\n",
       "      <td>...</td>\n",
       "      <td>...</td>\n",
       "      <td>...</td>\n",
       "    </tr>\n",
       "    <tr>\n",
       "      <th>408</th>\n",
       "      <td>0.211921</td>\n",
       "      <td>0.239359</td>\n",
       "      <td>0.249098</td>\n",
       "      <td>0.244598</td>\n",
       "      <td>0.231954</td>\n",
       "    </tr>\n",
       "    <tr>\n",
       "      <th>409</th>\n",
       "      <td>0.140397</td>\n",
       "      <td>0.145336</td>\n",
       "      <td>0.150429</td>\n",
       "      <td>0.155493</td>\n",
       "      <td>0.158951</td>\n",
       "    </tr>\n",
       "    <tr>\n",
       "      <th>410</th>\n",
       "      <td>0.165563</td>\n",
       "      <td>0.165881</td>\n",
       "      <td>0.165175</td>\n",
       "      <td>0.140896</td>\n",
       "      <td>0.124940</td>\n",
       "    </tr>\n",
       "    <tr>\n",
       "      <th>411</th>\n",
       "      <td>0.190728</td>\n",
       "      <td>0.189991</td>\n",
       "      <td>0.188524</td>\n",
       "      <td>0.201439</td>\n",
       "      <td>0.198293</td>\n",
       "    </tr>\n",
       "    <tr>\n",
       "      <th>412</th>\n",
       "      <td>0.237881</td>\n",
       "      <td>0.259076</td>\n",
       "      <td>0.266050</td>\n",
       "      <td>0.246405</td>\n",
       "      <td>0.268038</td>\n",
       "    </tr>\n",
       "    <tr>\n",
       "      <th>413</th>\n",
       "      <td>0.363874</td>\n",
       "      <td>0.328382</td>\n",
       "      <td>0.311309</td>\n",
       "      <td>0.318419</td>\n",
       "      <td>0.344392</td>\n",
       "    </tr>\n",
       "    <tr>\n",
       "      <th>414</th>\n",
       "      <td>0.183444</td>\n",
       "      <td>0.174279</td>\n",
       "      <td>0.174704</td>\n",
       "      <td>0.180138</td>\n",
       "      <td>0.180019</td>\n",
       "    </tr>\n",
       "    <tr>\n",
       "      <th>415</th>\n",
       "      <td>0.239735</td>\n",
       "      <td>0.232828</td>\n",
       "      <td>0.242307</td>\n",
       "      <td>0.238433</td>\n",
       "      <td>0.243758</td>\n",
       "    </tr>\n",
       "    <tr>\n",
       "      <th>416</th>\n",
       "      <td>0.247020</td>\n",
       "      <td>0.253785</td>\n",
       "      <td>0.257621</td>\n",
       "      <td>0.264473</td>\n",
       "      <td>0.268922</td>\n",
       "    </tr>\n",
       "    <tr>\n",
       "      <th>417</th>\n",
       "      <td>0.189404</td>\n",
       "      <td>0.174776</td>\n",
       "      <td>0.198365</td>\n",
       "      <td>0.177397</td>\n",
       "      <td>0.165569</td>\n",
       "    </tr>\n",
       "    <tr>\n",
       "      <th>418</th>\n",
       "      <td>0.185430</td>\n",
       "      <td>0.191374</td>\n",
       "      <td>0.208091</td>\n",
       "      <td>0.202106</td>\n",
       "      <td>0.200785</td>\n",
       "    </tr>\n",
       "    <tr>\n",
       "      <th>419</th>\n",
       "      <td>0.423841</td>\n",
       "      <td>0.419412</td>\n",
       "      <td>0.411115</td>\n",
       "      <td>0.417636</td>\n",
       "      <td>0.619441</td>\n",
       "    </tr>\n",
       "    <tr>\n",
       "      <th>420</th>\n",
       "      <td>0.207947</td>\n",
       "      <td>0.217549</td>\n",
       "      <td>0.218049</td>\n",
       "      <td>0.197674</td>\n",
       "      <td>0.195881</td>\n",
       "    </tr>\n",
       "    <tr>\n",
       "      <th>421</th>\n",
       "      <td>0.431290</td>\n",
       "      <td>0.507702</td>\n",
       "      <td>0.530678</td>\n",
       "      <td>0.425315</td>\n",
       "      <td>0.441152</td>\n",
       "    </tr>\n",
       "    <tr>\n",
       "      <th>422</th>\n",
       "      <td>0.276159</td>\n",
       "      <td>0.285906</td>\n",
       "      <td>0.280863</td>\n",
       "      <td>0.287859</td>\n",
       "      <td>0.276138</td>\n",
       "    </tr>\n",
       "    <tr>\n",
       "      <th>423</th>\n",
       "      <td>1.000000</td>\n",
       "      <td>0.863835</td>\n",
       "      <td>0.793481</td>\n",
       "      <td>0.758790</td>\n",
       "      <td>0.678660</td>\n",
       "    </tr>\n",
       "    <tr>\n",
       "      <th>424</th>\n",
       "      <td>0.214570</td>\n",
       "      <td>0.214441</td>\n",
       "      <td>0.212487</td>\n",
       "      <td>0.215596</td>\n",
       "      <td>0.226850</td>\n",
       "    </tr>\n",
       "    <tr>\n",
       "      <th>425</th>\n",
       "      <td>0.370861</td>\n",
       "      <td>0.365068</td>\n",
       "      <td>0.344780</td>\n",
       "      <td>0.388734</td>\n",
       "      <td>0.415141</td>\n",
       "    </tr>\n",
       "    <tr>\n",
       "      <th>426</th>\n",
       "      <td>0.519868</td>\n",
       "      <td>0.391109</td>\n",
       "      <td>0.381664</td>\n",
       "      <td>0.323276</td>\n",
       "      <td>0.473922</td>\n",
       "    </tr>\n",
       "    <tr>\n",
       "      <th>427</th>\n",
       "      <td>0.230464</td>\n",
       "      <td>0.216131</td>\n",
       "      <td>0.221441</td>\n",
       "      <td>0.220151</td>\n",
       "      <td>0.220416</td>\n",
       "    </tr>\n",
       "    <tr>\n",
       "      <th>428</th>\n",
       "      <td>0.148344</td>\n",
       "      <td>0.131280</td>\n",
       "      <td>0.131847</td>\n",
       "      <td>0.130976</td>\n",
       "      <td>0.107794</td>\n",
       "    </tr>\n",
       "    <tr>\n",
       "      <th>429</th>\n",
       "      <td>0.245033</td>\n",
       "      <td>0.228658</td>\n",
       "      <td>0.231823</td>\n",
       "      <td>0.258413</td>\n",
       "      <td>0.283220</td>\n",
       "    </tr>\n",
       "    <tr>\n",
       "      <th>430</th>\n",
       "      <td>0.186755</td>\n",
       "      <td>0.197494</td>\n",
       "      <td>0.197060</td>\n",
       "      <td>0.207671</td>\n",
       "      <td>0.211152</td>\n",
       "    </tr>\n",
       "    <tr>\n",
       "      <th>431</th>\n",
       "      <td>0.149669</td>\n",
       "      <td>0.146736</td>\n",
       "      <td>0.148793</td>\n",
       "      <td>0.137431</td>\n",
       "      <td>0.149162</td>\n",
       "    </tr>\n",
       "    <tr>\n",
       "      <th>432</th>\n",
       "      <td>0.188742</td>\n",
       "      <td>0.195864</td>\n",
       "      <td>0.195955</td>\n",
       "      <td>0.208622</td>\n",
       "      <td>0.198820</td>\n",
       "    </tr>\n",
       "    <tr>\n",
       "      <th>433</th>\n",
       "      <td>0.117881</td>\n",
       "      <td>0.119330</td>\n",
       "      <td>0.128808</td>\n",
       "      <td>0.137014</td>\n",
       "      <td>0.158135</td>\n",
       "    </tr>\n",
       "    <tr>\n",
       "      <th>434</th>\n",
       "      <td>0.232980</td>\n",
       "      <td>0.291151</td>\n",
       "      <td>0.277558</td>\n",
       "      <td>0.260145</td>\n",
       "      <td>0.241440</td>\n",
       "    </tr>\n",
       "    <tr>\n",
       "      <th>435</th>\n",
       "      <td>0.184636</td>\n",
       "      <td>0.188391</td>\n",
       "      <td>0.180293</td>\n",
       "      <td>0.184002</td>\n",
       "      <td>0.188124</td>\n",
       "    </tr>\n",
       "    <tr>\n",
       "      <th>436</th>\n",
       "      <td>0.194702</td>\n",
       "      <td>0.185511</td>\n",
       "      <td>0.186316</td>\n",
       "      <td>0.189144</td>\n",
       "      <td>0.183218</td>\n",
       "    </tr>\n",
       "    <tr>\n",
       "      <th>437</th>\n",
       "      <td>0.199868</td>\n",
       "      <td>0.226784</td>\n",
       "      <td>0.230990</td>\n",
       "      <td>0.242885</td>\n",
       "      <td>0.215464</td>\n",
       "    </tr>\n",
       "  </tbody>\n",
       "</table>\n",
       "<p>438 rows × 5 columns</p>\n",
       "</div>"
      ],
      "text/plain": [
       "       Target       GBM       XGB   K_Ridge        NN\n",
       "0    0.246358  0.213748  0.205233  0.199551  0.247396\n",
       "1    0.284106  0.247829  0.252729  0.217374  0.222097\n",
       "2    0.234437  0.221621  0.228904  0.208292  0.232521\n",
       "3    0.245033  0.212788  0.216041  0.219129  0.238953\n",
       "4    0.079470  0.125567  0.130201  0.133720  0.124796\n",
       "5    0.296026  0.287180  0.280153  0.285046  0.308292\n",
       "6    0.085430  0.142741  0.149611  0.139553  0.145084\n",
       "7    0.579012  0.639788  0.626779  0.510882  0.535096\n",
       "8    0.178808  0.173832  0.174716  0.182496  0.188998\n",
       "9    0.582781  0.491069  0.479119  0.443927  0.400604\n",
       "10   0.242252  0.252961  0.261821  0.286943  0.293331\n",
       "11   0.274834  0.331315  0.306479  0.326242  0.275315\n",
       "12   0.341060  0.321632  0.334477  0.320422  0.345139\n",
       "13   0.217881  0.222220  0.221778  0.212713  0.209755\n",
       "14   0.160265  0.137479  0.138737  0.115055  0.121326\n",
       "15   0.046225  0.105059  0.099180  0.098328  0.046811\n",
       "16   0.192053  0.198442  0.204624  0.205587  0.196565\n",
       "17   0.231788  0.211078  0.204589  0.228960  0.224247\n",
       "18   0.105828  0.150297  0.137501  0.123881  0.154030\n",
       "19   0.156954  0.203376  0.200664  0.145599  0.164702\n",
       "20   0.393377  0.392327  0.400286  0.393453  0.398218\n",
       "21   0.184106  0.180132  0.177935  0.173565  0.168244\n",
       "22   0.211921  0.200577  0.195419  0.207318  0.197669\n",
       "23   0.434437  0.388279  0.382233  0.338429  0.366342\n",
       "24   0.165563  0.168350  0.167890  0.145571  0.153072\n",
       "25   0.105960  0.111183  0.111955  0.104929  0.140170\n",
       "26   0.113907  0.129501  0.136267  0.123204  0.116963\n",
       "27   0.170199  0.162492  0.157135  0.196084  0.197728\n",
       "28   0.189404  0.189203  0.191337  0.199668  0.187629\n",
       "29   0.219205  0.224220  0.225714  0.251142  0.212317\n",
       "..        ...       ...       ...       ...       ...\n",
       "408  0.211921  0.239359  0.249098  0.244598  0.231954\n",
       "409  0.140397  0.145336  0.150429  0.155493  0.158951\n",
       "410  0.165563  0.165881  0.165175  0.140896  0.124940\n",
       "411  0.190728  0.189991  0.188524  0.201439  0.198293\n",
       "412  0.237881  0.259076  0.266050  0.246405  0.268038\n",
       "413  0.363874  0.328382  0.311309  0.318419  0.344392\n",
       "414  0.183444  0.174279  0.174704  0.180138  0.180019\n",
       "415  0.239735  0.232828  0.242307  0.238433  0.243758\n",
       "416  0.247020  0.253785  0.257621  0.264473  0.268922\n",
       "417  0.189404  0.174776  0.198365  0.177397  0.165569\n",
       "418  0.185430  0.191374  0.208091  0.202106  0.200785\n",
       "419  0.423841  0.419412  0.411115  0.417636  0.619441\n",
       "420  0.207947  0.217549  0.218049  0.197674  0.195881\n",
       "421  0.431290  0.507702  0.530678  0.425315  0.441152\n",
       "422  0.276159  0.285906  0.280863  0.287859  0.276138\n",
       "423  1.000000  0.863835  0.793481  0.758790  0.678660\n",
       "424  0.214570  0.214441  0.212487  0.215596  0.226850\n",
       "425  0.370861  0.365068  0.344780  0.388734  0.415141\n",
       "426  0.519868  0.391109  0.381664  0.323276  0.473922\n",
       "427  0.230464  0.216131  0.221441  0.220151  0.220416\n",
       "428  0.148344  0.131280  0.131847  0.130976  0.107794\n",
       "429  0.245033  0.228658  0.231823  0.258413  0.283220\n",
       "430  0.186755  0.197494  0.197060  0.207671  0.211152\n",
       "431  0.149669  0.146736  0.148793  0.137431  0.149162\n",
       "432  0.188742  0.195864  0.195955  0.208622  0.198820\n",
       "433  0.117881  0.119330  0.128808  0.137014  0.158135\n",
       "434  0.232980  0.291151  0.277558  0.260145  0.241440\n",
       "435  0.184636  0.188391  0.180293  0.184002  0.188124\n",
       "436  0.194702  0.185511  0.186316  0.189144  0.183218\n",
       "437  0.199868  0.226784  0.230990  0.242885  0.215464\n",
       "\n",
       "[438 rows x 5 columns]"
      ]
     },
     "execution_count": 2760,
     "metadata": {},
     "output_type": "execute_result"
    }
   ],
   "source": [
    "results"
   ]
  },
  {
   "cell_type": "code",
   "execution_count": 110,
   "metadata": {},
   "outputs": [
    {
     "name": "stdout",
     "output_type": "stream",
     "text": [
      "Cost at iteration 0: 247.631973\n",
      "Cost at iteration 1000: 32.562012\n",
      "Cost at iteration 2000: 12.889617\n",
      "Cost at iteration 3000: 6.073007\n",
      "Cost at iteration 4000: 2.980466\n",
      "Cost at iteration 5000: 1.644153\n",
      "Cost at iteration 6000: 1.152715\n",
      "Cost at iteration 7000: 1.005533\n",
      "Cost at iteration 8000: 0.961800\n",
      "Cost at iteration 9000: 0.943203\n"
     ]
    },
    {
     "data": {
      "image/png": "[encoded data removed]",
      "text/plain": [
       "<matplotlib.figure.Figure at 0x1237dda0>"
      ]
     },
     "metadata": {},
     "output_type": "display_data"
    },
    {
     "name": "stdout",
     "output_type": "stream",
     "text": [
      "Parameters have been trained!\n",
      "Final loss on train data: 0.935247\n",
      "Minimum MAE on test data: 0.0237491920404\n",
      "Final MAE on test data: 0.0239372634086\n",
      "Loss on test data: 0.968144\n",
      "Wall time: 4min 15s\n"
     ]
    }
   ],
   "source": [
    "%%time\n",
    "parameters, prediction = model(features_train, labels_train, features_test, labels_test, learning_rate=0.0001, lambd=1.0, num_epochs=10000)\n",
    "#parameters, prediction = model(features_train, labels_train, features_test, labels_test, learning_rate=0.0001, lambd=0.00001, num_epochs=30000)"
   ]
  },
  {
   "cell_type": "code",
   "execution_count": 2769,
   "metadata": {},
   "outputs": [
    {
     "data": {
      "text/plain": [
       "79900.0"
      ]
     },
     "execution_count": 2769,
     "metadata": {},
     "output_type": "execute_result"
    }
   ],
   "source": [
    "labels_test[0, 18] * labels_max"
   ]
  },
  {
   "cell_type": "code",
   "execution_count": 2777,
   "metadata": {},
   "outputs": [
    {
     "data": {
      "text/html": [
       "<div>\n",
       "<style>\n",
       "    .dataframe thead tr:only-child th {\n",
       "        text-align: right;\n",
       "    }\n",
       "\n",
       "    .dataframe thead th {\n",
       "        text-align: left;\n",
       "    }\n",
       "\n",
       "    .dataframe tbody tr th {\n",
       "        vertical-align: top;\n",
       "    }\n",
       "</style>\n",
       "<table border=\"1\" class=\"dataframe\">\n",
       "  <thead>\n",
       "    <tr style=\"text-align: right;\">\n",
       "      <th></th>\n",
       "      <th>Id</th>\n",
       "      <th>MSSubClass</th>\n",
       "      <th>MSZoning</th>\n",
       "      <th>LotFrontage</th>\n",
       "      <th>LotArea</th>\n",
       "      <th>Street</th>\n",
       "      <th>Alley</th>\n",
       "      <th>LotShape</th>\n",
       "      <th>LandContour</th>\n",
       "      <th>Utilities</th>\n",
       "      <th>...</th>\n",
       "      <th>PoolQC</th>\n",
       "      <th>Fence</th>\n",
       "      <th>MiscFeature</th>\n",
       "      <th>MiscVal</th>\n",
       "      <th>MoSold</th>\n",
       "      <th>YrSold</th>\n",
       "      <th>SaleType</th>\n",
       "      <th>SaleCondition</th>\n",
       "      <th>SalePrice</th>\n",
       "      <th>LivingAreaSF</th>\n",
       "    </tr>\n",
       "  </thead>\n",
       "  <tbody>\n",
       "    <tr>\n",
       "      <th>431</th>\n",
       "      <td>432</td>\n",
       "      <td>50</td>\n",
       "      <td>RM</td>\n",
       "      <td>60.0</td>\n",
       "      <td>5586</td>\n",
       "      <td>Pave</td>\n",
       "      <td>NA</td>\n",
       "      <td>IR1</td>\n",
       "      <td>Bnk</td>\n",
       "      <td>AllPub</td>\n",
       "      <td>...</td>\n",
       "      <td>NA</td>\n",
       "      <td>MnPrv</td>\n",
       "      <td>NA</td>\n",
       "      <td>0</td>\n",
       "      <td>9</td>\n",
       "      <td>2008</td>\n",
       "      <td>ConLD</td>\n",
       "      <td>Abnorml</td>\n",
       "      <td>79900</td>\n",
       "      <td>2099</td>\n",
       "    </tr>\n",
       "  </tbody>\n",
       "</table>\n",
       "<p>1 rows × 82 columns</p>\n",
       "</div>"
      ],
      "text/plain": [
       "      Id  MSSubClass MSZoning  LotFrontage  LotArea Street Alley LotShape  \\\n",
       "431  432          50       RM         60.0     5586   Pave    NA      IR1   \n",
       "\n",
       "    LandContour Utilities      ...      PoolQC  Fence MiscFeature MiscVal  \\\n",
       "431         Bnk    AllPub      ...          NA  MnPrv          NA       0   \n",
       "\n",
       "    MoSold YrSold SaleType  SaleCondition  SalePrice  LivingAreaSF  \n",
       "431      9   2008    ConLD        Abnorml      79900          2099  \n",
       "\n",
       "[1 rows x 82 columns]"
      ]
     },
     "execution_count": 2777,
     "metadata": {},
     "output_type": "execute_result"
    }
   ],
   "source": [
    "train[train['Id'] == 432]"
   ]
  },
  {
   "cell_type": "code",
   "execution_count": 2780,
   "metadata": {},
   "outputs": [
    {
     "data": {
      "text/html": [
       "<div>\n",
       "<style>\n",
       "    .dataframe thead tr:only-child th {\n",
       "        text-align: right;\n",
       "    }\n",
       "\n",
       "    .dataframe thead th {\n",
       "        text-align: left;\n",
       "    }\n",
       "\n",
       "    .dataframe tbody tr th {\n",
       "        vertical-align: top;\n",
       "    }\n",
       "</style>\n",
       "<table border=\"1\" class=\"dataframe\">\n",
       "  <thead>\n",
       "    <tr>\n",
       "      <th></th>\n",
       "      <th colspan=\"3\" halign=\"left\">SalePrice</th>\n",
       "    </tr>\n",
       "    <tr>\n",
       "      <th></th>\n",
       "      <th>amin</th>\n",
       "      <th>amax</th>\n",
       "      <th>mean</th>\n",
       "    </tr>\n",
       "    <tr>\n",
       "      <th>SaleCondition</th>\n",
       "      <th></th>\n",
       "      <th></th>\n",
       "      <th></th>\n",
       "    </tr>\n",
       "  </thead>\n",
       "  <tbody>\n",
       "    <tr>\n",
       "      <th>Abnorml</th>\n",
       "      <td>67000</td>\n",
       "      <td>158900</td>\n",
       "      <td>118257.066667</td>\n",
       "    </tr>\n",
       "    <tr>\n",
       "      <th>Alloca</th>\n",
       "      <td>89471</td>\n",
       "      <td>89471</td>\n",
       "      <td>89471.000000</td>\n",
       "    </tr>\n",
       "    <tr>\n",
       "      <th>Family</th>\n",
       "      <td>107000</td>\n",
       "      <td>135000</td>\n",
       "      <td>120000.000000</td>\n",
       "    </tr>\n",
       "    <tr>\n",
       "      <th>Normal</th>\n",
       "      <td>76500</td>\n",
       "      <td>190000</td>\n",
       "      <td>140262.439716</td>\n",
       "    </tr>\n",
       "    <tr>\n",
       "      <th>Partial</th>\n",
       "      <td>113000</td>\n",
       "      <td>179665</td>\n",
       "      <td>160249.571429</td>\n",
       "    </tr>\n",
       "  </tbody>\n",
       "</table>\n",
       "</div>"
      ],
      "text/plain": [
       "              SalePrice                       \n",
       "                   amin    amax           mean\n",
       "SaleCondition                                 \n",
       "Abnorml           67000  158900  118257.066667\n",
       "Alloca            89471   89471   89471.000000\n",
       "Family           107000  135000  120000.000000\n",
       "Normal            76500  190000  140262.439716\n",
       "Partial          113000  179665  160249.571429"
      ]
     },
     "execution_count": 2780,
     "metadata": {},
     "output_type": "execute_result"
    }
   ],
   "source": [
    "tmp1 = train[(train['LivingAreaSF'] >= 2000) & (train['LivingAreaSF'] <= 2200)]\n",
    "tmp1[['SaleCondition', 'SalePrice']].groupby('SaleCondition').agg([pd.np.min, pd.np.max, pd.np.mean])"
   ]
  },
  {
   "cell_type": "code",
   "execution_count": 2778,
   "metadata": {},
   "outputs": [
    {
     "data": {
      "text/plain": [
       "Normal     1198\n",
       "Partial     125\n",
       "Abnorml     101\n",
       "Family       20\n",
       "Alloca       12\n",
       "AdjLand       4\n",
       "Name: SaleCondition, dtype: int64"
      ]
     },
     "execution_count": 2778,
     "metadata": {},
     "output_type": "execute_result"
    }
   ],
   "source": [
    "train['SaleCondition'].value_counts()"
   ]
  },
  {
   "cell_type": "code",
   "execution_count": 2776,
   "metadata": {},
   "outputs": [
    {
     "data": {
      "text/plain": [
       "59.999999769999995"
      ]
     },
     "execution_count": 2776,
     "metadata": {},
     "output_type": "execute_result"
    }
   ],
   "source": [
    "313.0 * 0.19169329"
   ]
  },
  {
   "cell_type": "code",
   "execution_count": null,
   "metadata": {},
   "outputs": [],
   "source": []
  },
  {
   "cell_type": "code",
   "execution_count": null,
   "metadata": {},
   "outputs": [],
   "source": []
  },
  {
   "cell_type": "code",
   "execution_count": 1260,
   "metadata": {},
   "outputs": [
    {
     "name": "stdout",
     "output_type": "stream",
     "text": [
      "0.0274287305966\n"
     ]
    }
   ],
   "source": [
    "print(mean_absolute_error(labels_test, prediction))"
   ]
  },
  {
   "cell_type": "code",
   "execution_count": 100,
   "metadata": {
    "collapsed": true
   },
   "outputs": [],
   "source": []
  },
  {
   "cell_type": "code",
   "execution_count": 101,
   "metadata": {
    "collapsed": true
   },
   "outputs": [],
   "source": []
  },
  {
   "cell_type": "code",
   "execution_count": null,
   "metadata": {
    "collapsed": true,
    "scrolled": true
   },
   "outputs": [],
   "source": []
  },
  {
   "cell_type": "code",
   "execution_count": null,
   "metadata": {
    "collapsed": true,
    "scrolled": true
   },
   "outputs": [],
   "source": []
  },
  {
   "cell_type": "code",
   "execution_count": null,
   "metadata": {
    "collapsed": true
   },
   "outputs": [],
   "source": []
  },
  {
   "cell_type": "code",
   "execution_count": null,
   "metadata": {
    "collapsed": true
   },
   "outputs": [],
   "source": []
  },
  {
   "cell_type": "code",
   "execution_count": null,
   "metadata": {
    "collapsed": true
   },
   "outputs": [],
   "source": []
  },
  {
   "cell_type": "code",
   "execution_count": null,
   "metadata": {
    "collapsed": true
   },
   "outputs": [],
   "source": []
  },
  {
   "cell_type": "code",
   "execution_count": null,
   "metadata": {
    "collapsed": true
   },
   "outputs": [],
   "source": []
  },
  {
   "cell_type": "code",
   "execution_count": null,
   "metadata": {
    "collapsed": true
   },
   "outputs": [],
   "source": []
  },
  {
   "cell_type": "code",
   "execution_count": null,
   "metadata": {
    "collapsed": true
   },
   "outputs": [],
   "source": []
  },
  {
   "cell_type": "code",
   "execution_count": null,
   "metadata": {
    "collapsed": true
   },
   "outputs": [],
   "source": []
  },
  {
   "cell_type": "code",
   "execution_count": null,
   "metadata": {
    "collapsed": true
   },
   "outputs": [],
   "source": []
  },
  {
   "cell_type": "code",
   "execution_count": null,
   "metadata": {
    "collapsed": true
   },
   "outputs": [],
   "source": []
  },
  {
   "cell_type": "code",
   "execution_count": null,
   "metadata": {
    "collapsed": true
   },
   "outputs": [],
   "source": []
  },
  {
   "cell_type": "code",
   "execution_count": null,
   "metadata": {
    "collapsed": true
   },
   "outputs": [],
   "source": []
  },
  {
   "cell_type": "code",
   "execution_count": null,
   "metadata": {
    "collapsed": true
   },
   "outputs": [],
   "source": []
  },
  {
   "cell_type": "code",
   "execution_count": null,
   "metadata": {
    "collapsed": true
   },
   "outputs": [],
   "source": []
  },
  {
   "cell_type": "code",
   "execution_count": null,
   "metadata": {
    "collapsed": true
   },
   "outputs": [],
   "source": []
  },
  {
   "cell_type": "code",
   "execution_count": null,
   "metadata": {
    "collapsed": true
   },
   "outputs": [],
   "source": []
  },
  {
   "cell_type": "code",
   "execution_count": null,
   "metadata": {
    "collapsed": true
   },
   "outputs": [],
   "source": []
  },
  {
   "cell_type": "code",
   "execution_count": null,
   "metadata": {
    "collapsed": true
   },
   "outputs": [],
   "source": []
  },
  {
   "cell_type": "code",
   "execution_count": null,
   "metadata": {
    "collapsed": true
   },
   "outputs": [],
   "source": []
  },
  {
   "cell_type": "code",
   "execution_count": null,
   "metadata": {
    "collapsed": true
   },
   "outputs": [],
   "source": []
  },
  {
   "cell_type": "code",
   "execution_count": null,
   "metadata": {
    "collapsed": true
   },
   "outputs": [],
   "source": []
  },
  {
   "cell_type": "code",
   "execution_count": null,
   "metadata": {
    "collapsed": true
   },
   "outputs": [],
   "source": []
  },
  {
   "cell_type": "code",
   "execution_count": null,
   "metadata": {
    "collapsed": true
   },
   "outputs": [],
   "source": []
  },
  {
   "cell_type": "code",
   "execution_count": null,
   "metadata": {
    "collapsed": true
   },
   "outputs": [],
   "source": []
  },
  {
   "cell_type": "code",
   "execution_count": null,
   "metadata": {
    "collapsed": true
   },
   "outputs": [],
   "source": []
  },
  {
   "cell_type": "code",
   "execution_count": null,
   "metadata": {
    "collapsed": true
   },
   "outputs": [],
   "source": []
  },
  {
   "cell_type": "code",
   "execution_count": null,
   "metadata": {
    "collapsed": true
   },
   "outputs": [],
   "source": []
  },
  {
   "cell_type": "code",
   "execution_count": null,
   "metadata": {
    "collapsed": true
   },
   "outputs": [],
   "source": []
  },
  {
   "cell_type": "code",
   "execution_count": null,
   "metadata": {
    "collapsed": true
   },
   "outputs": [],
   "source": []
  },
  {
   "cell_type": "code",
   "execution_count": null,
   "metadata": {
    "collapsed": true
   },
   "outputs": [],
   "source": []
  },
  {
   "cell_type": "markdown",
   "metadata": {},
   "source": [
    "### Feature Engineering 1: handling features mostly correlated with target  \n",
    "Как показала практика, эта штука не помогает, а наоборот: сильно ухудшает"
   ]
  },
  {
   "cell_type": "code",
   "execution_count": 201,
   "metadata": {},
   "outputs": [
    {
     "data": {
      "text/plain": [
       "[544, 564, 567, 606]"
      ]
     },
     "execution_count": 201,
     "metadata": {},
     "output_type": "execute_result"
    }
   ],
   "source": [
    "fe_1_cols"
   ]
  },
  {
   "cell_type": "code",
   "execution_count": 202,
   "metadata": {},
   "outputs": [
    {
     "name": "stdout",
     "output_type": "stream",
     "text": [
      "Pearson r for col 544 is 0.59507792562\n",
      "Pearson r for col 564 is 0.59725533954\n",
      "Pearson r for col 567 is 0.69953753481\n",
      "Pearson r for col 606 is 0.622064164667\n",
      "New features shape is (1022, 679)\n"
     ]
    }
   ],
   "source": [
    "if (use_fe_1):\n",
    "    for col in fe_1_cols:\n",
    "        print(\"Pearson r for col\", col, \"is\", pearsonr(features_train[:, col].reshape(-1, 1), labels_train.reshape(-1, 1))[0][0])\n",
    "        \n",
    "        # Train DT\n",
    "        DTR = DecisionTreeRegressor(random_state=23)\n",
    "        DTR.fit(features_train[:, col].reshape(-1, 1), labels_train)\n",
    "\n",
    "        DTR_prediction1 = DTR.predict(features_train[:, col].reshape(-1, 1))\n",
    "        DTR_prediction2 = DTR.predict(features_test[:, col].reshape(-1, 1))\n",
    "\n",
    "        features_train = np.concatenate( [features_train, DTR_prediction1.reshape(-1, 1)], axis=1)\n",
    "        features_test = np.concatenate( [features_test, DTR_prediction2.reshape(-1, 1)], axis=1)\n",
    "        \n",
    "print(\"New features shape is\", features_train.shape)"
   ]
  },
  {
   "cell_type": "markdown",
   "metadata": {},
   "source": [
    "### Feature Selection"
   ]
  },
  {
   "cell_type": "code",
   "execution_count": 2707,
   "metadata": {
    "collapsed": true
   },
   "outputs": [],
   "source": [
    "def my_mutual_info(X, y):\n",
    "    return mutual_info_regression(X, y, random_state=23)"
   ]
  },
  {
   "cell_type": "code",
   "execution_count": 2708,
   "metadata": {
    "scrolled": true
   },
   "outputs": [
    {
     "name": "stdout",
     "output_type": "stream",
     "text": [
      "Num of features: 10 and the error: 0.0281051605919\n",
      "Num of features: 15 and the error: 0.026373524992\n",
      "Num of features: 20 and the error: 0.0252935764034\n",
      "Num of features: 25 and the error: 0.0228834465052\n",
      "Num of features: 30 and the error: 0.0228548795961\n",
      "Num of features: 35 and the error: 0.0220050909192\n",
      "Num of features: 40 and the error: 0.0214715726029\n",
      "Num of features: 45 and the error: 0.0217378356126\n",
      "Num of features: 50 and the error: 0.021290717931\n",
      "Num of features: 55 and the error: 0.0219111232816\n",
      "Num of features: 60 and the error: 0.0215221542437\n",
      "Num of features: 65 and the error: 0.0215535434889\n",
      "Num of features: 70 and the error: 0.0212812832387\n",
      "Num of features: 75 and the error: 0.0215981896786\n",
      "Num of features: 80 and the error: 0.0211061671218\n",
      "Num of features: 85 and the error: 0.021094033704\n",
      "Num of features: 90 and the error: 0.0210766351066\n",
      "Num of features: 95 and the error: 0.0208754660513\n",
      "Num of features: 100 and the error: 0.0205909384025\n",
      "Num of features: 105 and the error: 0.0209059489799\n",
      "Num of features: 110 and the error: 0.0208799496859\n",
      "Num of features: 115 and the error: 0.0207155668077\n",
      "Num of features: 120 and the error: 0.0209898222987\n",
      "Num of features: 125 and the error: 0.0209105526823\n",
      "Num of features: 130 and the error: 0.0210519507616\n",
      "Num of features: 135 and the error: 0.0210717315209\n",
      "Num of features: 140 and the error: 0.020735309131\n",
      "Num of features: 145 and the error: 0.0207022035816\n",
      "Num of features: 150 and the error: 0.0203413113779\n",
      "Num of features: 155 and the error: 0.0199961119705\n",
      "Num of features: 160 and the error: 0.0203482967191\n",
      "Num of features: 165 and the error: 0.0203872342714\n",
      "Num of features: 170 and the error: 0.0202536874717\n",
      "Num of features: 175 and the error: 0.0204024357144\n",
      "Num of features: 180 and the error: 0.020112147645\n",
      "Num of features: 185 and the error: 0.020411272357\n",
      "Num of features: 190 and the error: 0.0203289210848\n",
      "Num of features: 195 and the error: 0.0205768348593\n",
      "Num of features: 200 and the error: 0.0205235980566\n",
      "Num of features: 205 and the error: 0.0202710681765\n",
      "Num of features: 210 and the error: 0.0203062104941\n",
      "Num of features: 215 and the error: 0.0202932052856\n",
      "Num of features: 220 and the error: 0.0201437087995\n",
      "Num of features: 225 and the error: 0.0204833294148\n",
      "Num of features: 230 and the error: 0.0204815237622\n",
      "Num of features: 235 and the error: 0.020387384137\n",
      "Num of features: 240 and the error: 0.020238793555\n",
      "Num of features: 245 and the error: 0.0201333050936\n",
      "Num of features: 250 and the error: 0.0201463319623\n",
      "Num of features: 255 and the error: 0.0200700326401\n",
      "Num of features: 260 and the error: 0.0201297532748\n",
      "Num of features: 265 and the error: 0.0202327295\n",
      "Num of features: 270 and the error: 0.0204352562782\n",
      "Num of features: 275 and the error: 0.0205997059423\n",
      "Num of features: 280 and the error: 0.0206139482989\n",
      "Num of features: 285 and the error: 0.0206605037438\n",
      "Num of features: 290 and the error: 0.0207696528226\n",
      "Num of features: 295 and the error: 0.0207484927685\n",
      "Num of features: 300 and the error: 0.0207610082254\n",
      "Wall time: 15min 12s\n"
     ]
    }
   ],
   "source": [
    "%%time\n",
    "\n",
    "for num in list(range(10, 301, 5)):\n",
    "    sel = SelectKBest(score_func=my_mutual_info, k=num)\n",
    "    sel.fit(features_train, labels_train.reshape(-1))\n",
    "    \n",
    "    best_features_train = sel.transform(features_train)\n",
    "    best_features_test = sel.transform(features_test)\n",
    "    \n",
    "    clf = GradientBoostingRegressor(n_estimators=250, min_samples_split=5, min_samples_leaf=2, random_state=23)\n",
    "    #clf = xgboost.XGBRegressor(max_depth=4, n_estimators=300)\n",
    "    \n",
    "    clf.fit(best_features_train, labels_train.reshape(-1))\n",
    "\n",
    "    prediction = clf.predict(best_features_test)\n",
    "\n",
    "    print(\"Num of features:\", num, \"and the error:\", mean_absolute_error(labels_test, prediction))"
   ]
  },
  {
   "cell_type": "markdown",
   "metadata": {},
   "source": [
    "#### Наилучший результат GBM = 0.01999 на 155 признаках  \n",
    "XGB работает похуже"
   ]
  },
  {
   "cell_type": "code",
   "execution_count": 2709,
   "metadata": {
    "collapsed": true
   },
   "outputs": [],
   "source": [
    "sel = SelectKBest(score_func=my_mutual_info, k=155)\n",
    "sel.fit(features_train, labels_train.reshape(-1))\n",
    "\n",
    "best_features_train = sel.transform(features_train)\n",
    "best_features_test = sel.transform(features_test)"
   ]
  },
  {
   "cell_type": "markdown",
   "metadata": {},
   "source": [
    "#### Прогоним алгоритмы на сокращенном наборе и усредним"
   ]
  },
  {
   "cell_type": "code",
   "execution_count": 2710,
   "metadata": {
    "collapsed": true
   },
   "outputs": [],
   "source": [
    "results = pd.DataFrame()\n",
    "results['Target'] = labels_test.reshape(-1)"
   ]
  },
  {
   "cell_type": "code",
   "execution_count": 2696,
   "metadata": {},
   "outputs": [
    {
     "name": "stdout",
     "output_type": "stream",
     "text": [
      "-0.0234871402589\n",
      "{'min_samples_leaf': 1, 'min_samples_split': 4, 'n_estimators': 350}\n",
      "0.0202941592297\n",
      "Wall time: 2min 27s\n"
     ]
    }
   ],
   "source": [
    "%%time\n",
    "\n",
    "clf = choose_GBM(best_features_train, labels_train)\n",
    "\n",
    "clf.fit(best_features_train, labels_train.reshape(-1))\n",
    "prediction = clf.predict(best_features_test)\n",
    "\n",
    "print(mean_absolute_error(labels_test, prediction))\n"
   ]
  },
  {
   "cell_type": "code",
   "execution_count": 2711,
   "metadata": {},
   "outputs": [
    {
     "name": "stdout",
     "output_type": "stream",
     "text": [
      "0.0199961119705\n"
     ]
    }
   ],
   "source": [
    "clf = GradientBoostingRegressor(n_estimators=250, min_samples_split=5, min_samples_leaf=2, random_state=23)\n",
    "clf.fit(best_features_train, labels_train.reshape(-1))\n",
    "\n",
    "prediction = clf.predict(best_features_test)\n",
    "\n",
    "print(mean_absolute_error(labels_test, prediction))\n",
    "\n",
    "results['GBM'] = prediction.reshape(-1)"
   ]
  },
  {
   "cell_type": "code",
   "execution_count": 2712,
   "metadata": {},
   "outputs": [
    {
     "name": "stdout",
     "output_type": "stream",
     "text": [
      "-0.0240306834833\n",
      "{'max_depth': 4, 'n_estimators': 300}\n",
      "0.0210248258735\n"
     ]
    }
   ],
   "source": [
    "clf = choose_XGB(best_features_train, labels_train)\n",
    "\n",
    "clf.fit(best_features_train, labels_train.reshape(-1))\n",
    "prediction = clf.predict(best_features_test)\n",
    "\n",
    "print(mean_absolute_error(labels_test, prediction))\n",
    "\n",
    "results['XGB'] = prediction.reshape(-1)"
   ]
  },
  {
   "cell_type": "code",
   "execution_count": 2713,
   "metadata": {
    "scrolled": true
   },
   "outputs": [
    {
     "name": "stderr",
     "output_type": "stream",
     "text": [
      "C:\\ProgramData\\Anaconda3\\lib\\site-packages\\scipy\\linalg\\basic.py:223: RuntimeWarning: scipy.linalg.solve\n",
      "Ill-conditioned matrix detected. Result is not guaranteed to be accurate.\n",
      "Reciprocal condition number: 5.2198795484543084e-21\n",
      "  ' condition number: {}'.format(rcond), RuntimeWarning)\n",
      "C:\\ProgramData\\Anaconda3\\lib\\site-packages\\scipy\\linalg\\basic.py:223: RuntimeWarning: scipy.linalg.solve\n",
      "Ill-conditioned matrix detected. Result is not guaranteed to be accurate.\n",
      "Reciprocal condition number: 5.219879548454294e-21\n",
      "  ' condition number: {}'.format(rcond), RuntimeWarning)\n"
     ]
    },
    {
     "name": "stdout",
     "output_type": "stream",
     "text": [
      "-0.0247435408483\n",
      "{'alpha': 1.0, 'gamma': 0.021544346900318832, 'kernel': 'polynomial'}\n",
      "0.0249165079801\n"
     ]
    }
   ],
   "source": [
    "clf = choose_KernelRidge(best_features_train, labels_train)\n",
    "\n",
    "clf.fit(best_features_train, labels_train.reshape(-1))\n",
    "prediction = clf.predict(best_features_test)\n",
    "\n",
    "print(mean_absolute_error(labels_test, prediction))\n",
    "\n",
    "results['K_Ridge'] = prediction.reshape(-1)"
   ]
  },
  {
   "cell_type": "code",
   "execution_count": 2717,
   "metadata": {},
   "outputs": [
    {
     "name": "stdout",
     "output_type": "stream",
     "text": [
      "Average vs Target 0.0200525379468\n",
      "GBM vs Target 0.0199961119705\n"
     ]
    }
   ],
   "source": [
    "average = np.mean(results[['GBM', 'K_Ridge', 'XGB']], axis=1)\n",
    "\n",
    "print(\"Average vs Target\", mean_absolute_error(results.Target, average))\n",
    "print(\"GBM vs Target\", mean_absolute_error(results.Target, results.GBM))"
   ]
  },
  {
   "cell_type": "markdown",
   "metadata": {},
   "source": [
    "#### Усреднение на сокращенном наборе признаков не даёт заметного преимущества"
   ]
  }
 ],
 "metadata": {
  "anaconda-cloud": {},
  "kernelspec": {
   "display_name": "Python 3",
   "language": "python",
   "name": "python3"
  },
  "language_info": {
   "codemirror_mode": {
    "name": "ipython",
    "version": 3
   },
   "file_extension": ".py",
   "mimetype": "text/x-python",
   "name": "python",
   "nbconvert_exporter": "python",
   "pygments_lexer": "ipython3",
   "version": "3.6.2"
  }
 },
 "nbformat": 4,
 "nbformat_minor": 1
}
