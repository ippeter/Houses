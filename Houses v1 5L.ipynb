{
 "cells": [
  {
   "cell_type": "code",
   "execution_count": 1,
   "metadata": {
    "collapsed": false,
    "scrolled": true
   },
   "outputs": [
    {
     "name": "stdout",
     "output_type": "stream",
     "text": [
      "Populating the interactive namespace from numpy and matplotlib\n"
     ]
    }
   ],
   "source": [
    "import pandas as pd\n",
    "import numpy as np\n",
    "import math as mt\n",
    "\n",
    "import tensorflow as tf\n",
    "from tensorflow.python.framework import ops\n",
    "\n",
    "#from gplearn.genetic import SymbolicRegressor\n",
    "\n",
    "from sklearn.metrics import accuracy_score, r2_score, mean_squared_error, mean_absolute_error\n",
    "from sklearn.metrics import precision_score\n",
    "from sklearn.metrics import recall_score\n",
    "from sklearn.metrics import roc_curve, roc_auc_score\n",
    "\n",
    "from sklearn.ensemble import GradientBoostingRegressor\n",
    "from sklearn.ensemble import RandomForestRegressor\n",
    "\n",
    "import xgboost\n",
    "#import os\n",
    "#import re\n",
    "\n",
    "#from scipy.optimize import minimize\n",
    "\n",
    "#from sklearn.tree import DecisionTreeClassifier, DecisionTreeRegressor\n",
    "#from sklearn.ensemble import RandomForestClassifier, ExtraTreesClassifier, GradientBoostingClassifier, AdaBoostClassifier\n",
    "#from sklearn.svm import LinearSVC, SVC\n",
    "#from sklearn.linear_model import LogisticRegression, RidgeClassifier\n",
    "#from sklearn.neighbors import KNeighborsClassifier\n",
    "\n",
    "from sklearn.model_selection import StratifiedKFold, GridSearchCV, train_test_split\n",
    "from sklearn.preprocessing import MinMaxScaler, LabelEncoder, OneHotEncoder, LabelBinarizer\n",
    "#from sklearn.decomposition import PCA\n",
    "\n",
    "#os.environ['PATH'] = 'c:\\Program Files\\VowpalWabbit\\;' + os.environ['PATH']\n",
    "\n",
    "%pylab inline"
   ]
  },
  {
   "cell_type": "code",
   "execution_count": 2,
   "metadata": {
    "collapsed": true
   },
   "outputs": [],
   "source": [
    "# Load House train data\n",
    "train = pd.read_csv('train.csv')"
   ]
  },
  {
   "cell_type": "code",
   "execution_count": 3,
   "metadata": {
    "collapsed": false
   },
   "outputs": [],
   "source": [
    "# Put the labels aside\n",
    "labels_orig = train.SalePrice.as_matrix().reshape(-1, 1)"
   ]
  },
  {
   "cell_type": "code",
   "execution_count": 4,
   "metadata": {
    "collapsed": false,
    "scrolled": true
   },
   "outputs": [
    {
     "name": "stdout",
     "output_type": "stream",
     "text": [
      "LotFrontage\n",
      "Alley\n",
      "MasVnrType\n",
      "MasVnrArea\n",
      "BsmtQual\n",
      "BsmtCond\n",
      "BsmtExposure\n",
      "BsmtFinType1\n",
      "BsmtFinType2\n",
      "Electrical\n",
      "FireplaceQu\n",
      "GarageType\n",
      "GarageYrBlt\n",
      "GarageFinish\n",
      "GarageQual\n",
      "GarageCond\n",
      "PoolQC\n",
      "Fence\n",
      "MiscFeature\n",
      "Total 19 columns with NaNs\n"
     ]
    }
   ],
   "source": [
    "# Which columns have NaN values?\n",
    "count = 0\n",
    "\n",
    "for col in train.columns:\n",
    "    if(train[col].isnull().sum() > 0):\n",
    "        print(col)\n",
    "        count = count + 1\n",
    "        \n",
    "print(\"Total\", count, \"columns with NaNs\")"
   ]
  },
  {
   "cell_type": "code",
   "execution_count": 5,
   "metadata": {
    "collapsed": true
   },
   "outputs": [],
   "source": [
    "# Define variables\n",
    "cols = []"
   ]
  },
  {
   "cell_type": "code",
   "execution_count": 6,
   "metadata": {
    "collapsed": false
   },
   "outputs": [
    {
     "data": {
      "text/html": [
       "<div>\n",
       "<table border=\"1\" class=\"dataframe\">\n",
       "  <thead>\n",
       "    <tr style=\"text-align: right;\">\n",
       "      <th></th>\n",
       "      <th>Id</th>\n",
       "      <th>MSSubClass</th>\n",
       "      <th>MSZoning</th>\n",
       "      <th>LotFrontage</th>\n",
       "      <th>LotArea</th>\n",
       "      <th>Street</th>\n",
       "      <th>Alley</th>\n",
       "      <th>LotShape</th>\n",
       "      <th>LandContour</th>\n",
       "    </tr>\n",
       "  </thead>\n",
       "  <tbody>\n",
       "    <tr>\n",
       "      <th>0</th>\n",
       "      <td>1</td>\n",
       "      <td>60</td>\n",
       "      <td>RL</td>\n",
       "      <td>65.0</td>\n",
       "      <td>8450</td>\n",
       "      <td>Pave</td>\n",
       "      <td>NaN</td>\n",
       "      <td>Reg</td>\n",
       "      <td>Lvl</td>\n",
       "    </tr>\n",
       "    <tr>\n",
       "      <th>1</th>\n",
       "      <td>2</td>\n",
       "      <td>20</td>\n",
       "      <td>RL</td>\n",
       "      <td>80.0</td>\n",
       "      <td>9600</td>\n",
       "      <td>Pave</td>\n",
       "      <td>NaN</td>\n",
       "      <td>Reg</td>\n",
       "      <td>Lvl</td>\n",
       "    </tr>\n",
       "    <tr>\n",
       "      <th>2</th>\n",
       "      <td>3</td>\n",
       "      <td>60</td>\n",
       "      <td>RL</td>\n",
       "      <td>68.0</td>\n",
       "      <td>11250</td>\n",
       "      <td>Pave</td>\n",
       "      <td>NaN</td>\n",
       "      <td>IR1</td>\n",
       "      <td>Lvl</td>\n",
       "    </tr>\n",
       "    <tr>\n",
       "      <th>3</th>\n",
       "      <td>4</td>\n",
       "      <td>70</td>\n",
       "      <td>RL</td>\n",
       "      <td>60.0</td>\n",
       "      <td>9550</td>\n",
       "      <td>Pave</td>\n",
       "      <td>NaN</td>\n",
       "      <td>IR1</td>\n",
       "      <td>Lvl</td>\n",
       "    </tr>\n",
       "    <tr>\n",
       "      <th>4</th>\n",
       "      <td>5</td>\n",
       "      <td>60</td>\n",
       "      <td>RL</td>\n",
       "      <td>84.0</td>\n",
       "      <td>14260</td>\n",
       "      <td>Pave</td>\n",
       "      <td>NaN</td>\n",
       "      <td>IR1</td>\n",
       "      <td>Lvl</td>\n",
       "    </tr>\n",
       "  </tbody>\n",
       "</table>\n",
       "</div>"
      ],
      "text/plain": [
       "   Id  MSSubClass MSZoning  LotFrontage  LotArea Street Alley LotShape  \\\n",
       "0   1          60       RL         65.0     8450   Pave   NaN      Reg   \n",
       "1   2          20       RL         80.0     9600   Pave   NaN      Reg   \n",
       "2   3          60       RL         68.0    11250   Pave   NaN      IR1   \n",
       "3   4          70       RL         60.0     9550   Pave   NaN      IR1   \n",
       "4   5          60       RL         84.0    14260   Pave   NaN      IR1   \n",
       "\n",
       "  LandContour  \n",
       "0         Lvl  \n",
       "1         Lvl  \n",
       "2         Lvl  \n",
       "3         Lvl  \n",
       "4         Lvl  "
      ]
     },
     "execution_count": 6,
     "metadata": {},
     "output_type": "execute_result"
    }
   ],
   "source": [
    "train.iloc[:, :9].head()"
   ]
  },
  {
   "cell_type": "code",
   "execution_count": 7,
   "metadata": {
    "collapsed": false
   },
   "outputs": [],
   "source": [
    "# MSSubClass\n",
    "enc = OneHotEncoder(sparse=False)\n",
    "cols.append(enc.fit_transform(train.MSSubClass.values.reshape(-1, 1)))"
   ]
  },
  {
   "cell_type": "code",
   "execution_count": 8,
   "metadata": {
    "collapsed": false
   },
   "outputs": [],
   "source": [
    "# MSZoning\n",
    "cols.append(pd.get_dummies(train.MSZoning).as_matrix())"
   ]
  },
  {
   "cell_type": "code",
   "execution_count": 9,
   "metadata": {
    "collapsed": false
   },
   "outputs": [],
   "source": [
    "# LotFrontage\n",
    "train.LotFrontage.fillna(0.0, inplace=True)\n",
    "cols.append(train.LotFrontage.as_matrix().reshape(-1, 1))"
   ]
  },
  {
   "cell_type": "code",
   "execution_count": 10,
   "metadata": {
    "collapsed": false
   },
   "outputs": [],
   "source": [
    "# LotArea\n",
    "cols.append(train.LotArea.as_matrix().reshape(-1, 1))"
   ]
  },
  {
   "cell_type": "code",
   "execution_count": 11,
   "metadata": {
    "collapsed": true
   },
   "outputs": [],
   "source": [
    "# Street\n",
    "cols.append(pd.get_dummies(train.Street).as_matrix())"
   ]
  },
  {
   "cell_type": "code",
   "execution_count": 12,
   "metadata": {
    "collapsed": false
   },
   "outputs": [],
   "source": [
    "# Alley\n",
    "train.Alley.fillna(\"Unknown\", inplace=True)\n",
    "cols.append(pd.get_dummies(train.Alley).as_matrix())"
   ]
  },
  {
   "cell_type": "code",
   "execution_count": 13,
   "metadata": {
    "collapsed": false
   },
   "outputs": [],
   "source": [
    "# LotShape\n",
    "cols.append(pd.get_dummies(train.LotShape).as_matrix())"
   ]
  },
  {
   "cell_type": "code",
   "execution_count": 14,
   "metadata": {
    "collapsed": false
   },
   "outputs": [],
   "source": [
    "# LandContour\n",
    "cols.append(pd.get_dummies(train.LandContour).as_matrix())"
   ]
  },
  {
   "cell_type": "code",
   "execution_count": 15,
   "metadata": {
    "collapsed": false
   },
   "outputs": [],
   "source": [
    "# Utilities\n",
    "cols.append(pd.get_dummies(train.Utilities).as_matrix())"
   ]
  },
  {
   "cell_type": "code",
   "execution_count": 16,
   "metadata": {
    "collapsed": false
   },
   "outputs": [
    {
     "data": {
      "text/html": [
       "<div>\n",
       "<table border=\"1\" class=\"dataframe\">\n",
       "  <thead>\n",
       "    <tr style=\"text-align: right;\">\n",
       "      <th></th>\n",
       "      <th>Utilities</th>\n",
       "      <th>LotConfig</th>\n",
       "      <th>LandSlope</th>\n",
       "      <th>Neighborhood</th>\n",
       "      <th>Condition1</th>\n",
       "      <th>Condition2</th>\n",
       "      <th>BldgType</th>\n",
       "      <th>HouseStyle</th>\n",
       "      <th>OverallQual</th>\n",
       "      <th>OverallCond</th>\n",
       "    </tr>\n",
       "  </thead>\n",
       "  <tbody>\n",
       "    <tr>\n",
       "      <th>0</th>\n",
       "      <td>AllPub</td>\n",
       "      <td>Inside</td>\n",
       "      <td>Gtl</td>\n",
       "      <td>CollgCr</td>\n",
       "      <td>Norm</td>\n",
       "      <td>Norm</td>\n",
       "      <td>1Fam</td>\n",
       "      <td>2Story</td>\n",
       "      <td>7</td>\n",
       "      <td>5</td>\n",
       "    </tr>\n",
       "    <tr>\n",
       "      <th>1</th>\n",
       "      <td>AllPub</td>\n",
       "      <td>FR2</td>\n",
       "      <td>Gtl</td>\n",
       "      <td>Veenker</td>\n",
       "      <td>Feedr</td>\n",
       "      <td>Norm</td>\n",
       "      <td>1Fam</td>\n",
       "      <td>1Story</td>\n",
       "      <td>6</td>\n",
       "      <td>8</td>\n",
       "    </tr>\n",
       "    <tr>\n",
       "      <th>2</th>\n",
       "      <td>AllPub</td>\n",
       "      <td>Inside</td>\n",
       "      <td>Gtl</td>\n",
       "      <td>CollgCr</td>\n",
       "      <td>Norm</td>\n",
       "      <td>Norm</td>\n",
       "      <td>1Fam</td>\n",
       "      <td>2Story</td>\n",
       "      <td>7</td>\n",
       "      <td>5</td>\n",
       "    </tr>\n",
       "    <tr>\n",
       "      <th>3</th>\n",
       "      <td>AllPub</td>\n",
       "      <td>Corner</td>\n",
       "      <td>Gtl</td>\n",
       "      <td>Crawfor</td>\n",
       "      <td>Norm</td>\n",
       "      <td>Norm</td>\n",
       "      <td>1Fam</td>\n",
       "      <td>2Story</td>\n",
       "      <td>7</td>\n",
       "      <td>5</td>\n",
       "    </tr>\n",
       "    <tr>\n",
       "      <th>4</th>\n",
       "      <td>AllPub</td>\n",
       "      <td>FR2</td>\n",
       "      <td>Gtl</td>\n",
       "      <td>NoRidge</td>\n",
       "      <td>Norm</td>\n",
       "      <td>Norm</td>\n",
       "      <td>1Fam</td>\n",
       "      <td>2Story</td>\n",
       "      <td>8</td>\n",
       "      <td>5</td>\n",
       "    </tr>\n",
       "  </tbody>\n",
       "</table>\n",
       "</div>"
      ],
      "text/plain": [
       "  Utilities LotConfig LandSlope Neighborhood Condition1 Condition2 BldgType  \\\n",
       "0    AllPub    Inside       Gtl      CollgCr       Norm       Norm     1Fam   \n",
       "1    AllPub       FR2       Gtl      Veenker      Feedr       Norm     1Fam   \n",
       "2    AllPub    Inside       Gtl      CollgCr       Norm       Norm     1Fam   \n",
       "3    AllPub    Corner       Gtl      Crawfor       Norm       Norm     1Fam   \n",
       "4    AllPub       FR2       Gtl      NoRidge       Norm       Norm     1Fam   \n",
       "\n",
       "  HouseStyle  OverallQual  OverallCond  \n",
       "0     2Story            7            5  \n",
       "1     1Story            6            8  \n",
       "2     2Story            7            5  \n",
       "3     2Story            7            5  \n",
       "4     2Story            8            5  "
      ]
     },
     "execution_count": 16,
     "metadata": {},
     "output_type": "execute_result"
    }
   ],
   "source": [
    "train.iloc[:, 9:19].head()"
   ]
  },
  {
   "cell_type": "code",
   "execution_count": 17,
   "metadata": {
    "collapsed": false
   },
   "outputs": [],
   "source": [
    "# LotConfig\n",
    "cols.append(pd.get_dummies(train.LotConfig).as_matrix())"
   ]
  },
  {
   "cell_type": "code",
   "execution_count": 18,
   "metadata": {
    "collapsed": false
   },
   "outputs": [],
   "source": [
    "# LandSlope\n",
    "cols.append(pd.get_dummies(train.LandSlope).as_matrix())"
   ]
  },
  {
   "cell_type": "code",
   "execution_count": 19,
   "metadata": {
    "collapsed": false
   },
   "outputs": [],
   "source": [
    "# Neighborhood \n",
    "cols.append(pd.get_dummies(train.Neighborhood).as_matrix())"
   ]
  },
  {
   "cell_type": "code",
   "execution_count": 20,
   "metadata": {
    "collapsed": false
   },
   "outputs": [],
   "source": [
    "# Condition1\n",
    "cols.append(pd.get_dummies(train.Condition1).as_matrix())"
   ]
  },
  {
   "cell_type": "code",
   "execution_count": 21,
   "metadata": {
    "collapsed": true
   },
   "outputs": [],
   "source": [
    "# Condition2\n",
    "cols.append(pd.get_dummies(train.Condition2).as_matrix())"
   ]
  },
  {
   "cell_type": "code",
   "execution_count": 22,
   "metadata": {
    "collapsed": true
   },
   "outputs": [],
   "source": [
    "# BldgType\n",
    "cols.append(pd.get_dummies(train.BldgType).as_matrix())"
   ]
  },
  {
   "cell_type": "code",
   "execution_count": 23,
   "metadata": {
    "collapsed": true
   },
   "outputs": [],
   "source": [
    "# HouseStyle\n",
    "cols.append(pd.get_dummies(train.HouseStyle).as_matrix())"
   ]
  },
  {
   "cell_type": "code",
   "execution_count": 24,
   "metadata": {
    "collapsed": true
   },
   "outputs": [],
   "source": [
    "# OverallQual\n",
    "enc = OneHotEncoder(sparse=False)\n",
    "cols.append(enc.fit_transform(train.OverallQual.values.reshape(-1, 1)))"
   ]
  },
  {
   "cell_type": "code",
   "execution_count": 25,
   "metadata": {
    "collapsed": true
   },
   "outputs": [],
   "source": [
    "# OverallCond\n",
    "enc = OneHotEncoder(sparse=False)\n",
    "cols.append(enc.fit_transform(train.OverallCond.values.reshape(-1, 1)))"
   ]
  },
  {
   "cell_type": "code",
   "execution_count": 26,
   "metadata": {
    "collapsed": false
   },
   "outputs": [
    {
     "data": {
      "text/html": [
       "<div>\n",
       "<table border=\"1\" class=\"dataframe\">\n",
       "  <thead>\n",
       "    <tr style=\"text-align: right;\">\n",
       "      <th></th>\n",
       "      <th>YearBuilt</th>\n",
       "      <th>YearRemodAdd</th>\n",
       "      <th>RoofStyle</th>\n",
       "      <th>RoofMatl</th>\n",
       "      <th>Exterior1st</th>\n",
       "      <th>Exterior2nd</th>\n",
       "      <th>MasVnrType</th>\n",
       "      <th>MasVnrArea</th>\n",
       "      <th>ExterQual</th>\n",
       "      <th>ExterCond</th>\n",
       "    </tr>\n",
       "  </thead>\n",
       "  <tbody>\n",
       "    <tr>\n",
       "      <th>0</th>\n",
       "      <td>2003</td>\n",
       "      <td>2003</td>\n",
       "      <td>Gable</td>\n",
       "      <td>CompShg</td>\n",
       "      <td>VinylSd</td>\n",
       "      <td>VinylSd</td>\n",
       "      <td>BrkFace</td>\n",
       "      <td>196.0</td>\n",
       "      <td>Gd</td>\n",
       "      <td>TA</td>\n",
       "    </tr>\n",
       "    <tr>\n",
       "      <th>1</th>\n",
       "      <td>1976</td>\n",
       "      <td>1976</td>\n",
       "      <td>Gable</td>\n",
       "      <td>CompShg</td>\n",
       "      <td>MetalSd</td>\n",
       "      <td>MetalSd</td>\n",
       "      <td>None</td>\n",
       "      <td>0.0</td>\n",
       "      <td>TA</td>\n",
       "      <td>TA</td>\n",
       "    </tr>\n",
       "    <tr>\n",
       "      <th>2</th>\n",
       "      <td>2001</td>\n",
       "      <td>2002</td>\n",
       "      <td>Gable</td>\n",
       "      <td>CompShg</td>\n",
       "      <td>VinylSd</td>\n",
       "      <td>VinylSd</td>\n",
       "      <td>BrkFace</td>\n",
       "      <td>162.0</td>\n",
       "      <td>Gd</td>\n",
       "      <td>TA</td>\n",
       "    </tr>\n",
       "    <tr>\n",
       "      <th>3</th>\n",
       "      <td>1915</td>\n",
       "      <td>1970</td>\n",
       "      <td>Gable</td>\n",
       "      <td>CompShg</td>\n",
       "      <td>Wd Sdng</td>\n",
       "      <td>Wd Shng</td>\n",
       "      <td>None</td>\n",
       "      <td>0.0</td>\n",
       "      <td>TA</td>\n",
       "      <td>TA</td>\n",
       "    </tr>\n",
       "    <tr>\n",
       "      <th>4</th>\n",
       "      <td>2000</td>\n",
       "      <td>2000</td>\n",
       "      <td>Gable</td>\n",
       "      <td>CompShg</td>\n",
       "      <td>VinylSd</td>\n",
       "      <td>VinylSd</td>\n",
       "      <td>BrkFace</td>\n",
       "      <td>350.0</td>\n",
       "      <td>Gd</td>\n",
       "      <td>TA</td>\n",
       "    </tr>\n",
       "  </tbody>\n",
       "</table>\n",
       "</div>"
      ],
      "text/plain": [
       "   YearBuilt  YearRemodAdd RoofStyle RoofMatl Exterior1st Exterior2nd  \\\n",
       "0       2003          2003     Gable  CompShg     VinylSd     VinylSd   \n",
       "1       1976          1976     Gable  CompShg     MetalSd     MetalSd   \n",
       "2       2001          2002     Gable  CompShg     VinylSd     VinylSd   \n",
       "3       1915          1970     Gable  CompShg     Wd Sdng     Wd Shng   \n",
       "4       2000          2000     Gable  CompShg     VinylSd     VinylSd   \n",
       "\n",
       "  MasVnrType  MasVnrArea ExterQual ExterCond  \n",
       "0    BrkFace       196.0        Gd        TA  \n",
       "1       None         0.0        TA        TA  \n",
       "2    BrkFace       162.0        Gd        TA  \n",
       "3       None         0.0        TA        TA  \n",
       "4    BrkFace       350.0        Gd        TA  "
      ]
     },
     "execution_count": 26,
     "metadata": {},
     "output_type": "execute_result"
    }
   ],
   "source": [
    "train.iloc[:, 19:29].head()"
   ]
  },
  {
   "cell_type": "code",
   "execution_count": 27,
   "metadata": {
    "collapsed": false
   },
   "outputs": [],
   "source": [
    "# YearBuilt\n",
    "# Keep it continuous for the first round\n",
    "cols.append(train.YearBuilt.as_matrix().reshape(-1, 1))"
   ]
  },
  {
   "cell_type": "code",
   "execution_count": 28,
   "metadata": {
    "collapsed": true
   },
   "outputs": [],
   "source": [
    "# YearRemodAdd\n",
    "# Keep it continuous for the first round\n",
    "cols.append(train.YearRemodAdd.as_matrix().reshape(-1, 1))"
   ]
  },
  {
   "cell_type": "code",
   "execution_count": 29,
   "metadata": {
    "collapsed": true
   },
   "outputs": [],
   "source": [
    "# RoofStyle\n",
    "cols.append(pd.get_dummies(train.RoofStyle).as_matrix())"
   ]
  },
  {
   "cell_type": "code",
   "execution_count": 30,
   "metadata": {
    "collapsed": true
   },
   "outputs": [],
   "source": [
    "# RoofMatl\n",
    "cols.append(pd.get_dummies(train.RoofMatl).as_matrix())"
   ]
  },
  {
   "cell_type": "code",
   "execution_count": 31,
   "metadata": {
    "collapsed": true
   },
   "outputs": [],
   "source": [
    "# Exterior1st\n",
    "cols.append(pd.get_dummies(train.Exterior1st).as_matrix())"
   ]
  },
  {
   "cell_type": "code",
   "execution_count": 32,
   "metadata": {
    "collapsed": true
   },
   "outputs": [],
   "source": [
    "# Exterior2nd\n",
    "cols.append(pd.get_dummies(train.Exterior2nd).as_matrix())"
   ]
  },
  {
   "cell_type": "code",
   "execution_count": 33,
   "metadata": {
    "collapsed": true
   },
   "outputs": [],
   "source": [
    "# MasVnrType\n",
    "train.MasVnrType.fillna(\"Unknown\", inplace=True)\n",
    "cols.append(pd.get_dummies(train.MasVnrType).as_matrix())"
   ]
  },
  {
   "cell_type": "code",
   "execution_count": 34,
   "metadata": {
    "collapsed": true
   },
   "outputs": [],
   "source": [
    "# MasVnrArea\n",
    "train.MasVnrArea.fillna(0.0, inplace=True)\n",
    "cols.append(pd.get_dummies(train.MasVnrArea).as_matrix())"
   ]
  },
  {
   "cell_type": "code",
   "execution_count": 35,
   "metadata": {
    "collapsed": true
   },
   "outputs": [],
   "source": [
    "# ExterQual\n",
    "cols.append(pd.get_dummies(train.ExterQual).as_matrix())"
   ]
  },
  {
   "cell_type": "code",
   "execution_count": 36,
   "metadata": {
    "collapsed": true
   },
   "outputs": [],
   "source": [
    "# ExterCond\n",
    "cols.append(pd.get_dummies(train.ExterCond).as_matrix())"
   ]
  },
  {
   "cell_type": "code",
   "execution_count": 37,
   "metadata": {
    "collapsed": false
   },
   "outputs": [
    {
     "data": {
      "text/html": [
       "<div>\n",
       "<table border=\"1\" class=\"dataframe\">\n",
       "  <thead>\n",
       "    <tr style=\"text-align: right;\">\n",
       "      <th></th>\n",
       "      <th>Foundation</th>\n",
       "      <th>BsmtQual</th>\n",
       "      <th>BsmtCond</th>\n",
       "      <th>BsmtExposure</th>\n",
       "      <th>BsmtFinType1</th>\n",
       "      <th>BsmtFinSF1</th>\n",
       "      <th>BsmtFinType2</th>\n",
       "      <th>BsmtFinSF2</th>\n",
       "      <th>BsmtUnfSF</th>\n",
       "      <th>TotalBsmtSF</th>\n",
       "    </tr>\n",
       "  </thead>\n",
       "  <tbody>\n",
       "    <tr>\n",
       "      <th>0</th>\n",
       "      <td>PConc</td>\n",
       "      <td>Gd</td>\n",
       "      <td>TA</td>\n",
       "      <td>No</td>\n",
       "      <td>GLQ</td>\n",
       "      <td>706</td>\n",
       "      <td>Unf</td>\n",
       "      <td>0</td>\n",
       "      <td>150</td>\n",
       "      <td>856</td>\n",
       "    </tr>\n",
       "    <tr>\n",
       "      <th>1</th>\n",
       "      <td>CBlock</td>\n",
       "      <td>Gd</td>\n",
       "      <td>TA</td>\n",
       "      <td>Gd</td>\n",
       "      <td>ALQ</td>\n",
       "      <td>978</td>\n",
       "      <td>Unf</td>\n",
       "      <td>0</td>\n",
       "      <td>284</td>\n",
       "      <td>1262</td>\n",
       "    </tr>\n",
       "    <tr>\n",
       "      <th>2</th>\n",
       "      <td>PConc</td>\n",
       "      <td>Gd</td>\n",
       "      <td>TA</td>\n",
       "      <td>Mn</td>\n",
       "      <td>GLQ</td>\n",
       "      <td>486</td>\n",
       "      <td>Unf</td>\n",
       "      <td>0</td>\n",
       "      <td>434</td>\n",
       "      <td>920</td>\n",
       "    </tr>\n",
       "    <tr>\n",
       "      <th>3</th>\n",
       "      <td>BrkTil</td>\n",
       "      <td>TA</td>\n",
       "      <td>Gd</td>\n",
       "      <td>No</td>\n",
       "      <td>ALQ</td>\n",
       "      <td>216</td>\n",
       "      <td>Unf</td>\n",
       "      <td>0</td>\n",
       "      <td>540</td>\n",
       "      <td>756</td>\n",
       "    </tr>\n",
       "    <tr>\n",
       "      <th>4</th>\n",
       "      <td>PConc</td>\n",
       "      <td>Gd</td>\n",
       "      <td>TA</td>\n",
       "      <td>Av</td>\n",
       "      <td>GLQ</td>\n",
       "      <td>655</td>\n",
       "      <td>Unf</td>\n",
       "      <td>0</td>\n",
       "      <td>490</td>\n",
       "      <td>1145</td>\n",
       "    </tr>\n",
       "  </tbody>\n",
       "</table>\n",
       "</div>"
      ],
      "text/plain": [
       "  Foundation BsmtQual BsmtCond BsmtExposure BsmtFinType1  BsmtFinSF1  \\\n",
       "0      PConc       Gd       TA           No          GLQ         706   \n",
       "1     CBlock       Gd       TA           Gd          ALQ         978   \n",
       "2      PConc       Gd       TA           Mn          GLQ         486   \n",
       "3     BrkTil       TA       Gd           No          ALQ         216   \n",
       "4      PConc       Gd       TA           Av          GLQ         655   \n",
       "\n",
       "  BsmtFinType2  BsmtFinSF2  BsmtUnfSF  TotalBsmtSF  \n",
       "0          Unf           0        150          856  \n",
       "1          Unf           0        284         1262  \n",
       "2          Unf           0        434          920  \n",
       "3          Unf           0        540          756  \n",
       "4          Unf           0        490         1145  "
      ]
     },
     "execution_count": 37,
     "metadata": {},
     "output_type": "execute_result"
    }
   ],
   "source": [
    "train.iloc[:, 29:39].head()"
   ]
  },
  {
   "cell_type": "code",
   "execution_count": 38,
   "metadata": {
    "collapsed": true
   },
   "outputs": [],
   "source": [
    "# Foundation\n",
    "cols.append(pd.get_dummies(train.Foundation).as_matrix())"
   ]
  },
  {
   "cell_type": "code",
   "execution_count": 39,
   "metadata": {
    "collapsed": true
   },
   "outputs": [],
   "source": [
    "# BsmtQual\n",
    "train.BsmtQual.fillna(\"Unknown\", inplace=True)\n",
    "cols.append(pd.get_dummies(train.BsmtQual).as_matrix())"
   ]
  },
  {
   "cell_type": "code",
   "execution_count": 40,
   "metadata": {
    "collapsed": true
   },
   "outputs": [],
   "source": [
    "# BsmtCond\n",
    "train.BsmtCond.fillna(\"Unknown\", inplace=True)\n",
    "cols.append(pd.get_dummies(train.BsmtCond).as_matrix())"
   ]
  },
  {
   "cell_type": "code",
   "execution_count": 41,
   "metadata": {
    "collapsed": true
   },
   "outputs": [],
   "source": [
    "# BsmtExposure\n",
    "train.BsmtExposure.fillna(\"Unknown\", inplace=True)\n",
    "cols.append(pd.get_dummies(train.BsmtExposure).as_matrix())"
   ]
  },
  {
   "cell_type": "code",
   "execution_count": 42,
   "metadata": {
    "collapsed": false
   },
   "outputs": [],
   "source": [
    "# BsmtFinType1\n",
    "train.BsmtFinType1.fillna(\"Unknown\", inplace=True)\n",
    "cols.append(pd.get_dummies(train.BsmtFinType1).as_matrix())"
   ]
  },
  {
   "cell_type": "code",
   "execution_count": 43,
   "metadata": {
    "collapsed": true
   },
   "outputs": [],
   "source": [
    "# BsmtFinSF1\n",
    "# Keep it continuous for the first round\n",
    "cols.append(train.BsmtFinSF1.as_matrix().reshape(-1, 1))"
   ]
  },
  {
   "cell_type": "code",
   "execution_count": 44,
   "metadata": {
    "collapsed": false
   },
   "outputs": [],
   "source": [
    "# BsmtFinType2\n",
    "train.BsmtFinType2.fillna(\"Unknown\", inplace=True)\n",
    "cols.append(pd.get_dummies(train.BsmtFinType2).as_matrix())"
   ]
  },
  {
   "cell_type": "code",
   "execution_count": 45,
   "metadata": {
    "collapsed": true
   },
   "outputs": [],
   "source": [
    "# BsmtFinSF2\n",
    "# Keep it continuous for the first round\n",
    "cols.append(train.BsmtFinSF2.as_matrix().reshape(-1, 1))"
   ]
  },
  {
   "cell_type": "code",
   "execution_count": 46,
   "metadata": {
    "collapsed": true
   },
   "outputs": [],
   "source": [
    "# BsmtUnfSF\n",
    "# Keep it continuous for the first round\n",
    "cols.append(train.BsmtUnfSF.as_matrix().reshape(-1, 1))"
   ]
  },
  {
   "cell_type": "code",
   "execution_count": 47,
   "metadata": {
    "collapsed": true
   },
   "outputs": [],
   "source": [
    "# TotalBsmtSF\n",
    "# Keep it continuous for the first round\n",
    "cols.append(train.TotalBsmtSF.as_matrix().reshape(-1, 1))"
   ]
  },
  {
   "cell_type": "code",
   "execution_count": 48,
   "metadata": {
    "collapsed": false,
    "scrolled": false
   },
   "outputs": [
    {
     "data": {
      "text/html": [
       "<div>\n",
       "<table border=\"1\" class=\"dataframe\">\n",
       "  <thead>\n",
       "    <tr style=\"text-align: right;\">\n",
       "      <th></th>\n",
       "      <th>Heating</th>\n",
       "      <th>HeatingQC</th>\n",
       "      <th>CentralAir</th>\n",
       "      <th>Electrical</th>\n",
       "      <th>1stFlrSF</th>\n",
       "      <th>2ndFlrSF</th>\n",
       "      <th>LowQualFinSF</th>\n",
       "      <th>GrLivArea</th>\n",
       "      <th>BsmtFullBath</th>\n",
       "      <th>BsmtHalfBath</th>\n",
       "    </tr>\n",
       "  </thead>\n",
       "  <tbody>\n",
       "    <tr>\n",
       "      <th>0</th>\n",
       "      <td>GasA</td>\n",
       "      <td>Ex</td>\n",
       "      <td>Y</td>\n",
       "      <td>SBrkr</td>\n",
       "      <td>856</td>\n",
       "      <td>854</td>\n",
       "      <td>0</td>\n",
       "      <td>1710</td>\n",
       "      <td>1</td>\n",
       "      <td>0</td>\n",
       "    </tr>\n",
       "    <tr>\n",
       "      <th>1</th>\n",
       "      <td>GasA</td>\n",
       "      <td>Ex</td>\n",
       "      <td>Y</td>\n",
       "      <td>SBrkr</td>\n",
       "      <td>1262</td>\n",
       "      <td>0</td>\n",
       "      <td>0</td>\n",
       "      <td>1262</td>\n",
       "      <td>0</td>\n",
       "      <td>1</td>\n",
       "    </tr>\n",
       "    <tr>\n",
       "      <th>2</th>\n",
       "      <td>GasA</td>\n",
       "      <td>Ex</td>\n",
       "      <td>Y</td>\n",
       "      <td>SBrkr</td>\n",
       "      <td>920</td>\n",
       "      <td>866</td>\n",
       "      <td>0</td>\n",
       "      <td>1786</td>\n",
       "      <td>1</td>\n",
       "      <td>0</td>\n",
       "    </tr>\n",
       "    <tr>\n",
       "      <th>3</th>\n",
       "      <td>GasA</td>\n",
       "      <td>Gd</td>\n",
       "      <td>Y</td>\n",
       "      <td>SBrkr</td>\n",
       "      <td>961</td>\n",
       "      <td>756</td>\n",
       "      <td>0</td>\n",
       "      <td>1717</td>\n",
       "      <td>1</td>\n",
       "      <td>0</td>\n",
       "    </tr>\n",
       "    <tr>\n",
       "      <th>4</th>\n",
       "      <td>GasA</td>\n",
       "      <td>Ex</td>\n",
       "      <td>Y</td>\n",
       "      <td>SBrkr</td>\n",
       "      <td>1145</td>\n",
       "      <td>1053</td>\n",
       "      <td>0</td>\n",
       "      <td>2198</td>\n",
       "      <td>1</td>\n",
       "      <td>0</td>\n",
       "    </tr>\n",
       "  </tbody>\n",
       "</table>\n",
       "</div>"
      ],
      "text/plain": [
       "  Heating HeatingQC CentralAir Electrical  1stFlrSF  2ndFlrSF  LowQualFinSF  \\\n",
       "0    GasA        Ex          Y      SBrkr       856       854             0   \n",
       "1    GasA        Ex          Y      SBrkr      1262         0             0   \n",
       "2    GasA        Ex          Y      SBrkr       920       866             0   \n",
       "3    GasA        Gd          Y      SBrkr       961       756             0   \n",
       "4    GasA        Ex          Y      SBrkr      1145      1053             0   \n",
       "\n",
       "   GrLivArea  BsmtFullBath  BsmtHalfBath  \n",
       "0       1710             1             0  \n",
       "1       1262             0             1  \n",
       "2       1786             1             0  \n",
       "3       1717             1             0  \n",
       "4       2198             1             0  "
      ]
     },
     "execution_count": 48,
     "metadata": {},
     "output_type": "execute_result"
    }
   ],
   "source": [
    "train.iloc[:, 39:49].head()"
   ]
  },
  {
   "cell_type": "code",
   "execution_count": 49,
   "metadata": {
    "collapsed": true
   },
   "outputs": [],
   "source": [
    "# Heating\n",
    "cols.append(pd.get_dummies(train.Heating).as_matrix())"
   ]
  },
  {
   "cell_type": "code",
   "execution_count": 50,
   "metadata": {
    "collapsed": true
   },
   "outputs": [],
   "source": [
    "# HeatingQC\n",
    "cols.append(pd.get_dummies(train.HeatingQC).as_matrix())"
   ]
  },
  {
   "cell_type": "code",
   "execution_count": 51,
   "metadata": {
    "collapsed": true
   },
   "outputs": [],
   "source": [
    "# CentralAir\n",
    "cols.append(pd.get_dummies(train.CentralAir).as_matrix())"
   ]
  },
  {
   "cell_type": "code",
   "execution_count": 52,
   "metadata": {
    "collapsed": false
   },
   "outputs": [],
   "source": [
    "# Electrical\n",
    "train.Electrical.fillna(\"Unknown\", inplace=True)\n",
    "cols.append(pd.get_dummies(train.Electrical).as_matrix())"
   ]
  },
  {
   "cell_type": "code",
   "execution_count": 53,
   "metadata": {
    "collapsed": false
   },
   "outputs": [],
   "source": [
    "# 1stFlrSF\n",
    "cols.append(train['1stFlrSF'].as_matrix().reshape(-1, 1))"
   ]
  },
  {
   "cell_type": "code",
   "execution_count": 54,
   "metadata": {
    "collapsed": false
   },
   "outputs": [],
   "source": [
    "# 2ndFlrSF\n",
    "cols.append(train['2ndFlrSF'].as_matrix().reshape(-1, 1))"
   ]
  },
  {
   "cell_type": "code",
   "execution_count": 55,
   "metadata": {
    "collapsed": true
   },
   "outputs": [],
   "source": [
    "# LowQualFinSF\n",
    "cols.append(train.LowQualFinSF.as_matrix().reshape(-1, 1))"
   ]
  },
  {
   "cell_type": "code",
   "execution_count": 56,
   "metadata": {
    "collapsed": true
   },
   "outputs": [],
   "source": [
    "# GrLivArea\n",
    "cols.append(train.GrLivArea.as_matrix().reshape(-1, 1))"
   ]
  },
  {
   "cell_type": "code",
   "execution_count": 57,
   "metadata": {
    "collapsed": true
   },
   "outputs": [],
   "source": [
    "# BsmtFullBath\n",
    "cols.append(train.BsmtFullBath.as_matrix().reshape(-1, 1))"
   ]
  },
  {
   "cell_type": "code",
   "execution_count": 58,
   "metadata": {
    "collapsed": true
   },
   "outputs": [],
   "source": [
    "# BsmtHalfBath\n",
    "cols.append(train.BsmtHalfBath.as_matrix().reshape(-1, 1))"
   ]
  },
  {
   "cell_type": "code",
   "execution_count": 59,
   "metadata": {
    "collapsed": false,
    "scrolled": true
   },
   "outputs": [
    {
     "data": {
      "text/html": [
       "<div>\n",
       "<table border=\"1\" class=\"dataframe\">\n",
       "  <thead>\n",
       "    <tr style=\"text-align: right;\">\n",
       "      <th></th>\n",
       "      <th>FullBath</th>\n",
       "      <th>HalfBath</th>\n",
       "      <th>BedroomAbvGr</th>\n",
       "      <th>KitchenAbvGr</th>\n",
       "      <th>KitchenQual</th>\n",
       "      <th>TotRmsAbvGrd</th>\n",
       "      <th>Functional</th>\n",
       "      <th>Fireplaces</th>\n",
       "      <th>FireplaceQu</th>\n",
       "      <th>GarageType</th>\n",
       "    </tr>\n",
       "  </thead>\n",
       "  <tbody>\n",
       "    <tr>\n",
       "      <th>0</th>\n",
       "      <td>2</td>\n",
       "      <td>1</td>\n",
       "      <td>3</td>\n",
       "      <td>1</td>\n",
       "      <td>Gd</td>\n",
       "      <td>8</td>\n",
       "      <td>Typ</td>\n",
       "      <td>0</td>\n",
       "      <td>NaN</td>\n",
       "      <td>Attchd</td>\n",
       "    </tr>\n",
       "    <tr>\n",
       "      <th>1</th>\n",
       "      <td>2</td>\n",
       "      <td>0</td>\n",
       "      <td>3</td>\n",
       "      <td>1</td>\n",
       "      <td>TA</td>\n",
       "      <td>6</td>\n",
       "      <td>Typ</td>\n",
       "      <td>1</td>\n",
       "      <td>TA</td>\n",
       "      <td>Attchd</td>\n",
       "    </tr>\n",
       "    <tr>\n",
       "      <th>2</th>\n",
       "      <td>2</td>\n",
       "      <td>1</td>\n",
       "      <td>3</td>\n",
       "      <td>1</td>\n",
       "      <td>Gd</td>\n",
       "      <td>6</td>\n",
       "      <td>Typ</td>\n",
       "      <td>1</td>\n",
       "      <td>TA</td>\n",
       "      <td>Attchd</td>\n",
       "    </tr>\n",
       "    <tr>\n",
       "      <th>3</th>\n",
       "      <td>1</td>\n",
       "      <td>0</td>\n",
       "      <td>3</td>\n",
       "      <td>1</td>\n",
       "      <td>Gd</td>\n",
       "      <td>7</td>\n",
       "      <td>Typ</td>\n",
       "      <td>1</td>\n",
       "      <td>Gd</td>\n",
       "      <td>Detchd</td>\n",
       "    </tr>\n",
       "    <tr>\n",
       "      <th>4</th>\n",
       "      <td>2</td>\n",
       "      <td>1</td>\n",
       "      <td>4</td>\n",
       "      <td>1</td>\n",
       "      <td>Gd</td>\n",
       "      <td>9</td>\n",
       "      <td>Typ</td>\n",
       "      <td>1</td>\n",
       "      <td>TA</td>\n",
       "      <td>Attchd</td>\n",
       "    </tr>\n",
       "  </tbody>\n",
       "</table>\n",
       "</div>"
      ],
      "text/plain": [
       "   FullBath  HalfBath  BedroomAbvGr  KitchenAbvGr KitchenQual  TotRmsAbvGrd  \\\n",
       "0         2         1             3             1          Gd             8   \n",
       "1         2         0             3             1          TA             6   \n",
       "2         2         1             3             1          Gd             6   \n",
       "3         1         0             3             1          Gd             7   \n",
       "4         2         1             4             1          Gd             9   \n",
       "\n",
       "  Functional  Fireplaces FireplaceQu GarageType  \n",
       "0        Typ           0         NaN     Attchd  \n",
       "1        Typ           1          TA     Attchd  \n",
       "2        Typ           1          TA     Attchd  \n",
       "3        Typ           1          Gd     Detchd  \n",
       "4        Typ           1          TA     Attchd  "
      ]
     },
     "execution_count": 59,
     "metadata": {},
     "output_type": "execute_result"
    }
   ],
   "source": [
    "train.iloc[:, 49:59].head()"
   ]
  },
  {
   "cell_type": "code",
   "execution_count": 60,
   "metadata": {
    "collapsed": true
   },
   "outputs": [],
   "source": [
    "# FullBath\n",
    "cols.append(train.FullBath.as_matrix().reshape(-1, 1))"
   ]
  },
  {
   "cell_type": "code",
   "execution_count": 61,
   "metadata": {
    "collapsed": true
   },
   "outputs": [],
   "source": [
    "# HalfBath\n",
    "cols.append(train.HalfBath.as_matrix().reshape(-1, 1))"
   ]
  },
  {
   "cell_type": "code",
   "execution_count": 62,
   "metadata": {
    "collapsed": true
   },
   "outputs": [],
   "source": [
    "# BedroomAbvGr\n",
    "cols.append(train.BedroomAbvGr.as_matrix().reshape(-1, 1))"
   ]
  },
  {
   "cell_type": "code",
   "execution_count": 63,
   "metadata": {
    "collapsed": true
   },
   "outputs": [],
   "source": [
    "# KitchenAbvGr\n",
    "cols.append(train.KitchenAbvGr.as_matrix().reshape(-1, 1))"
   ]
  },
  {
   "cell_type": "code",
   "execution_count": 64,
   "metadata": {
    "collapsed": true
   },
   "outputs": [],
   "source": [
    "# KitchenQual\n",
    "cols.append(pd.get_dummies(train.KitchenQual).as_matrix())"
   ]
  },
  {
   "cell_type": "code",
   "execution_count": 65,
   "metadata": {
    "collapsed": true
   },
   "outputs": [],
   "source": [
    "# TotRmsAbvGrd\n",
    "cols.append(train.TotRmsAbvGrd.as_matrix().reshape(-1, 1))"
   ]
  },
  {
   "cell_type": "code",
   "execution_count": 66,
   "metadata": {
    "collapsed": true
   },
   "outputs": [],
   "source": [
    "# Functional\n",
    "cols.append(pd.get_dummies(train.Functional).as_matrix())"
   ]
  },
  {
   "cell_type": "code",
   "execution_count": 67,
   "metadata": {
    "collapsed": true
   },
   "outputs": [],
   "source": [
    "# Fireplaces\n",
    "cols.append(train.Fireplaces.as_matrix().reshape(-1, 1))"
   ]
  },
  {
   "cell_type": "code",
   "execution_count": 68,
   "metadata": {
    "collapsed": true
   },
   "outputs": [],
   "source": [
    "# FireplaceQu\n",
    "train.FireplaceQu.fillna(\"Unknown\", inplace=True)\n",
    "cols.append(pd.get_dummies(train.FireplaceQu).as_matrix())"
   ]
  },
  {
   "cell_type": "code",
   "execution_count": 69,
   "metadata": {
    "collapsed": true
   },
   "outputs": [],
   "source": [
    "# GarageType\n",
    "train.GarageType.fillna(\"Unknown\", inplace=True)\n",
    "cols.append(pd.get_dummies(train.GarageType).as_matrix())"
   ]
  },
  {
   "cell_type": "code",
   "execution_count": 70,
   "metadata": {
    "collapsed": false
   },
   "outputs": [
    {
     "data": {
      "text/html": [
       "<div>\n",
       "<table border=\"1\" class=\"dataframe\">\n",
       "  <thead>\n",
       "    <tr style=\"text-align: right;\">\n",
       "      <th></th>\n",
       "      <th>GarageYrBlt</th>\n",
       "      <th>GarageFinish</th>\n",
       "      <th>GarageCars</th>\n",
       "      <th>GarageArea</th>\n",
       "      <th>GarageQual</th>\n",
       "      <th>GarageCond</th>\n",
       "      <th>PavedDrive</th>\n",
       "      <th>WoodDeckSF</th>\n",
       "      <th>OpenPorchSF</th>\n",
       "      <th>EnclosedPorch</th>\n",
       "    </tr>\n",
       "  </thead>\n",
       "  <tbody>\n",
       "    <tr>\n",
       "      <th>0</th>\n",
       "      <td>2003.0</td>\n",
       "      <td>RFn</td>\n",
       "      <td>2</td>\n",
       "      <td>548</td>\n",
       "      <td>TA</td>\n",
       "      <td>TA</td>\n",
       "      <td>Y</td>\n",
       "      <td>0</td>\n",
       "      <td>61</td>\n",
       "      <td>0</td>\n",
       "    </tr>\n",
       "    <tr>\n",
       "      <th>1</th>\n",
       "      <td>1976.0</td>\n",
       "      <td>RFn</td>\n",
       "      <td>2</td>\n",
       "      <td>460</td>\n",
       "      <td>TA</td>\n",
       "      <td>TA</td>\n",
       "      <td>Y</td>\n",
       "      <td>298</td>\n",
       "      <td>0</td>\n",
       "      <td>0</td>\n",
       "    </tr>\n",
       "    <tr>\n",
       "      <th>2</th>\n",
       "      <td>2001.0</td>\n",
       "      <td>RFn</td>\n",
       "      <td>2</td>\n",
       "      <td>608</td>\n",
       "      <td>TA</td>\n",
       "      <td>TA</td>\n",
       "      <td>Y</td>\n",
       "      <td>0</td>\n",
       "      <td>42</td>\n",
       "      <td>0</td>\n",
       "    </tr>\n",
       "    <tr>\n",
       "      <th>3</th>\n",
       "      <td>1998.0</td>\n",
       "      <td>Unf</td>\n",
       "      <td>3</td>\n",
       "      <td>642</td>\n",
       "      <td>TA</td>\n",
       "      <td>TA</td>\n",
       "      <td>Y</td>\n",
       "      <td>0</td>\n",
       "      <td>35</td>\n",
       "      <td>272</td>\n",
       "    </tr>\n",
       "    <tr>\n",
       "      <th>4</th>\n",
       "      <td>2000.0</td>\n",
       "      <td>RFn</td>\n",
       "      <td>3</td>\n",
       "      <td>836</td>\n",
       "      <td>TA</td>\n",
       "      <td>TA</td>\n",
       "      <td>Y</td>\n",
       "      <td>192</td>\n",
       "      <td>84</td>\n",
       "      <td>0</td>\n",
       "    </tr>\n",
       "  </tbody>\n",
       "</table>\n",
       "</div>"
      ],
      "text/plain": [
       "   GarageYrBlt GarageFinish  GarageCars  GarageArea GarageQual GarageCond  \\\n",
       "0       2003.0          RFn           2         548         TA         TA   \n",
       "1       1976.0          RFn           2         460         TA         TA   \n",
       "2       2001.0          RFn           2         608         TA         TA   \n",
       "3       1998.0          Unf           3         642         TA         TA   \n",
       "4       2000.0          RFn           3         836         TA         TA   \n",
       "\n",
       "  PavedDrive  WoodDeckSF  OpenPorchSF  EnclosedPorch  \n",
       "0          Y           0           61              0  \n",
       "1          Y         298            0              0  \n",
       "2          Y           0           42              0  \n",
       "3          Y           0           35            272  \n",
       "4          Y         192           84              0  "
      ]
     },
     "execution_count": 70,
     "metadata": {},
     "output_type": "execute_result"
    }
   ],
   "source": [
    "train.iloc[:, 59:69].head()"
   ]
  },
  {
   "cell_type": "code",
   "execution_count": 71,
   "metadata": {
    "collapsed": true
   },
   "outputs": [],
   "source": [
    "# GarageYrBlt\n",
    "train.GarageYrBlt.fillna(0.0, inplace=True)\n",
    "cols.append(train.GarageYrBlt.as_matrix().reshape(-1, 1))"
   ]
  },
  {
   "cell_type": "code",
   "execution_count": 72,
   "metadata": {
    "collapsed": true
   },
   "outputs": [],
   "source": [
    "# GarageFinish\n",
    "train.GarageFinish.fillna(\"Unknown\", inplace=True)\n",
    "cols.append(pd.get_dummies(train.GarageFinish).as_matrix())"
   ]
  },
  {
   "cell_type": "code",
   "execution_count": 73,
   "metadata": {
    "collapsed": true
   },
   "outputs": [],
   "source": [
    "# GarageCars\n",
    "cols.append(train.GarageCars.as_matrix().reshape(-1, 1))"
   ]
  },
  {
   "cell_type": "code",
   "execution_count": 74,
   "metadata": {
    "collapsed": true
   },
   "outputs": [],
   "source": [
    "# GarageArea\n",
    "cols.append(train.GarageArea.as_matrix().reshape(-1, 1))"
   ]
  },
  {
   "cell_type": "code",
   "execution_count": 75,
   "metadata": {
    "collapsed": true
   },
   "outputs": [],
   "source": [
    "# GarageQual\n",
    "train.GarageQual.fillna(\"Unknown\", inplace=True)\n",
    "cols.append(pd.get_dummies(train.GarageQual).as_matrix())"
   ]
  },
  {
   "cell_type": "code",
   "execution_count": 76,
   "metadata": {
    "collapsed": true
   },
   "outputs": [],
   "source": [
    "# GarageCond\n",
    "train.GarageCond.fillna(\"Unknown\", inplace=True)\n",
    "cols.append(pd.get_dummies(train.GarageCond).as_matrix())"
   ]
  },
  {
   "cell_type": "code",
   "execution_count": 77,
   "metadata": {
    "collapsed": true
   },
   "outputs": [],
   "source": [
    "# PavedDrive\n",
    "cols.append(pd.get_dummies(train.PavedDrive).as_matrix())"
   ]
  },
  {
   "cell_type": "code",
   "execution_count": 78,
   "metadata": {
    "collapsed": true
   },
   "outputs": [],
   "source": [
    "# WoodDeckSF\n",
    "cols.append(train.WoodDeckSF.as_matrix().reshape(-1, 1))"
   ]
  },
  {
   "cell_type": "code",
   "execution_count": 79,
   "metadata": {
    "collapsed": true
   },
   "outputs": [],
   "source": [
    "# OpenPorchSF\n",
    "cols.append(train.OpenPorchSF.as_matrix().reshape(-1, 1))"
   ]
  },
  {
   "cell_type": "code",
   "execution_count": 80,
   "metadata": {
    "collapsed": true
   },
   "outputs": [],
   "source": [
    "# EnclosedPorch\n",
    "cols.append(train.EnclosedPorch.as_matrix().reshape(-1, 1))"
   ]
  },
  {
   "cell_type": "code",
   "execution_count": 81,
   "metadata": {
    "collapsed": false,
    "scrolled": true
   },
   "outputs": [
    {
     "data": {
      "text/html": [
       "<div>\n",
       "<table border=\"1\" class=\"dataframe\">\n",
       "  <thead>\n",
       "    <tr style=\"text-align: right;\">\n",
       "      <th></th>\n",
       "      <th>3SsnPorch</th>\n",
       "      <th>ScreenPorch</th>\n",
       "      <th>PoolArea</th>\n",
       "      <th>PoolQC</th>\n",
       "      <th>Fence</th>\n",
       "      <th>MiscFeature</th>\n",
       "      <th>MiscVal</th>\n",
       "      <th>MoSold</th>\n",
       "      <th>YrSold</th>\n",
       "      <th>SaleType</th>\n",
       "      <th>SaleCondition</th>\n",
       "      <th>SalePrice</th>\n",
       "    </tr>\n",
       "  </thead>\n",
       "  <tbody>\n",
       "    <tr>\n",
       "      <th>0</th>\n",
       "      <td>0</td>\n",
       "      <td>0</td>\n",
       "      <td>0</td>\n",
       "      <td>NaN</td>\n",
       "      <td>NaN</td>\n",
       "      <td>NaN</td>\n",
       "      <td>0</td>\n",
       "      <td>2</td>\n",
       "      <td>2008</td>\n",
       "      <td>WD</td>\n",
       "      <td>Normal</td>\n",
       "      <td>208500</td>\n",
       "    </tr>\n",
       "    <tr>\n",
       "      <th>1</th>\n",
       "      <td>0</td>\n",
       "      <td>0</td>\n",
       "      <td>0</td>\n",
       "      <td>NaN</td>\n",
       "      <td>NaN</td>\n",
       "      <td>NaN</td>\n",
       "      <td>0</td>\n",
       "      <td>5</td>\n",
       "      <td>2007</td>\n",
       "      <td>WD</td>\n",
       "      <td>Normal</td>\n",
       "      <td>181500</td>\n",
       "    </tr>\n",
       "    <tr>\n",
       "      <th>2</th>\n",
       "      <td>0</td>\n",
       "      <td>0</td>\n",
       "      <td>0</td>\n",
       "      <td>NaN</td>\n",
       "      <td>NaN</td>\n",
       "      <td>NaN</td>\n",
       "      <td>0</td>\n",
       "      <td>9</td>\n",
       "      <td>2008</td>\n",
       "      <td>WD</td>\n",
       "      <td>Normal</td>\n",
       "      <td>223500</td>\n",
       "    </tr>\n",
       "    <tr>\n",
       "      <th>3</th>\n",
       "      <td>0</td>\n",
       "      <td>0</td>\n",
       "      <td>0</td>\n",
       "      <td>NaN</td>\n",
       "      <td>NaN</td>\n",
       "      <td>NaN</td>\n",
       "      <td>0</td>\n",
       "      <td>2</td>\n",
       "      <td>2006</td>\n",
       "      <td>WD</td>\n",
       "      <td>Abnorml</td>\n",
       "      <td>140000</td>\n",
       "    </tr>\n",
       "    <tr>\n",
       "      <th>4</th>\n",
       "      <td>0</td>\n",
       "      <td>0</td>\n",
       "      <td>0</td>\n",
       "      <td>NaN</td>\n",
       "      <td>NaN</td>\n",
       "      <td>NaN</td>\n",
       "      <td>0</td>\n",
       "      <td>12</td>\n",
       "      <td>2008</td>\n",
       "      <td>WD</td>\n",
       "      <td>Normal</td>\n",
       "      <td>250000</td>\n",
       "    </tr>\n",
       "  </tbody>\n",
       "</table>\n",
       "</div>"
      ],
      "text/plain": [
       "   3SsnPorch  ScreenPorch  PoolArea PoolQC Fence MiscFeature  MiscVal  MoSold  \\\n",
       "0          0            0         0    NaN   NaN         NaN        0       2   \n",
       "1          0            0         0    NaN   NaN         NaN        0       5   \n",
       "2          0            0         0    NaN   NaN         NaN        0       9   \n",
       "3          0            0         0    NaN   NaN         NaN        0       2   \n",
       "4          0            0         0    NaN   NaN         NaN        0      12   \n",
       "\n",
       "   YrSold SaleType SaleCondition  SalePrice  \n",
       "0    2008       WD        Normal     208500  \n",
       "1    2007       WD        Normal     181500  \n",
       "2    2008       WD        Normal     223500  \n",
       "3    2006       WD       Abnorml     140000  \n",
       "4    2008       WD        Normal     250000  "
      ]
     },
     "execution_count": 81,
     "metadata": {},
     "output_type": "execute_result"
    }
   ],
   "source": [
    "train.iloc[:, 69:].head()"
   ]
  },
  {
   "cell_type": "code",
   "execution_count": 82,
   "metadata": {
    "collapsed": false
   },
   "outputs": [],
   "source": [
    "# 3SsnPorch\n",
    "cols.append(train['3SsnPorch'].as_matrix().reshape(-1, 1))"
   ]
  },
  {
   "cell_type": "code",
   "execution_count": 83,
   "metadata": {
    "collapsed": true
   },
   "outputs": [],
   "source": [
    "# ScreenPorch\n",
    "cols.append(train.ScreenPorch.as_matrix().reshape(-1, 1))"
   ]
  },
  {
   "cell_type": "code",
   "execution_count": 84,
   "metadata": {
    "collapsed": true
   },
   "outputs": [],
   "source": [
    "# PoolArea\n",
    "cols.append(train.PoolArea.as_matrix().reshape(-1, 1))"
   ]
  },
  {
   "cell_type": "code",
   "execution_count": 85,
   "metadata": {
    "collapsed": true
   },
   "outputs": [],
   "source": [
    "# PoolQC\n",
    "train.PoolQC.fillna(\"Unknown\", inplace=True)\n",
    "cols.append(pd.get_dummies(train.PoolQC).as_matrix())"
   ]
  },
  {
   "cell_type": "code",
   "execution_count": 86,
   "metadata": {
    "collapsed": true
   },
   "outputs": [],
   "source": [
    "# Fence\n",
    "train.Fence.fillna(\"Unknown\", inplace=True)\n",
    "cols.append(pd.get_dummies(train.Fence).as_matrix())"
   ]
  },
  {
   "cell_type": "code",
   "execution_count": 87,
   "metadata": {
    "collapsed": true
   },
   "outputs": [],
   "source": [
    "# MiscFeature\n",
    "train.MiscFeature.fillna(\"Unknown\", inplace=True)\n",
    "cols.append(pd.get_dummies(train.MiscFeature).as_matrix())"
   ]
  },
  {
   "cell_type": "code",
   "execution_count": 88,
   "metadata": {
    "collapsed": true
   },
   "outputs": [],
   "source": [
    "# MiscVal\n",
    "cols.append(train.MiscVal.as_matrix().reshape(-1, 1))"
   ]
  },
  {
   "cell_type": "code",
   "execution_count": 89,
   "metadata": {
    "collapsed": true
   },
   "outputs": [],
   "source": [
    "# MoSold\n",
    "cols.append(pd.get_dummies(train.MoSold).as_matrix())"
   ]
  },
  {
   "cell_type": "code",
   "execution_count": 90,
   "metadata": {
    "collapsed": true
   },
   "outputs": [],
   "source": [
    "# YrSold\n",
    "cols.append(pd.get_dummies(train.YrSold).as_matrix())"
   ]
  },
  {
   "cell_type": "code",
   "execution_count": 91,
   "metadata": {
    "collapsed": true
   },
   "outputs": [],
   "source": [
    "# SaleType\n",
    "cols.append(pd.get_dummies(train.SaleType).as_matrix())"
   ]
  },
  {
   "cell_type": "code",
   "execution_count": 92,
   "metadata": {
    "collapsed": true
   },
   "outputs": [],
   "source": [
    "# SaleCondition\n",
    "cols.append(pd.get_dummies(train.SaleCondition).as_matrix())"
   ]
  },
  {
   "cell_type": "code",
   "execution_count": null,
   "metadata": {
    "collapsed": false
   },
   "outputs": [],
   "source": []
  },
  {
   "cell_type": "code",
   "execution_count": 93,
   "metadata": {
    "collapsed": false
   },
   "outputs": [],
   "source": [
    "# Combine all columns-matrices together\n",
    "features = numpy.concatenate(cols, axis=1)\n",
    "labels = train.SalePrice.values.reshape(-1, 1)"
   ]
  },
  {
   "cell_type": "code",
   "execution_count": 94,
   "metadata": {
    "collapsed": false,
    "scrolled": true
   },
   "outputs": [
    {
     "name": "stdout",
     "output_type": "stream",
     "text": [
      "Total 21 features scaled\n"
     ]
    }
   ],
   "source": [
    "#\n",
    "# Scaling\n",
    "#\n",
    "# First scale labels\n",
    "labels = labels.astype(float)\n",
    "labels_max = labels.max()\n",
    "\n",
    "labels = labels / labels_max\n",
    "\n",
    "# Now scale features\n",
    "#for ii in range(features.shape[0]):\n",
    "#    if((features[ii, :] > 25.).sum() > 0):\n",
    "#        mx = float(features[ii, :].max())\n",
    "\n",
    "#        features[ii, :] = features[ii, :] / mx\n",
    "     \n",
    "count = 0\n",
    "    \n",
    "for jj in range(features.shape[1]):\n",
    "    if((features[:, jj] > 25.).sum() > 0):\n",
    "        mx = float(features[:, jj].max())\n",
    "\n",
    "        features[:, jj] = features[:, jj] / mx\n",
    "        count = count + 1\n",
    "        \n",
    "print(\"Total\", count, \"features scaled\")"
   ]
  },
  {
   "cell_type": "code",
   "execution_count": 95,
   "metadata": {
    "collapsed": false
   },
   "outputs": [],
   "source": [
    "# Split for train and test sets\n",
    "features_train, features_test, labels_train, labels_test = train_test_split(features, labels, test_size=0.3, random_state=23)"
   ]
  },
  {
   "cell_type": "code",
   "execution_count": 96,
   "metadata": {
    "collapsed": false
   },
   "outputs": [
    {
     "name": "stdout",
     "output_type": "stream",
     "text": [
      "(1022, 676)\n",
      "(1022, 1)\n"
     ]
    }
   ],
   "source": [
    "print(features_train.shape)\n",
    "print(labels_train.shape)"
   ]
  },
  {
   "cell_type": "markdown",
   "metadata": {},
   "source": [
    "### Baseline\n",
    "\n",
    "C \"неправильным scaling по строкам перебор параметров закончился так:  \n",
    "-0.027645944962  \n",
    "{'min_samples_split': 6, 'n_estimators': 250, 'min_samples_leaf': 2}  \n",
    "\n",
    "А с маштабированием по столбцам, что вроде более правильно, получается так:  \n",
    "-0.0233410060557  \n",
    "{'min_samples_leaf': 2, 'min_samples_split': 5, 'n_estimators': 300}  \n",
    "\n",
    "Итоговое значение baseline:  \n",
    "#### 0.0210354478273"
   ]
  },
  {
   "cell_type": "markdown",
   "metadata": {},
   "source": [
    "### Gradient Boosting"
   ]
  },
  {
   "cell_type": "code",
   "execution_count": 98,
   "metadata": {
    "collapsed": false
   },
   "outputs": [
    {
     "name": "stdout",
     "output_type": "stream",
     "text": [
      "-0.0233410060557\n",
      "{'min_samples_leaf': 2, 'min_samples_split': 5, 'n_estimators': 300}\n",
      "Wall time: 8min 2s\n"
     ]
    }
   ],
   "source": [
    "%%time\n",
    "GBR = GradientBoostingRegressor(random_state=23)\n",
    "\n",
    "parameters_grid = {\n",
    "    \"n_estimators\": [100, 150, 200, 250, 300],\n",
    "    #\"learning_rate \": [0.1, 0.05, 0.01, 0.005, 0.001],\n",
    "    \"min_samples_split\": [2, 3, 4, 5, 6],\n",
    "    \"min_samples_leaf\": [1, 2, 3, 4]\n",
    "}\n",
    "\n",
    "gcv = GridSearchCV(GBR, parameters_grid, scoring='neg_mean_absolute_error')\n",
    "\n",
    "gcv.fit(features_train, labels_train.reshape(-1))\n",
    "\n",
    "print(gcv.best_score_)\n",
    "print(gcv.best_params_)"
   ]
  },
  {
   "cell_type": "code",
   "execution_count": 255,
   "metadata": {
    "collapsed": false
   },
   "outputs": [
    {
     "name": "stdout",
     "output_type": "stream",
     "text": [
      "0.0210354478273\n"
     ]
    }
   ],
   "source": [
    "GBR = GradientBoostingRegressor(n_estimators=300, min_samples_split=5, min_samples_leaf=2, random_state=23)\n",
    "GBR.fit(features_train, labels_train.reshape(-1))\n",
    "\n",
    "GBR_prediction = GBR.predict(features_test)\n",
    "\n",
    "print(mean_absolute_error(labels_test, GBR_prediction))"
   ]
  },
  {
   "cell_type": "markdown",
   "metadata": {},
   "source": [
    "### Random Forest"
   ]
  },
  {
   "cell_type": "code",
   "execution_count": 243,
   "metadata": {
    "collapsed": false
   },
   "outputs": [
    {
     "name": "stdout",
     "output_type": "stream",
     "text": [
      "-0.0248013287264\n",
      "{'min_samples_leaf': 1, 'min_samples_split': 2, 'n_estimators': 300}\n",
      "Wall time: 8min 43s\n"
     ]
    }
   ],
   "source": [
    "%%time\n",
    "RFR = RandomForestRegressor(n_jobs=-1, random_state=23)\n",
    "\n",
    "parameters_grid = {\n",
    "    \"n_estimators\": [50, 100, 150, 200, 250, 300],\n",
    "    \"min_samples_split\": [2, 3, 4, 5, 6],\n",
    "    \"min_samples_leaf\": [1, 2, 3, 4]\n",
    "}\n",
    "\n",
    "gcv = GridSearchCV(RFR, parameters_grid, scoring='neg_mean_absolute_error')\n",
    "\n",
    "gcv.fit(features_train, labels_train.reshape(-1))\n",
    "\n",
    "print(gcv.best_score_)\n",
    "print(gcv.best_params_)"
   ]
  },
  {
   "cell_type": "code",
   "execution_count": 256,
   "metadata": {
    "collapsed": false
   },
   "outputs": [
    {
     "name": "stdout",
     "output_type": "stream",
     "text": [
      "0.0238355953798\n"
     ]
    }
   ],
   "source": [
    "RFR = RandomForestRegressor(n_estimators=300, min_samples_split=2, min_samples_leaf=1, n_jobs=-1, random_state=23)\n",
    "#RFR = gcv.best_estimator_ \n",
    "RFR.fit(features_train, labels_train.reshape(-1))\n",
    "\n",
    "RFR_prediction = RFR.predict(features_test)\n",
    "\n",
    "print(mean_absolute_error(labels_test, RFR_prediction))"
   ]
  },
  {
   "cell_type": "markdown",
   "metadata": {},
   "source": [
    "### XGBoost"
   ]
  },
  {
   "cell_type": "code",
   "execution_count": 250,
   "metadata": {
    "collapsed": false
   },
   "outputs": [
    {
     "name": "stdout",
     "output_type": "stream",
     "text": [
      "-0.0230161950111\n",
      "{'learning_rate': 0.1, 'max_depth': 3, 'n_estimators': 350}\n",
      "Wall time: 1min 22s\n"
     ]
    }
   ],
   "source": [
    "%%time\n",
    "XGB = xgboost.XGBRegressor()\n",
    "\n",
    "parameters_grid = {\n",
    "    #\"n_estimators\": [50, 100, 150, 200, 250, 300],\n",
    "    \"n_estimators\": [250, 300, 350],\n",
    "    #\"max_depth\": [2, 3, 4, 5, 6, 7, 8],\n",
    "    \"max_depth\": [3, 4],\n",
    "    #\"learning_rate\": [0.1, 0.05, 0.01]\n",
    "    \"learning_rate\": [0.1],\n",
    "}\n",
    "\n",
    "gcv = GridSearchCV(XGB, parameters_grid, scoring='neg_mean_absolute_error')\n",
    "\n",
    "gcv.fit(features_train, labels_train.reshape(-1))\n",
    "\n",
    "print(gcv.best_score_)\n",
    "print(gcv.best_params_)"
   ]
  },
  {
   "cell_type": "code",
   "execution_count": 257,
   "metadata": {
    "collapsed": false
   },
   "outputs": [
    {
     "name": "stdout",
     "output_type": "stream",
     "text": [
      "0.0208183045147\n"
     ]
    }
   ],
   "source": [
    "XGB = xgboost.XGBRegressor(max_depth=3, n_estimators=350)\n",
    "#XGB = gcv.best_estimator_\n",
    "XGB.fit(features_train, labels_train.reshape(-1))\n",
    "\n",
    "XGB_prediction = XGB.predict(features_test)\n",
    "\n",
    "print(mean_absolute_error(labels_test, XGB_prediction))"
   ]
  },
  {
   "cell_type": "code",
   "execution_count": 258,
   "metadata": {
    "collapsed": false
   },
   "outputs": [
    {
     "name": "stdout",
     "output_type": "stream",
     "text": [
      "0.021131190807\n"
     ]
    }
   ],
   "source": [
    "avg_prediction = (GBR_prediction + RFR_prediction + XGB_prediction) / 3.0\n",
    "\n",
    "print(mean_absolute_error(labels_test, avg_prediction))"
   ]
  },
  {
   "cell_type": "markdown",
   "metadata": {
    "collapsed": true
   },
   "source": [
    "### Neural Network"
   ]
  },
  {
   "cell_type": "code",
   "execution_count": 97,
   "metadata": {
    "collapsed": true
   },
   "outputs": [],
   "source": [
    "# Transpose to have the shape of (num_of_features, num_of_examples)\n",
    "features_train = features_train.T\n",
    "labels_train = labels_train.T\n",
    "features_test = features_test.T\n",
    "labels_test = labels_test.T"
   ]
  },
  {
   "cell_type": "code",
   "execution_count": 98,
   "metadata": {
    "collapsed": false,
    "scrolled": true
   },
   "outputs": [],
   "source": [
    "# Helper functions\n",
    "def create_placeholders(n_x, n_y):\n",
    "    \"\"\"\n",
    "    Creates the placeholders for the tensorflow session.\n",
    "    \n",
    "    Arguments:\n",
    "    n_x -- scalar, size of a input data vector \n",
    "    n_y -- scalar, size of output data\n",
    "    \n",
    "    Returns:\n",
    "    X -- placeholder for the data input, of shape [n_x, None] and dtype \"float\"\n",
    "    Y -- placeholder for the input labels, of shape [n_y, None] and dtype \"float\"\n",
    "    \"\"\"\n",
    "\n",
    "    X = tf.placeholder(tf.float32, shape=(n_x, None), name = \"X\")\n",
    "    Y = tf.placeholder(tf.float32, shape=(n_y, None), name = \"Y\")\n",
    "    LR = tf.placeholder(tf.float32, name = \"LR\")\n",
    "    \n",
    "    return X, Y, LR"
   ]
  },
  {
   "cell_type": "code",
   "execution_count": 99,
   "metadata": {
    "collapsed": false
   },
   "outputs": [],
   "source": [
    "# Helper functions\n",
    "def initialize_parameters():\n",
    "    \"\"\"\n",
    "    Initializes parameters to build a neural network with tensorflow. \n",
    "    \n",
    "    Returns:\n",
    "    parameters -- a dictionary of tensors containing W1, b1, W2, b2, W3, b3, W4, b4, W5, b5\n",
    "    \"\"\"\n",
    "    \n",
    "    tf.set_random_seed(23)                   \n",
    "        \n",
    "    W1 = tf.get_variable(\"W1\", [128, 676], initializer = tf.contrib.layers.xavier_initializer(seed = 1))\n",
    "    b1 = tf.get_variable(\"b1\", [128, 1], initializer = tf.zeros_initializer())\n",
    "    W2 = tf.get_variable(\"W2\", [128, 128], initializer = tf.contrib.layers.xavier_initializer(seed = 1))\n",
    "    b2 = tf.get_variable(\"b2\", [128, 1], initializer = tf.zeros_initializer())\n",
    "    W3 = tf.get_variable(\"W3\", [128, 128], initializer = tf.contrib.layers.xavier_initializer(seed = 1))\n",
    "    b3 = tf.get_variable(\"b3\", [128, 1], initializer = tf.zeros_initializer())\n",
    "    W4 = tf.get_variable(\"W4\", [128, 128], initializer = tf.contrib.layers.xavier_initializer(seed = 1))\n",
    "    b4 = tf.get_variable(\"b4\", [128, 1], initializer = tf.zeros_initializer())\n",
    "    W5 = tf.get_variable(\"W5\", [1, 128], initializer = tf.contrib.layers.xavier_initializer(seed = 1))\n",
    "    b5 = tf.get_variable(\"b5\", [1, 1], initializer = tf.zeros_initializer())\n",
    "\n",
    "    parameters = {\"W1\": W1,\n",
    "                  \"b1\": b1,\n",
    "                  \"W2\": W2,\n",
    "                  \"b2\": b2,\n",
    "                  \"W3\": W3,\n",
    "                  \"b3\": b3,\n",
    "                  \"W4\": W4,\n",
    "                  \"b4\": b4,\n",
    "                  \"W5\": W5,\n",
    "                  \"b5\": b5}\n",
    "    \n",
    "    return parameters"
   ]
  },
  {
   "cell_type": "code",
   "execution_count": 100,
   "metadata": {
    "collapsed": true
   },
   "outputs": [],
   "source": [
    "# Helper functions\n",
    "def forward_propagation(X, parameters, keep_prob):\n",
    "    \"\"\"\n",
    "    Implements the forward propagation for the model: LINEAR -> RELU -> etc.\n",
    "    \n",
    "    Arguments:\n",
    "    X -- input dataset placeholder, of shape (input size, number of examples)\n",
    "    parameters -- python dictionary containing your parameters \"W1\", \"b1\", \"W2\", \"b2\", \"W3\", \"b3\"\n",
    "                  the shapes are given in initialize_parameters\n",
    "\n",
    "    Returns:\n",
    "    Z3 -- the output of the last LINEAR unit\n",
    "    \"\"\"\n",
    "    \n",
    "    # Retrieve the parameters from the dictionary \"parameters\" \n",
    "    W1 = parameters['W1']\n",
    "    b1 = parameters['b1']\n",
    "    W2 = parameters['W2']\n",
    "    b2 = parameters['b2']\n",
    "    W3 = parameters['W3']\n",
    "    b3 = parameters['b3']\n",
    "    W4 = parameters['W4']\n",
    "    b4 = parameters['b4']\n",
    "    W5 = parameters['W5']\n",
    "    b5 = parameters['b5']\n",
    "    \n",
    "    # The model\n",
    "    Z1 = tf.add(tf.matmul(W1, X), b1)                                              \n",
    "    A1 = tf.nn.dropout(tf.nn.relu(Z1), keep_prob)\n",
    "    #A1 = tf.nn.relu(Z1)\n",
    "    \n",
    "    Z2 = tf.add(tf.matmul(W2, A1), b2)                                              \n",
    "    A2 = tf.nn.dropout(tf.nn.relu(Z2), keep_prob)\n",
    "    #A2 = tf.nn.relu(Z2)\n",
    "    \n",
    "    Z3 = tf.add(tf.matmul(W3, A2), b3)\n",
    "    A3 = tf.nn.dropout(tf.nn.relu(Z3), keep_prob)\n",
    "    #A3 = tf.nn.relu(Z3)\n",
    "    \n",
    "    Z4 = tf.add(tf.matmul(W4, A3), b4)    \n",
    "    A4 = tf.nn.dropout(tf.nn.relu(Z4), keep_prob)\n",
    "    #A4 = tf.nn.relu(Z4)\n",
    "    \n",
    "    Z5 = tf.add(tf.matmul(W5, A4), b5)    \n",
    "    \n",
    "    return Z5"
   ]
  },
  {
   "cell_type": "code",
   "execution_count": 101,
   "metadata": {
    "collapsed": true
   },
   "outputs": [],
   "source": [
    "# Helper functions\n",
    "def compute_cost(Yhat, Y, parameters, lambd=0.0):\n",
    "    \"\"\"\n",
    "    Computes the cost\n",
    "    \n",
    "    Arguments:\n",
    "    Yhat -- output of forward propagation (output of the last LINEAR unit), of shape (6, number of examples)\n",
    "    Y -- \"true\" labels vector placeholder, same shape as Z3\n",
    "    \n",
    "    Returns:\n",
    "    cost - Tensor of the cost function\n",
    "    \"\"\"\n",
    "    \n",
    "    # Retrieve the parameters from the dictionary \"parameters\" \n",
    "    W1 = parameters['W1']\n",
    "    W2 = parameters['W2']\n",
    "    W3 = parameters['W3']\n",
    "    W4 = parameters['W4']\n",
    "    W5 = parameters['W5']\n",
    "    \n",
    "    cost = tf.reduce_mean(\n",
    "        tf.nn.l2_loss(Yhat - Y) +\n",
    "        lambd*tf.nn.l2_loss(W1) + lambd*tf.nn.l2_loss(W2) + \n",
    "        lambd*tf.nn.l2_loss(W3) + lambd*tf.nn.l2_loss(W4) +\n",
    "        lambd*tf.nn.l2_loss(W5))\n",
    "    \n",
    "    return cost"
   ]
  },
  {
   "cell_type": "code",
   "execution_count": 102,
   "metadata": {
    "collapsed": true
   },
   "outputs": [],
   "source": [
    "# Helper functions"
   ]
  },
  {
   "cell_type": "code",
   "execution_count": 103,
   "metadata": {
    "collapsed": true
   },
   "outputs": [],
   "source": [
    "# Helper functions"
   ]
  },
  {
   "cell_type": "code",
   "execution_count": 104,
   "metadata": {
    "collapsed": true
   },
   "outputs": [],
   "source": [
    "# Helper functions"
   ]
  },
  {
   "cell_type": "code",
   "execution_count": 105,
   "metadata": {
    "collapsed": false
   },
   "outputs": [],
   "source": [
    "# Helper functions\n",
    "def model(X_train, Y_train, X_test, Y_test, learning_rate=0.001, lambd=0.0, keep_prob=1.0,\n",
    "          num_epochs=1000, minibatch_size=64, print_cost=True):\n",
    "    \"\"\"\n",
    "    Implements a three-layer tensorflow neural network: LINEAR->RELU->LINEAR->RELU->LINEAR\n",
    "    \n",
    "    Arguments:\n",
    "    X_train -- training set, of shape (input size = 12288, number of training examples = 1080)\n",
    "    Y_train -- test set, of shape (output size = 6, number of training examples = 1080)\n",
    "    X_test -- training set, of shape (input size = 12288, number of training examples = 120)\n",
    "    Y_test -- test set, of shape (output size = 6, number of test examples = 120)\n",
    "    learning_rate -- learning rate of the optimization\n",
    "    lambd -- regularization parameter\n",
    "    num_epochs -- number of epochs of the optimization loop\n",
    "    minibatch_size -- size of a minibatch\n",
    "    print_cost -- True to print the cost every 100 epochs\n",
    "    \n",
    "    Returns:\n",
    "    parameters -- parameters learnt by the model. They can then be used to predict.\n",
    "    \"\"\"\n",
    "    \n",
    "    ops.reset_default_graph()                         # to be able to rerun the model without overwriting tf variables\n",
    "    tf.set_random_seed(1)                             # to keep consistent results\n",
    "    seed = 3                                          # to keep consistent results\n",
    "    (n_x, m) = X_train.shape                          # (n_x: input size, m : number of examples in the train set)\n",
    "    n_y = Y_train.shape[0]                            # n_y : output size\n",
    "    costs = []                                        # To keep track of the cost\n",
    "    \n",
    "    # To keep track of MAE on test set\n",
    "    test_mae = [] \n",
    "    \n",
    "    # Create Placeholders of shape (n_x, n_y)\n",
    "    X, Y, LR = create_placeholders(n_x, n_y)\n",
    "\n",
    "    # Initialize parameters\n",
    "    parameters = initialize_parameters()\n",
    "    \n",
    "    # Forward propagation: Build the forward propagation in the tensorflow graph\n",
    "    last_activation = forward_propagation(X, parameters, keep_prob)\n",
    "    \n",
    "    # Cost function: Add cost function to tensorflow graph\n",
    "    cost = compute_cost(last_activation, Y, parameters, lambd)\n",
    "    \n",
    "    # Backpropagation: Define the tensorflow optimizer. Use an AdamOptimizer.\n",
    "    optimizer = tf.train.AdamOptimizer(learning_rate=LR).minimize(cost)\n",
    "    \n",
    "    # Initialize all the variables\n",
    "    init = tf.global_variables_initializer()\n",
    "\n",
    "    # Start the session to compute the tensorflow graph\n",
    "    with tf.Session() as sess:\n",
    "        \n",
    "        # Run the initialization\n",
    "        sess.run(init)\n",
    "        \n",
    "        # Do the training loop\n",
    "        for iteration in range(num_epochs):\n",
    "            \n",
    "            # Floating learning rate\n",
    "            #if ((iteration > 0) and (iteration % 5000 == 0)):\n",
    "            #    learning_rate = learning_rate / 1.5\n",
    "\n",
    "            # Run the session to execute the \"optimizer\" and the \"cost\", the feedict should contain a minibatch for (X,Y).\n",
    "            _ , iteration_cost = sess.run([optimizer, cost], feed_dict={X: X_train, Y: Y_train, LR: learning_rate})\n",
    "                \n",
    "            # Print the cost \n",
    "            #print(iteration_cost)\n",
    "            \n",
    "            if (iteration % 1000 == 0):\n",
    "                print (\"Cost at iteration %i: %f\" % (iteration, iteration_cost))\n",
    "            if (iteration % 25 == 0):\n",
    "                costs.append(iteration_cost)\n",
    "                \n",
    "                # Compute MAE on test set\n",
    "                yhat, _ = sess.run([last_activation, cost], feed_dict={X: X_test, Y: Y_test, LR: learning_rate})\n",
    "                mae = mean_absolute_error(Y_test.T, yhat.T)\n",
    "                test_mae.append(mae)\n",
    "                \n",
    "        # Results Visualization\n",
    "        fig, axes = plt.subplots(nrows=1, ncols=2, figsize=(10, 5))\n",
    "\n",
    "        # plot the cost\n",
    "        plt.subplot(1, 2, 1)\n",
    "        plt.plot(costs, 'b-')\n",
    "        plt.ylabel('cost')\n",
    "        plt.xlabel('iterations (per tens)')\n",
    "        plt.title(\"Learning rate =\" + str(learning_rate))\n",
    "\n",
    "        # plot MAE on test set\n",
    "        plt.subplot(1, 2, 2)\n",
    "        plt.plot(test_mae, 'r-')\n",
    "        plt.ylabel('Mean Absolute Error')\n",
    "        plt.xlabel('Iterations')\n",
    "        plt.title(\"Mean Absolute Error on Test Data\")\n",
    "\n",
    "        plt.show()  \n",
    "\n",
    "        # lets save the parameters in a variable\n",
    "        parameters = sess.run(parameters)\n",
    "        print (\"Parameters have been trained!\")\n",
    "\n",
    "        # Calculate the correct predictions\n",
    "        #correct_prediction = tf.equal(tf.argmax(tf.nn.sigmoid(Z3)), tf.argmax(Y))\n",
    "        \n",
    "        # Accuracy on train data\n",
    "        #yhat = tf.nn.sigmoid(Z3)\n",
    "        #prediction = sess.run([yhat], feed_dict={X: X_train, Y: Y_train})\n",
    "        \n",
    "        #print(\"Accuracy on train data:\", accuracy_score(Y_train.reshape(-1), np.round(prediction[0]).reshape(-1)))\n",
    "        print(\"Final loss on train data:\", iteration_cost)\n",
    "        print(\"Minimum MAE on test data:\", np.min(test_mae))\n",
    "        print(\"Final MAE on test data:\", test_mae[-1])\n",
    "        \n",
    "        # Accuracy on test data\n",
    "        yhat, test_cost = sess.run([last_activation, cost], feed_dict={X: X_test, Y: Y_test, LR: learning_rate})\n",
    "        print(\"Loss on test data:\", test_cost)\n",
    "        \n",
    "        #print(\"Accuracy on test data:\", accuracy_score(Y_test.reshape(-1), np.round(prediction[0]).reshape(-1)))\n",
    "        \n",
    "\n",
    "        # Calculate accuracy on the test set\n",
    "        #accuracy = tf.reduce_mean(tf.cast(correct_prediction, \"float\"))\n",
    "\n",
    "        #print (\"Train Accuracy:\", accuracy.eval({X: X_train, Y: Y_train}))\n",
    "        #print (\"Test Accuracy:\", accuracy.eval({X: X_test, Y: Y_test}))\n",
    "        \n",
    "        #yhat = sess.run([Z3], feed_dict={X: X_train, Y: Y_train})\n",
    "        return parameters, yhat"
   ]
  },
  {
   "cell_type": "code",
   "execution_count": 107,
   "metadata": {
    "collapsed": false
   },
   "outputs": [
    {
     "name": "stdout",
     "output_type": "stream",
     "text": [
      "Cost at iteration 0: 346.557617\n",
      "Cost at iteration 1000: 50.803322\n",
      "Cost at iteration 2000: 12.919384\n",
      "Cost at iteration 3000: 4.863712\n",
      "Cost at iteration 4000: 2.575093\n",
      "Cost at iteration 5000: 1.938537\n",
      "Cost at iteration 6000: 1.789992\n",
      "Cost at iteration 7000: 1.759785\n",
      "Cost at iteration 8000: 1.753380\n",
      "Cost at iteration 9000: 1.751300\n"
     ]
    },
    {
     "data": {
      "image/png": "[encoded data removed]",
      "text/plain": [
       "<matplotlib.figure.Figure at 0xd71de10>"
      ]
     },
     "metadata": {},
     "output_type": "display_data"
    },
    {
     "name": "stdout",
     "output_type": "stream",
     "text": [
      "Parameters have been trained!\n",
      "Final loss on train data: 1.75021\n",
      "Minimum MAE on test data: 0.0240845043779\n",
      "Final MAE on test data: 0.0241078015576\n",
      "Loss on test data: 1.54015\n",
      "Wall time: 5min 56s\n"
     ]
    }
   ],
   "source": [
    "%%time\n",
    "#parameters, prediction = model(features_train, labels_train, features_test, labels_test, learning_rate=0.001, num_epochs=6000)\n",
    "parameters, prediction = model(features_train, labels_train, features_test, labels_test, learning_rate=0.0001, lambd=1.0, num_epochs=10000)"
   ]
  },
  {
   "cell_type": "code",
   "execution_count": 329,
   "metadata": {
    "collapsed": false
   },
   "outputs": [
    {
     "name": "stdout",
     "output_type": "stream",
     "text": [
      "0.0299116915074\n"
     ]
    }
   ],
   "source": [
    "print(mean_absolute_error(labels_test.T, prediction.T))"
   ]
  },
  {
   "cell_type": "code",
   "execution_count": null,
   "metadata": {
    "collapsed": true
   },
   "outputs": [],
   "source": []
  },
  {
   "cell_type": "code",
   "execution_count": 145,
   "metadata": {
    "collapsed": false
   },
   "outputs": [
    {
     "name": "stdout",
     "output_type": "stream",
     "text": [
      "Cost at iteration 0: 48.862225\n",
      "Cost at iteration 1000: 1.419973\n",
      "Cost at iteration 2000: 0.669552\n",
      "Cost at iteration 3000: 0.649601\n",
      "Cost at iteration 4000: 0.347606\n",
      "Cost at iteration 5000: 0.402187\n",
      "Cost at iteration 6000: 0.166111\n",
      "Cost at iteration 7000: 0.206471\n",
      "Cost at iteration 8000: 0.195775\n",
      "Cost at iteration 9000: 0.183428\n"
     ]
    },
    {
     "data": {
      "image/png": "[encoded data removed]",
      "text/plain": [
       "<matplotlib.figure.Figure at 0x120fccc0>"
      ]
     },
     "metadata": {},
     "output_type": "display_data"
    },
    {
     "name": "stdout",
     "output_type": "stream",
     "text": [
      "Parameters have been trained!\n",
      "Final loss on train data: 0.155052\n",
      "Minimum MAE on test data: 0.0288281324421\n",
      "Final MAE on test data: 0.028894191538\n",
      "Loss on test data: 0.380124\n",
      "Wall time: 3min 22s\n"
     ]
    }
   ],
   "source": [
    "%%time\n",
    "parameters, prediction = model(features_train, labels_train, features_test, labels_test, learning_rate=0.0001, keep_prob=0.95, num_epochs=10000)\n",
    "#parameters, prediction = model(features_train, labels_train, features_test, labels_test, learning_rate=0.0001, lambd=0.00001, num_epochs=30000)"
   ]
  },
  {
   "cell_type": "code",
   "execution_count": null,
   "metadata": {
    "collapsed": true
   },
   "outputs": [],
   "source": []
  },
  {
   "cell_type": "code",
   "execution_count": null,
   "metadata": {
    "collapsed": true
   },
   "outputs": [],
   "source": []
  },
  {
   "cell_type": "code",
   "execution_count": null,
   "metadata": {
    "collapsed": true
   },
   "outputs": [],
   "source": []
  },
  {
   "cell_type": "code",
   "execution_count": 119,
   "metadata": {
    "collapsed": false
   },
   "outputs": [
    {
     "name": "stdout",
     "output_type": "stream",
     "text": [
      "Cost at iteration 0: 26.388094\n",
      "Cost at iteration 1000: 0.792221\n",
      "Cost at iteration 2000: 0.443219\n",
      "Cost at iteration 3000: 0.335998\n",
      "Cost at iteration 4000: 0.254119\n",
      "Cost at iteration 5000: 0.163990\n",
      "Cost at iteration 6000: 0.169059\n",
      "Cost at iteration 7000: 0.165216\n",
      "Cost at iteration 8000: 0.127453\n",
      "Cost at iteration 9000: 0.126100\n",
      "Cost at iteration 10000: 0.151108\n",
      "Cost at iteration 11000: 0.170127\n",
      "Cost at iteration 12000: 0.100209\n",
      "Cost at iteration 13000: 0.116568\n",
      "Cost at iteration 14000: 0.127669\n",
      "Cost at iteration 15000: 0.118478\n",
      "Cost at iteration 16000: 0.121763\n",
      "Cost at iteration 17000: 0.124968\n",
      "Cost at iteration 18000: 0.105371\n",
      "Cost at iteration 19000: 0.096445\n",
      "Cost at iteration 20000: 0.082409\n",
      "Cost at iteration 21000: 0.133226\n",
      "Cost at iteration 22000: 0.128450\n",
      "Cost at iteration 23000: 0.091469\n",
      "Cost at iteration 24000: 0.128655\n",
      "Cost at iteration 25000: 0.099019\n",
      "Cost at iteration 26000: 0.087220\n",
      "Cost at iteration 27000: 0.100083\n",
      "Cost at iteration 28000: 0.098343\n",
      "Cost at iteration 29000: 0.104682\n"
     ]
    },
    {
     "data": {
      "image/png": "[encoded data removed]",
      "text/plain": [
       "<matplotlib.figure.Figure at 0x11ccae48>"
      ]
     },
     "metadata": {},
     "output_type": "display_data"
    },
    {
     "name": "stdout",
     "output_type": "stream",
     "text": [
      "Parameters have been trained!\n",
      "Final loss on train data: 0.091203\n",
      "Minimum MAE on test data: 0.026043970016\n",
      "Final MAE on test data: 0.0298247721845\n",
      "Loss on test data: 0.437494\n",
      "Wall time: 13min 40s\n"
     ]
    }
   ],
   "source": [
    "%%time\n",
    "parameters, prediction = model(features_train, labels_train, features_test, labels_test, learning_rate=0.0001, keep_prob=0.9, num_epochs=30000)"
   ]
  },
  {
   "cell_type": "code",
   "execution_count": 120,
   "metadata": {
    "collapsed": false
   },
   "outputs": [
    {
     "name": "stdout",
     "output_type": "stream",
     "text": [
      "Cost at iteration 0: 45.133015\n",
      "Cost at iteration 1000: 1.762749\n",
      "Cost at iteration 2000: 0.915429\n",
      "Cost at iteration 3000: 0.641733\n",
      "Cost at iteration 4000: 0.486918\n",
      "Cost at iteration 5000: 0.427491\n",
      "Cost at iteration 6000: 0.389210\n",
      "Cost at iteration 7000: 0.391227\n",
      "Cost at iteration 8000: 0.331236\n",
      "Cost at iteration 9000: 0.346398\n",
      "Cost at iteration 10000: 0.300632\n",
      "Cost at iteration 11000: 0.369913\n",
      "Cost at iteration 12000: 0.298553\n",
      "Cost at iteration 13000: 0.272920\n",
      "Cost at iteration 14000: 0.235711\n",
      "Cost at iteration 15000: 0.265265\n",
      "Cost at iteration 16000: 0.238271\n",
      "Cost at iteration 17000: 0.215761\n",
      "Cost at iteration 18000: 0.261030\n",
      "Cost at iteration 19000: 0.208971\n",
      "Cost at iteration 20000: 0.210864\n",
      "Cost at iteration 21000: 0.244673\n",
      "Cost at iteration 22000: 0.215305\n",
      "Cost at iteration 23000: 0.265650\n",
      "Cost at iteration 24000: 0.223003\n",
      "Cost at iteration 25000: 0.221026\n",
      "Cost at iteration 26000: 0.223159\n",
      "Cost at iteration 27000: 0.300667\n",
      "Cost at iteration 28000: 0.244310\n",
      "Cost at iteration 29000: 0.267568\n"
     ]
    },
    {
     "data": {
      "image/png": "[encoded data removed]",
      "text/plain": [
       "<matplotlib.figure.Figure at 0x137cee48>"
      ]
     },
     "metadata": {},
     "output_type": "display_data"
    },
    {
     "name": "stdout",
     "output_type": "stream",
     "text": [
      "Parameters have been trained!\n",
      "Final loss on train data: 0.245551\n",
      "Minimum MAE on test data: 0.0297756180267\n",
      "Final MAE on test data: 0.0313526047671\n",
      "Loss on test data: 0.572326\n",
      "Wall time: 13min 42s\n"
     ]
    }
   ],
   "source": [
    "%%time\n",
    "parameters, prediction = model(features_train, labels_train, features_test, labels_test, learning_rate=0.0001, keep_prob=0.8, num_epochs=30000)"
   ]
  },
  {
   "cell_type": "code",
   "execution_count": null,
   "metadata": {
    "collapsed": true
   },
   "outputs": [],
   "source": []
  },
  {
   "cell_type": "code",
   "execution_count": null,
   "metadata": {
    "collapsed": true
   },
   "outputs": [],
   "source": []
  },
  {
   "cell_type": "code",
   "execution_count": 1242,
   "metadata": {
    "collapsed": false
   },
   "outputs": [
    {
     "data": {
      "text/plain": [
       "array([ 163840.75     ,  170094.546875 ,  163416.640625 ,  111271.9609375,\n",
       "        151992.046875 ,  218355.8125   ,   99572.6875   ,  386877.8125   ,\n",
       "        152057.734375 ,  364481.5625   ,  162330.046875 ,  283493.375    ,\n",
       "        295168.5625   ,  149298.546875 ,  111930.546875 ,  137187.53125  ,\n",
       "        139007.5      ,  154961.375    ,   92957.28125  ,   93675.3203125], dtype=float32)"
      ]
     },
     "execution_count": 1242,
     "metadata": {},
     "output_type": "execute_result"
    }
   ],
   "source": [
    "(prediction * labels_max).reshape(-1)[:20]"
   ]
  },
  {
   "cell_type": "code",
   "execution_count": 1243,
   "metadata": {
    "collapsed": false
   },
   "outputs": [
    {
     "data": {
      "text/plain": [
       "array([ 186000.,  214500.,  177000.,  185000.,   60000.,  223500.,\n",
       "         64500.,  437154.,  135000.,  440000.,  182900.,  207500.,\n",
       "        257500.,  164500.,  121000.,   34900.,  145000.,  175000.,\n",
       "         79900.,  118500.])"
      ]
     },
     "execution_count": 1243,
     "metadata": {},
     "output_type": "execute_result"
    }
   ],
   "source": [
    "(labels_test * labels_max).reshape(-1)[:20]"
   ]
  },
  {
   "cell_type": "code",
   "execution_count": 1260,
   "metadata": {
    "collapsed": false
   },
   "outputs": [
    {
     "name": "stdout",
     "output_type": "stream",
     "text": [
      "0.0274287305966\n"
     ]
    }
   ],
   "source": [
    "print(mean_absolute_error(labels_test, prediction))"
   ]
  },
  {
   "cell_type": "code",
   "execution_count": 100,
   "metadata": {
    "collapsed": false
   },
   "outputs": [],
   "source": []
  },
  {
   "cell_type": "code",
   "execution_count": 101,
   "metadata": {
    "collapsed": false
   },
   "outputs": [],
   "source": []
  },
  {
   "cell_type": "code",
   "execution_count": null,
   "metadata": {
    "collapsed": false,
    "scrolled": true
   },
   "outputs": [],
   "source": []
  },
  {
   "cell_type": "code",
   "execution_count": null,
   "metadata": {
    "collapsed": false,
    "scrolled": true
   },
   "outputs": [],
   "source": []
  },
  {
   "cell_type": "code",
   "execution_count": null,
   "metadata": {
    "collapsed": false
   },
   "outputs": [],
   "source": []
  },
  {
   "cell_type": "code",
   "execution_count": null,
   "metadata": {
    "collapsed": true
   },
   "outputs": [],
   "source": []
  },
  {
   "cell_type": "code",
   "execution_count": null,
   "metadata": {
    "collapsed": true
   },
   "outputs": [],
   "source": []
  },
  {
   "cell_type": "code",
   "execution_count": null,
   "metadata": {
    "collapsed": true
   },
   "outputs": [],
   "source": []
  },
  {
   "cell_type": "code",
   "execution_count": null,
   "metadata": {
    "collapsed": true
   },
   "outputs": [],
   "source": []
  },
  {
   "cell_type": "code",
   "execution_count": null,
   "metadata": {
    "collapsed": true
   },
   "outputs": [],
   "source": []
  },
  {
   "cell_type": "code",
   "execution_count": null,
   "metadata": {
    "collapsed": true
   },
   "outputs": [],
   "source": []
  },
  {
   "cell_type": "code",
   "execution_count": null,
   "metadata": {
    "collapsed": true
   },
   "outputs": [],
   "source": []
  },
  {
   "cell_type": "code",
   "execution_count": null,
   "metadata": {
    "collapsed": true
   },
   "outputs": [],
   "source": []
  },
  {
   "cell_type": "code",
   "execution_count": null,
   "metadata": {
    "collapsed": true
   },
   "outputs": [],
   "source": []
  },
  {
   "cell_type": "code",
   "execution_count": null,
   "metadata": {
    "collapsed": true
   },
   "outputs": [],
   "source": []
  },
  {
   "cell_type": "code",
   "execution_count": null,
   "metadata": {
    "collapsed": true
   },
   "outputs": [],
   "source": []
  },
  {
   "cell_type": "code",
   "execution_count": null,
   "metadata": {
    "collapsed": true
   },
   "outputs": [],
   "source": []
  },
  {
   "cell_type": "code",
   "execution_count": null,
   "metadata": {
    "collapsed": true
   },
   "outputs": [],
   "source": []
  },
  {
   "cell_type": "code",
   "execution_count": null,
   "metadata": {
    "collapsed": false
   },
   "outputs": [],
   "source": []
  },
  {
   "cell_type": "code",
   "execution_count": null,
   "metadata": {
    "collapsed": false
   },
   "outputs": [],
   "source": []
  },
  {
   "cell_type": "code",
   "execution_count": null,
   "metadata": {
    "collapsed": false
   },
   "outputs": [],
   "source": []
  },
  {
   "cell_type": "code",
   "execution_count": null,
   "metadata": {
    "collapsed": true
   },
   "outputs": [],
   "source": []
  },
  {
   "cell_type": "code",
   "execution_count": null,
   "metadata": {
    "collapsed": false
   },
   "outputs": [],
   "source": []
  },
  {
   "cell_type": "code",
   "execution_count": null,
   "metadata": {
    "collapsed": false
   },
   "outputs": [],
   "source": []
  },
  {
   "cell_type": "code",
   "execution_count": null,
   "metadata": {
    "collapsed": false
   },
   "outputs": [],
   "source": []
  },
  {
   "cell_type": "code",
   "execution_count": null,
   "metadata": {
    "collapsed": true
   },
   "outputs": [],
   "source": []
  },
  {
   "cell_type": "code",
   "execution_count": null,
   "metadata": {
    "collapsed": true
   },
   "outputs": [],
   "source": []
  },
  {
   "cell_type": "code",
   "execution_count": null,
   "metadata": {
    "collapsed": true
   },
   "outputs": [],
   "source": []
  },
  {
   "cell_type": "code",
   "execution_count": null,
   "metadata": {
    "collapsed": true
   },
   "outputs": [],
   "source": []
  },
  {
   "cell_type": "code",
   "execution_count": null,
   "metadata": {
    "collapsed": true
   },
   "outputs": [],
   "source": []
  },
  {
   "cell_type": "code",
   "execution_count": null,
   "metadata": {
    "collapsed": true
   },
   "outputs": [],
   "source": []
  },
  {
   "cell_type": "code",
   "execution_count": null,
   "metadata": {
    "collapsed": false
   },
   "outputs": [],
   "source": []
  },
  {
   "cell_type": "code",
   "execution_count": 349,
   "metadata": {
    "collapsed": false
   },
   "outputs": [],
   "source": []
  },
  {
   "cell_type": "code",
   "execution_count": null,
   "metadata": {
    "collapsed": true
   },
   "outputs": [],
   "source": [
    "#\n",
    "# Helpers\n",
    "#\n",
    "def write_to_submission_file(predicted_labels, passenger_ids, out_file=\"submission.csv\",\n",
    "                             target='Survived', index_label=\"PassengerId\"):\n",
    "    \n",
    "    # turn predictions into data frame and save as csv file\n",
    "    predicted_df = pd.DataFrame(predicted_labels,\n",
    "                                index = passenger_ids,\n",
    "                                columns=[target])\n",
    "    predicted_df.to_csv(out_file, index_label=index_label)"
   ]
  }
 ],
 "metadata": {
  "anaconda-cloud": {},
  "kernelspec": {
   "display_name": "Python [conda root]",
   "language": "python",
   "name": "conda-root-py"
  },
  "language_info": {
   "codemirror_mode": {
    "name": "ipython",
    "version": 3
   },
   "file_extension": ".py",
   "mimetype": "text/x-python",
   "name": "python",
   "nbconvert_exporter": "python",
   "pygments_lexer": "ipython3",
   "version": "3.5.2"
  }
 },
 "nbformat": 4,
 "nbformat_minor": 0
}
